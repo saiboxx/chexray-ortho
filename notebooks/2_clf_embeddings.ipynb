{
 "cells": [
  {
   "cell_type": "markdown",
   "source": [
    "# Embedding Orthogonalization\n"
   ],
   "metadata": {
    "collapsed": false
   }
  },
  {
   "cell_type": "code",
   "execution_count": 1,
   "outputs": [],
   "source": [
    "import torch\n",
    "%load_ext autoreload\n",
    "%autoreload 2\n",
    "\n",
    "import os\n",
    "\n",
    "import numpy as np\n",
    "import statsmodels.api as sm\n",
    "from patsy import dmatrices\n",
    "\n",
    "DATA_DIR = '../data'\n",
    "EMBEDDING_FILE = 'chex_densenet_chex.npy'\n",
    "META_FILE = 'chexpert_meta.csv'\n",
    "\n",
    "REDUCE_DIM = True\n",
    "N_COMPONENTS = 111\n",
    "TARGET_DISEASE = 'Pleural Effusion'"
   ],
   "metadata": {
    "collapsed": false,
    "ExecuteTime": {
     "end_time": "2023-07-31T14:43:38.810337768Z",
     "start_time": "2023-07-31T14:43:37.042588632Z"
    }
   }
  },
  {
   "cell_type": "markdown",
   "source": [
    "## Load Metadata and Embedding"
   ],
   "metadata": {
    "collapsed": false
   }
  },
  {
   "cell_type": "code",
   "execution_count": 2,
   "outputs": [
    {
     "name": "stdout",
     "output_type": "stream",
     "text": [
      "DATASET SIZES: TRAIN 76205 | VAL 12673 | TEST 38240\n"
     ]
    }
   ],
   "source": [
    "from src.utils import get_mimic_meta_data, get_chexpert_meta_data\n",
    "\n",
    "#train_df, val_df, test_df = get_mimic_meta_data(os.path.join(DATA_DIR, META_FILE))\n",
    "train_df, val_df, test_df = get_chexpert_meta_data(DATA_DIR)\n",
    "print(f'DATASET SIZES: TRAIN {len(train_df)} | VAL {len(val_df)} | TEST {len(test_df)}')\n",
    "\n",
    "emb = np.load(os.path.join(DATA_DIR, EMBEDDING_FILE))\n",
    "train_emb = emb[train_df['idx']]\n",
    "test_emb = emb[test_df['idx']]"
   ],
   "metadata": {
    "collapsed": false,
    "ExecuteTime": {
     "end_time": "2023-07-31T14:43:39.684224503Z",
     "start_time": "2023-07-31T14:43:38.812940222Z"
    }
   }
  },
  {
   "cell_type": "markdown",
   "source": [
    "## Apply Dimensionality Reduction"
   ],
   "metadata": {
    "collapsed": false
   }
  },
  {
   "cell_type": "code",
   "execution_count": 3,
   "outputs": [
    {
     "name": "stdout",
     "output_type": "stream",
     "text": [
      "Explained variance: 0.991\n"
     ]
    }
   ],
   "source": [
    "from src.svd import PCA\n",
    "\n",
    "if REDUCE_DIM:\n",
    "    pca = PCA()\n",
    "    pca.fit(train_emb)\n",
    "    print(f'Explained variance: {pca.get_total_variance(N_COMPONENTS):.3f}')\n",
    "\n",
    "    train_emb = pca.transform(train_emb, num_components=N_COMPONENTS)\n",
    "    test_emb = pca.transform(test_emb, num_components=N_COMPONENTS)\n",
    "else:\n",
    "    print('No dimensionality reduction was applied.')"
   ],
   "metadata": {
    "collapsed": false,
    "ExecuteTime": {
     "end_time": "2023-07-31T14:43:51.934621065Z",
     "start_time": "2023-07-31T14:43:39.686326271Z"
    }
   }
  },
  {
   "cell_type": "code",
   "execution_count": 4,
   "outputs": [
    {
     "data": {
      "text/plain": "<Figure size 640x480 with 1 Axes>",
      "image/png": "[encoded data removed]"
     },
     "metadata": {},
     "output_type": "display_data"
    }
   ],
   "source": [
    "import matplotlib.pyplot as plt\n",
    "\n",
    "variance_ratio = pca.explained_variance_ratio_\n",
    "plt.scatter(range(len(variance_ratio)), variance_ratio)\n",
    "plt.show()"
   ],
   "metadata": {
    "collapsed": false,
    "ExecuteTime": {
     "end_time": "2023-07-31T14:43:52.652747215Z",
     "start_time": "2023-07-31T14:43:51.934421565Z"
    }
   }
  },
  {
   "cell_type": "markdown",
   "source": [
    "## Create Response"
   ],
   "metadata": {
    "collapsed": false
   }
  },
  {
   "cell_type": "code",
   "execution_count": 5,
   "outputs": [],
   "source": [
    "# Follow U-zeros strategy for now\n",
    "train_df['response'] = (train_df[TARGET_DISEASE] == 1).astype(int)\n",
    "test_df['response'] = (test_df[TARGET_DISEASE] == 1).astype(int)"
   ],
   "metadata": {
    "collapsed": false,
    "ExecuteTime": {
     "end_time": "2023-07-31T14:43:52.683288348Z",
     "start_time": "2023-07-31T14:43:52.640471851Z"
    }
   }
  },
  {
   "cell_type": "markdown",
   "source": [
    "## Train Base Classifier"
   ],
   "metadata": {
    "collapsed": false
   }
  },
  {
   "cell_type": "code",
   "execution_count": 6,
   "outputs": [],
   "source": [
    "from src.utils import eval_predictions\n",
    "from src.classifier import get_classifier\n",
    "\n",
    "def eval_classifier(x_train, train_df, x_test, test_df):\n",
    "    model = get_classifier('log_reg')\n",
    "    model.fit(x_train, train_df['response'].tolist())\n",
    "    \n",
    "    train_df['preds'] = model.predict_proba(x_train)[:, 1]\n",
    "    test_df['preds'] = model.predict_proba(x_test)[:, 1]\n",
    "    \n",
    "    print('-'*75 + '\\nTRAINING')\n",
    "    eval_predictions(train_df['response'], train_df['preds'])\n",
    "    print('-'*75 + '\\nTESTING')\n",
    "    eval_predictions(test_df['response'], test_df['preds'])"
   ],
   "metadata": {
    "collapsed": false,
    "ExecuteTime": {
     "end_time": "2023-07-31T14:43:53.380010589Z",
     "start_time": "2023-07-31T14:43:52.670427956Z"
    }
   }
  },
  {
   "cell_type": "code",
   "execution_count": 7,
   "outputs": [
    {
     "name": "stderr",
     "output_type": "stream",
     "text": [
      "[Parallel(n_jobs=-1)]: Using backend ThreadingBackend with 8 concurrent workers.\n"
     ]
    },
    {
     "name": "stdout",
     "output_type": "stream",
     "text": [
      "convergence after 25 epochs took 3 seconds\n",
      "---------------------------------------------------------------------------\n",
      "TRAINING\n",
      "METRICS:\tAUC 0.8076 | ACC 0.7352 | SENS 0.6846 | SPEC 0.7699 | PREC 0.6712 | F1 0.6779\n",
      "---------------------------------------------------------------------------\n",
      "TESTING\n",
      "METRICS:\tAUC 0.8064 | ACC 0.7370 | SENS 0.6859 | SPEC 0.7718 | PREC 0.6722 | F1 0.6790\n"
     ]
    }
   ],
   "source": [
    "eval_classifier(\n",
    "    train_emb, train_df, test_emb, test_df\n",
    ")"
   ],
   "metadata": {
    "collapsed": false,
    "ExecuteTime": {
     "end_time": "2023-07-31T14:43:56.658486578Z",
     "start_time": "2023-07-31T14:43:53.381513220Z"
    }
   }
  },
  {
   "cell_type": "markdown",
   "source": [
    "## Explain Predictions with Protected Features"
   ],
   "metadata": {
    "collapsed": false
   }
  },
  {
   "cell_type": "code",
   "execution_count": 8,
   "outputs": [
    {
     "name": "stdout",
     "output_type": "stream",
     "text": [
      "                            OLS Regression Results                            \n",
      "==============================================================================\n",
      "Dep. Variable:                  preds   R-squared:                       0.030\n",
      "Model:                            OLS   Adj. R-squared:                  0.030\n",
      "Method:                 Least Squares   F-statistic:                     584.0\n",
      "Date:                Mon, 31 Jul 2023   Prob (F-statistic):               0.00\n",
      "Time:                        16:43:57   Log-Likelihood:                -3618.4\n",
      "No. Observations:               76205   AIC:                             7247.\n",
      "Df Residuals:                   76200   BIC:                             7293.\n",
      "Df Model:                           4                                         \n",
      "Covariance Type:            nonrobust                                         \n",
      "=================================================================================\n",
      "                    coef    std err          t      P>|t|      [0.025      0.975]\n",
      "---------------------------------------------------------------------------------\n",
      "Intercept         0.2652      0.004     62.692      0.000       0.257       0.273\n",
      "sex[T.M]         -0.0081      0.002     -4.308      0.000      -0.012      -0.004\n",
      "race[T.BLACK]    -0.0306      0.004     -7.349      0.000      -0.039      -0.022\n",
      "race[T.WHITE]    -0.0094      0.003     -3.621      0.000      -0.015      -0.004\n",
      "age               0.2476      0.005     46.400      0.000       0.237       0.258\n",
      "==============================================================================\n",
      "Omnibus:                   148278.735   Durbin-Watson:                   1.274\n",
      "Prob(Omnibus):                  0.000   Jarque-Bera (JB):             5154.544\n",
      "Skew:                           0.069   Prob(JB):                         0.00\n",
      "Kurtosis:                       1.733   Cond. No.                         11.2\n",
      "==============================================================================\n",
      "\n",
      "Notes:\n",
      "[1] Standard Errors assume that the covariance matrix of the errors is correctly specified.\n",
      "               df       sum_sq     mean_sq            F        PR(>F)\n",
      "sex           1.0     2.247870    2.247870    34.911998  3.464088e-09\n",
      "race          2.0     9.529401    4.764700    74.001246  7.813360e-33\n",
      "age           1.0   138.620719  138.620719  2152.938332  0.000000e+00\n",
      "Residual  76200.0  4906.270946    0.064387          NaN           NaN\n"
     ]
    }
   ],
   "source": [
    "formula = 'preds ~ 1 + age + sex + race'\n",
    "mod = sm.OLS.from_formula(formula, data=train_df).fit()\n",
    "print(mod.summary())\n",
    "print(sm.stats.anova_lm(mod))"
   ],
   "metadata": {
    "collapsed": false,
    "ExecuteTime": {
     "end_time": "2023-07-31T14:43:57.368591576Z",
     "start_time": "2023-07-31T14:43:56.629306962Z"
    }
   }
  },
  {
   "cell_type": "markdown",
   "source": [
    "## Remove Protected Features from Result Prediction\n",
    "\n",
    "Residuals = part of predictions that can't be explained by protected features"
   ],
   "metadata": {
    "collapsed": false
   }
  },
  {
   "cell_type": "code",
   "execution_count": 9,
   "outputs": [
    {
     "name": "stdout",
     "output_type": "stream",
     "text": [
      "                            OLS Regression Results                            \n",
      "==============================================================================\n",
      "Dep. Variable:         preds_adjusted   R-squared:                       0.000\n",
      "Model:                            OLS   Adj. R-squared:                 -0.000\n",
      "Method:                 Least Squares   F-statistic:                 7.063e-12\n",
      "Date:                Mon, 31 Jul 2023   Prob (F-statistic):               1.00\n",
      "Time:                        16:43:57   Log-Likelihood:                -3618.4\n",
      "No. Observations:               76205   AIC:                             7247.\n",
      "Df Residuals:                   76200   BIC:                             7293.\n",
      "Df Model:                           4                                         \n",
      "Covariance Type:            nonrobust                                         \n",
      "=================================================================================\n",
      "                    coef    std err          t      P>|t|      [0.025      0.975]\n",
      "---------------------------------------------------------------------------------\n",
      "Intercept     -1.691e-16      0.004     -4e-14      1.000      -0.008       0.008\n",
      "sex[T.M]       3.101e-16      0.002   1.66e-13      1.000      -0.004       0.004\n",
      "race[T.BLACK]  2.758e-16      0.004   6.64e-14      1.000      -0.008       0.008\n",
      "race[T.WHITE] -5.542e-17      0.003  -2.13e-14      1.000      -0.005       0.005\n",
      "age           -1.792e-16      0.005  -3.36e-14      1.000      -0.010       0.010\n",
      "==============================================================================\n",
      "Omnibus:                   148278.735   Durbin-Watson:                   1.274\n",
      "Prob(Omnibus):                  0.000   Jarque-Bera (JB):             5154.544\n",
      "Skew:                           0.069   Prob(JB):                         0.00\n",
      "Kurtosis:                       1.733   Cond. No.                         11.2\n",
      "==============================================================================\n",
      "\n",
      "Notes:\n",
      "[1] Standard Errors assume that the covariance matrix of the errors is correctly specified.\n"
     ]
    }
   ],
   "source": [
    "train_df['preds_adjusted'] = mod.resid\n",
    "\n",
    "# Check: p-vals should all be one\n",
    "formula = 'preds_adjusted ~ 1 + age + sex + race'\n",
    "mod_check = sm.OLS.from_formula(formula, data=train_df).fit()\n",
    "print(mod_check.summary())"
   ],
   "metadata": {
    "collapsed": false,
    "ExecuteTime": {
     "end_time": "2023-07-31T14:43:57.984020271Z",
     "start_time": "2023-07-31T14:43:57.323509739Z"
    }
   }
  },
  {
   "cell_type": "markdown",
   "source": [
    "## Adjust Embedding"
   ],
   "metadata": {
    "collapsed": false
   }
  },
  {
   "cell_type": "code",
   "execution_count": 10,
   "outputs": [
    {
     "name": "stdout",
     "output_type": "stream",
     "text": [
      "(76205, 5)\n"
     ]
    }
   ],
   "source": [
    "# Create the design matrix\n",
    "formula = '1 ~ age + sex + race'\n",
    "_, x_train = dmatrices(formula, data=train_df)\n",
    "_, x_test = dmatrices(formula, data=test_df)\n",
    "\n",
    "print(x_train.shape)"
   ],
   "metadata": {
    "collapsed": false,
    "ExecuteTime": {
     "end_time": "2023-07-31T14:43:58.725271371Z",
     "start_time": "2023-07-31T14:43:57.969665929Z"
    }
   }
  },
  {
   "cell_type": "code",
   "execution_count": 11,
   "outputs": [],
   "source": [
    "from src.ortho import Orthogonalizator\n",
    "\n",
    "ortho = Orthogonalizator()\n",
    "train_emb_proj = ortho.fit_transform(x_train, train_emb)\n",
    "test_emb_proj = ortho.transform(x_test, test_emb)"
   ],
   "metadata": {
    "collapsed": false,
    "ExecuteTime": {
     "end_time": "2023-07-31T14:43:58.931631043Z",
     "start_time": "2023-07-31T14:43:58.715126520Z"
    }
   }
  },
  {
   "cell_type": "markdown",
   "source": [
    "## Check classifier performance on adjusted embedding"
   ],
   "metadata": {
    "collapsed": false
   }
  },
  {
   "cell_type": "code",
   "execution_count": 12,
   "outputs": [
    {
     "name": "stderr",
     "output_type": "stream",
     "text": [
      "[Parallel(n_jobs=-1)]: Using backend ThreadingBackend with 8 concurrent workers.\n"
     ]
    },
    {
     "name": "stdout",
     "output_type": "stream",
     "text": [
      "convergence after 20 epochs took 2 seconds\n",
      "---------------------------------------------------------------------------\n",
      "TRAINING\n",
      "METRICS:\tAUC 0.8012 | ACC 0.7306 | SENS 0.6690 | SPEC 0.7730 | PREC 0.6691 | F1 0.6691\n",
      "---------------------------------------------------------------------------\n",
      "TESTING\n",
      "METRICS:\tAUC 0.7995 | ACC 0.7287 | SENS 0.6775 | SPEC 0.7637 | PREC 0.6617 | F1 0.6695\n"
     ]
    }
   ],
   "source": [
    "eval_classifier(\n",
    "    train_emb_proj, train_df, test_emb_proj, test_df\n",
    ")"
   ],
   "metadata": {
    "collapsed": false,
    "ExecuteTime": {
     "end_time": "2023-07-31T14:44:01.460919646Z",
     "start_time": "2023-07-31T14:43:58.933359910Z"
    }
   }
  },
  {
   "cell_type": "code",
   "execution_count": 13,
   "outputs": [
    {
     "name": "stdout",
     "output_type": "stream",
     "text": [
      "                            OLS Regression Results                            \n",
      "==============================================================================\n",
      "Dep. Variable:                  preds   R-squared:                       0.000\n",
      "Model:                            OLS   Adj. R-squared:                  0.000\n",
      "Method:                 Least Squares   F-statistic:                     1.265\n",
      "Date:                Mon, 31 Jul 2023   Prob (F-statistic):              0.281\n",
      "Time:                        16:44:01   Log-Likelihood:                -3361.3\n",
      "No. Observations:               76205   AIC:                             6733.\n",
      "Df Residuals:                   76200   BIC:                             6779.\n",
      "Df Model:                           4                                         \n",
      "Covariance Type:            nonrobust                                         \n",
      "=================================================================================\n",
      "                    coef    std err          t      P>|t|      [0.025      0.975]\n",
      "---------------------------------------------------------------------------------\n",
      "Intercept         0.4145      0.004     98.329      0.000       0.406       0.423\n",
      "sex[T.M]         -0.0028      0.002     -1.494      0.135      -0.006       0.001\n",
      "race[T.BLACK]    -0.0051      0.004     -1.242      0.214      -0.013       0.003\n",
      "race[T.WHITE]    -0.0013      0.003     -0.520      0.603      -0.006       0.004\n",
      "age              -0.0071      0.005     -1.328      0.184      -0.017       0.003\n",
      "==============================================================================\n",
      "Omnibus:                   338924.127   Durbin-Watson:                   1.272\n",
      "Prob(Omnibus):                  0.000   Jarque-Bera (JB):             5518.420\n",
      "Skew:                           0.094   Prob(JB):                         0.00\n",
      "Kurtosis:                       1.695   Cond. No.                         11.2\n",
      "==============================================================================\n",
      "\n",
      "Notes:\n",
      "[1] Standard Errors assume that the covariance matrix of the errors is correctly specified.\n",
      "               df       sum_sq   mean_sq         F    PR(>F)\n",
      "sex           1.0     0.127218  0.127218  1.989217  0.158427\n",
      "race          2.0     0.083493  0.041747  0.652764  0.520608\n",
      "age           1.0     0.112862  0.112862  1.764750  0.184037\n",
      "Residual  76200.0  4873.276064  0.063954       NaN       NaN\n"
     ]
    }
   ],
   "source": [
    "formula = 'preds ~ 1 + age + sex + race'\n",
    "mod_fixed = sm.OLS.from_formula(formula, data=train_df).fit()\n",
    "print(mod_fixed.summary())\n",
    "print(sm.stats.anova_lm(mod_fixed))"
   ],
   "metadata": {
    "collapsed": false,
    "ExecuteTime": {
     "end_time": "2023-07-31T14:44:01.918720871Z",
     "start_time": "2023-07-31T14:44:01.463045770Z"
    }
   }
  },
  {
   "cell_type": "markdown",
   "source": [
    "## Add Protected Features to classifier"
   ],
   "metadata": {
    "collapsed": false
   }
  },
  {
   "cell_type": "code",
   "execution_count": 14,
   "outputs": [
    {
     "name": "stderr",
     "output_type": "stream",
     "text": [
      "[Parallel(n_jobs=-1)]: Using backend ThreadingBackend with 8 concurrent workers.\n"
     ]
    },
    {
     "name": "stdout",
     "output_type": "stream",
     "text": [
      "convergence after 19 epochs took 3 seconds\n",
      "---------------------------------------------------------------------------\n",
      "TRAINING\n",
      "METRICS:\tAUC 0.8080 | ACC 0.7352 | SENS 0.6839 | SPEC 0.7704 | PREC 0.6715 | F1 0.6776\n",
      "---------------------------------------------------------------------------\n",
      "TESTING\n",
      "METRICS:\tAUC 0.7808 | ACC 0.7114 | SENS 0.6638 | SPEC 0.7439 | PREC 0.6388 | F1 0.6511\n"
     ]
    }
   ],
   "source": [
    "train_mat = np.concatenate([train_emb_proj, x_train], axis=1)\n",
    "test_mat = np.concatenate([test_emb_proj, x_test], axis=1)\n",
    "\n",
    "eval_classifier(\n",
    "    train_mat, train_df, test_mat, test_df\n",
    ")"
   ],
   "metadata": {
    "collapsed": false,
    "ExecuteTime": {
     "end_time": "2023-07-31T14:44:04.205768823Z",
     "start_time": "2023-07-31T14:44:01.902637667Z"
    }
   }
  },
  {
   "cell_type": "markdown",
   "source": [
    "## Classify protected features"
   ],
   "metadata": {
    "collapsed": false
   }
  },
  {
   "cell_type": "code",
   "execution_count": 15,
   "outputs": [
    {
     "name": "stderr",
     "output_type": "stream",
     "text": [
      "[Parallel(n_jobs=-1)]: Using backend ThreadingBackend with 8 concurrent workers.\n"
     ]
    },
    {
     "name": "stdout",
     "output_type": "stream",
     "text": [
      "convergence after 31 epochs took 3 seconds\n",
      "---------------------------------------------------------------------------\n",
      "TRAINING\n",
      "METRICS:\tAUC 0.8748 | ACC 0.7986 | SENS 0.8457 | SPEC 0.7316 | PREC 0.8178 | F1 0.8315\n",
      "---------------------------------------------------------------------------\n",
      "TESTING\n",
      "METRICS:\tAUC 0.8759 | ACC 0.7980 | SENS 0.8487 | SPEC 0.7273 | PREC 0.8127 | F1 0.8303\n"
     ]
    }
   ],
   "source": [
    "train_df['response'] = (train_df['sex'] == 'M').astype(int)\n",
    "test_df['response'] = (test_df['sex'] == 'M').astype(int)\n",
    "\n",
    "eval_classifier(\n",
    "    train_emb, train_df, test_emb, test_df\n",
    ")"
   ],
   "metadata": {
    "collapsed": false,
    "ExecuteTime": {
     "end_time": "2023-07-31T14:44:08.031969367Z",
     "start_time": "2023-07-31T14:44:04.201622800Z"
    }
   }
  },
  {
   "cell_type": "code",
   "execution_count": 16,
   "outputs": [
    {
     "name": "stderr",
     "output_type": "stream",
     "text": [
      "[Parallel(n_jobs=-1)]: Using backend ThreadingBackend with 8 concurrent workers.\n"
     ]
    },
    {
     "name": "stdout",
     "output_type": "stream",
     "text": [
      "Epoch 1, change: 1.00000000\n",
      "Epoch 2, change: 0.31766404\n",
      "Epoch 3, change: 0.11725101\n",
      "Epoch 4, change: 0.07074989\n",
      "Epoch 5, change: 0.04924126\n",
      "Epoch 6, change: 0.02773905\n",
      "Epoch 7, change: 0.02079799\n",
      "Epoch 8, change: 0.01315545\n",
      "Epoch 9, change: 0.00895822\n",
      "Epoch 10, change: 0.00709491\n",
      "Epoch 11, change: 0.00556310\n",
      "Epoch 12, change: 0.00406803\n",
      "Epoch 13, change: 0.00307153\n",
      "Epoch 14, change: 0.00225187\n",
      "Epoch 15, change: 0.00168430\n",
      "Epoch 16, change: 0.00123781\n",
      "Epoch 17, change: 0.00089388\n",
      "Epoch 18, change: 0.00067271\n",
      "Epoch 19, change: 0.00050510\n",
      "Epoch 20, change: 0.00037454\n",
      "Epoch 21, change: 0.00027573\n",
      "Epoch 22, change: 0.00020600\n",
      "Epoch 23, change: 0.00015066\n",
      "Epoch 24, change: 0.00011114\n",
      "Epoch 1, change: 1.00000000\n",
      "Epoch 2, change: 0.24111999\n",
      "Epoch 3, change: 0.08224027\n",
      "Epoch 4, change: 0.04420441\n",
      "Epoch 5, change: 0.02356983\n",
      "Epoch 6, change: 0.01601729\n",
      "Epoch 7, change: 0.01169566\n",
      "Epoch 8, change: 0.00912904\n",
      "Epoch 9, change: 0.00599837\n",
      "Epoch 10, change: 0.00323015\n",
      "Epoch 11, change: 0.00223782\n",
      "Epoch 12, change: 0.00135420\n",
      "Epoch 13, change: 0.00083236\n",
      "Epoch 14, change: 0.00056325\n",
      "Epoch 15, change: 0.00045239\n",
      "Epoch 16, change: 0.00028664\n",
      "Epoch 17, change: 0.00018185\n",
      "Epoch 18, change: 0.00012432\n",
      "Epoch 19, change: 0.00010184\n",
      "Epoch 1, change: 1.00000000\n",
      "Epoch 2, change: 0.15422771\n",
      "Epoch 3, change: 0.07691311\n",
      "Epoch 4, change: 0.03715978\n",
      "Epoch 5, change: 0.01923524\n",
      "Epoch 6, change: 0.02027001\n",
      "Epoch 7, change: 0.01112916\n",
      "Epoch 8, change: 0.00558486\n",
      "Epoch 9, change: 0.00400346\n",
      "Epoch 10, change: 0.00378746\n",
      "Epoch 11, change: 0.00212734\n",
      "Epoch 12, change: 0.00157897\n",
      "Epoch 13, change: 0.00111458\n",
      "Epoch 14, change: 0.00056826\n",
      "Epoch 15, change: 0.00045400\n",
      "Epoch 16, change: 0.00028665\n",
      "Epoch 17, change: 0.00020164\n",
      "Epoch 18, change: 0.00013861\n",
      "Epoch 1, change: 1.00000000\n",
      "Epoch 2, change: 0.19042040\n",
      "Epoch 3, change: 0.10771182\n",
      "Epoch 4, change: 0.06799199\n",
      "Epoch 5, change: 0.04668053\n",
      "Epoch 6, change: 0.03461587\n",
      "Epoch 7, change: 0.02722011\n",
      "Epoch 8, change: 0.02048427\n",
      "Epoch 9, change: 0.01669164\n",
      "Epoch 10, change: 0.01285972\n",
      "Epoch 11, change: 0.01007972\n",
      "Epoch 12, change: 0.00792514\n",
      "Epoch 13, change: 0.00609040\n",
      "Epoch 14, change: 0.00476015\n",
      "Epoch 15, change: 0.00374817\n",
      "Epoch 16, change: 0.00293939\n",
      "Epoch 17, change: 0.00229970\n",
      "Epoch 18, change: 0.00182309\n",
      "Epoch 19, change: 0.00142919\n",
      "Epoch 20, change: 0.00113327\n",
      "Epoch 21, change: 0.00089421\n",
      "Epoch 22, change: 0.00070972\n",
      "Epoch 23, change: 0.00055561\n",
      "Epoch 24, change: 0.00043595\n",
      "Epoch 25, change: 0.00034135\n",
      "Epoch 26, change: 0.00027228\n",
      "Epoch 27, change: 0.00021235\n",
      "Epoch 28, change: 0.00016780\n",
      "Epoch 29, change: 0.00013261\n",
      "Epoch 30, change: 0.00010363\n",
      "Epoch 1, change: 1.00000000\n",
      "Epoch 2, change: 1.36286124\n",
      "Epoch 3, change: 1.27176771\n",
      "Epoch 4, change: 1.18761082\n",
      "Epoch 5, change: 1.34923984\n",
      "Epoch 6, change: 1.43494742\n",
      "Epoch 7, change: 1.74545087\n",
      "Epoch 8, change: 1.11906547\n",
      "Epoch 9, change: 1.09496301\n",
      "Epoch 10, change: 0.77229767\n",
      "Epoch 11, change: 0.47988469\n",
      "Epoch 12, change: 0.77802014\n",
      "Epoch 13, change: 0.52742156\n",
      "Epoch 14, change: 2.44506191\n",
      "Epoch 15, change: 1.92327579\n",
      "Epoch 16, change: 0.67502110\n",
      "Epoch 17, change: 1.19947238\n",
      "Epoch 18, change: 1.24016380\n",
      "Epoch 19, change: 1.96446416\n",
      "Epoch 20, change: 0.80322191\n",
      "Epoch 21, change: 0.69442121\n",
      "Epoch 22, change: 1.32166594\n",
      "Epoch 23, change: 1.17246582\n",
      "Epoch 24, change: 0.90308159\n",
      "Epoch 25, change: 0.78899075\n",
      "Epoch 26, change: 1.81122992\n",
      "Epoch 27, change: 0.91944414\n",
      "Epoch 28, change: 0.87057431\n",
      "Epoch 29, change: 0.71400243\n",
      "Epoch 30, change: 0.57475148\n",
      "Epoch 31, change: 0.53802261\n",
      "Epoch 32, change: 0.63671636\n",
      "Epoch 33, change: 0.75048459\n",
      "Epoch 34, change: 0.93310248\n",
      "Epoch 35, change: 0.93122172\n",
      "Epoch 36, change: 0.65965685\n",
      "Epoch 37, change: 0.61486274\n",
      "Epoch 38, change: 1.37892161\n",
      "Epoch 39, change: 0.55575680\n",
      "Epoch 40, change: 0.74516985\n",
      "Epoch 41, change: 0.63365940\n",
      "Epoch 42, change: 0.80378599\n",
      "Epoch 43, change: 0.75904528\n",
      "Epoch 44, change: 0.55029926\n",
      "Epoch 45, change: 0.79786721\n",
      "Epoch 46, change: 0.92013945\n",
      "Epoch 47, change: 0.84789761\n",
      "Epoch 48, change: 0.58081894\n",
      "Epoch 49, change: 0.92266613\n",
      "Epoch 50, change: 0.47564834\n",
      "Epoch 51, change: 0.60401827\n",
      "Epoch 52, change: 0.899max_iter reached after 9 seconds\n",
      "---------------------------------------------------------------------------\n",
      "TRAINING\n",
      "METRICS:\tAUC 0.4973 | ACC 0.5875 | SENS 1.0000 | SPEC 0.0000 | PREC 0.5875 | F1 0.7402\n",
      "---------------------------------------------------------------------------\n",
      "TESTING\n",
      "METRICS:\tAUC 0.4466 | ACC 0.5822 | SENS 1.0000 | SPEC 0.0000 | PREC 0.5822 | F1 0.7360\n"
     ]
    },
    {
     "name": "stderr",
     "output_type": "stream",
     "text": [
      "/home/tobias/Projects/chexray-ortho/.venv/lib/python3.11/site-packages/sklearn/linear_model/_sag.py:350: ConvergenceWarning: The max_iter was reached which means the coef_ did not converge\n",
      "  warnings.warn(\n"
     ]
    }
   ],
   "source": [
    "eval_classifier(\n",
    "    train_emb_proj, train_df, test_emb_proj, test_df\n",
    ")"
   ],
   "metadata": {
    "collapsed": false,
    "ExecuteTime": {
     "end_time": "2023-07-31T14:44:17.527831820Z",
     "start_time": "2023-07-31T14:44:08.029290113Z"
    }
   }
  },
  {
   "cell_type": "code",
   "execution_count": 17,
   "outputs": [
    {
     "name": "stderr",
     "output_type": "stream",
     "text": [
      "/home/tobias/Projects/chexray-ortho/.venv/lib/python3.11/site-packages/torch/nn/modules/lazy.py:180: UserWarning: Lazy modules are a new feature under heavy development so changes to the API or functionality can happen at any moment.\n",
      "  warnings.warn('Lazy modules are a new feature under heavy development '\n",
      "GPU available: False, used: False\n",
      "TPU available: False, using: 0 TPU cores\n",
      "IPU available: False, using: 0 IPUs\n",
      "HPU available: False, using: 0 HPUs\n"
     ]
    },
    {
     "data": {
      "text/plain": "Training: 0it [00:00, ?it/s]",
      "application/vnd.jupyter.widget-view+json": {
       "version_major": 2,
       "version_minor": 0,
       "model_id": "d1d042433c8d46d39c3c6da46d62864e"
      }
     },
     "metadata": {},
     "output_type": "display_data"
    },
    {
     "name": "stderr",
     "output_type": "stream",
     "text": [
      "`Trainer.fit` stopped: `max_epochs=3` reached.\n"
     ]
    },
    {
     "name": "stdout",
     "output_type": "stream",
     "text": [
      "---------------------------------------------------------------------------\n",
      "TRAINING\n",
      "METRICS:\tAUC 0.9989 | ACC 0.9840 | SENS 0.9914 | SPEC 0.9734 | PREC 0.9815 | F1 0.9864\n",
      "---------------------------------------------------------------------------\n",
      "TESTING\n",
      "METRICS:\tAUC 0.9994 | ACC 0.9880 | SENS 0.9949 | SPEC 0.9783 | PREC 0.9846 | F1 0.9897\n"
     ]
    }
   ],
   "source": [
    "model = get_classifier('nn_nl')\n",
    "model.fit(train_emb_proj, train_df['response'].tolist())\n",
    "\n",
    "train_df['preds'] = model.predict_proba(train_emb_proj)[:, 1]\n",
    "test_df['preds'] = model.predict_proba(test_emb_proj)[:, 1]\n",
    "\n",
    "print('-'*75 + '\\nTRAINING')\n",
    "eval_predictions(train_df['response'], train_df['preds'])\n",
    "print('-'*75 + '\\nTESTING')\n",
    "eval_predictions(test_df['response'], test_df['preds'])"
   ],
   "metadata": {
    "collapsed": false,
    "ExecuteTime": {
     "end_time": "2023-07-31T14:44:30.163673521Z",
     "start_time": "2023-07-31T14:44:17.531194509Z"
    }
   }
  },
  {
   "cell_type": "markdown",
   "source": [
    "## Project adjusted embedding back to original data space and classify again"
   ],
   "metadata": {
    "collapsed": false
   }
  },
  {
   "cell_type": "code",
   "execution_count": 18,
   "outputs": [
    {
     "name": "stderr",
     "output_type": "stream",
     "text": [
      "[Parallel(n_jobs=-1)]: Using backend ThreadingBackend with 8 concurrent workers.\n"
     ]
    },
    {
     "name": "stdout",
     "output_type": "stream",
     "text": [
      "convergence after 26 epochs took 19 seconds\n",
      "---------------------------------------------------------------------------\n",
      "TRAINING\n",
      "METRICS:\tAUC 0.5009 | ACC 0.5875 | SENS 1.0000 | SPEC 0.0000 | PREC 0.5875 | F1 0.7402\n",
      "---------------------------------------------------------------------------\n",
      "TESTING\n",
      "METRICS:\tAUC 0.4815 | ACC 0.5822 | SENS 1.0000 | SPEC 0.0000 | PREC 0.5822 | F1 0.7360\n"
     ]
    }
   ],
   "source": [
    "eval_classifier(\n",
    "    pca.inverse_transform(train_emb_proj), \n",
    "    train_df, \n",
    "    pca.inverse_transform(test_emb_proj),\n",
    "    test_df\n",
    ")"
   ],
   "metadata": {
    "collapsed": false,
    "ExecuteTime": {
     "end_time": "2023-07-31T14:44:50.523976383Z",
     "start_time": "2023-07-31T14:44:30.162254976Z"
    }
   }
  }
 ],
 "metadata": {
  "kernelspec": {
   "display_name": "Python 3",
   "language": "python",
   "name": "python3"
  },
  "language_info": {
   "codemirror_mode": {
    "name": "ipython",
    "version": 2
   },
   "file_extension": ".py",
   "mimetype": "text/x-python",
   "name": "python",
   "nbconvert_exporter": "python",
   "pygments_lexer": "ipython2",
   "version": "2.7.6"
  }
 },
 "nbformat": 4,
 "nbformat_minor": 0
}
