{
 "cells": [
  {
   "cell_type": "markdown",
   "source": [
    "# Embedding Orthogonalization\n"
   ],
   "metadata": {
    "collapsed": false
   }
  },
  {
   "cell_type": "code",
   "execution_count": 1,
   "outputs": [],
   "source": [
<<<<<<< HEAD
=======
    "import torch\n",
>>>>>>> refs/remotes/origin/main
    "%load_ext autoreload\n",
    "%autoreload 2\n",
    "\n",
    "import os\n",
    "\n",
    "import numpy as np\n",
<<<<<<< HEAD
    "from src.eval import EmbeddingEvaluator, Disease\n",
    "\n",
    "\n",
    "DATA_DIR = '../data'\n",
    "DATASET = 'mimic'\n",
    "\n",
    "if DATASET == 'mimic':\n",
    "    EMBEDDING_FILE = 'mimic_densenet_mimic.npy'\n",
    "    META_FILE = 'mimic_meta.csv'\n",
    "else:\n",
    "    EMBEDDING_FILE = 'chex_densenet_chex.npy'\n",
    "    META_FILE = 'chexpert_meta.csv'\n",
    "\n",
    "N_COMPONENTS = None\n",
    "TARGET_DISEASE = Disease.ATELECTASIS"
=======
    "import statsmodels.api as sm\n",
    "from patsy import dmatrices\n",
    "\n",
    "DATA_DIR = '../data'\n",
    "EMBEDDING_FILE = 'chex_densenet_chex.npy'\n",
    "META_FILE = 'chexpert_meta.csv'\n",
    "\n",
    "REDUCE_DIM = True\n",
    "N_COMPONENTS = 111\n",
    "TARGET_DISEASE = 'Pleural Effusion'"
>>>>>>> refs/remotes/origin/main
   ],
   "metadata": {
    "collapsed": false,
    "ExecuteTime": {
<<<<<<< HEAD
     "end_time": "2023-08-29T13:41:37.134444986Z",
     "start_time": "2023-08-29T13:41:30.002638730Z"
=======
     "end_time": "2023-07-31T14:43:38.810337768Z",
     "start_time": "2023-07-31T14:43:37.042588632Z"
>>>>>>> refs/remotes/origin/main
    }
   }
  },
  {
   "cell_type": "markdown",
   "source": [
    "## Load Metadata and Embedding"
   ],
   "metadata": {
    "collapsed": false
   }
  },
  {
   "cell_type": "code",
   "execution_count": 2,
   "outputs": [
    {
     "name": "stdout",
     "output_type": "stream",
     "text": [
<<<<<<< HEAD
      "DATASET SIZES: TRAIN 181342 | VAL 1413 | TEST 3041\n"
=======
      "DATASET SIZES: TRAIN 76205 | VAL 12673 | TEST 38240\n"
>>>>>>> refs/remotes/origin/main
     ]
    }
   ],
   "source": [
    "from src.utils import get_mimic_meta_data, get_chexpert_meta_data\n",
    "\n",
<<<<<<< HEAD
    "if DATASET == 'mimic':\n",
    "    train_df, val_df, test_df = get_mimic_meta_data(os.path.join(DATA_DIR, META_FILE))\n",
    "else:\n",
    "    train_df, val_df, test_df = get_chexpert_meta_data(DATA_DIR)\n",
=======
    "#train_df, val_df, test_df = get_mimic_meta_data(os.path.join(DATA_DIR, META_FILE))\n",
    "train_df, val_df, test_df = get_chexpert_meta_data(DATA_DIR)\n",
>>>>>>> refs/remotes/origin/main
    "print(f'DATASET SIZES: TRAIN {len(train_df)} | VAL {len(val_df)} | TEST {len(test_df)}')\n",
    "\n",
    "emb = np.load(os.path.join(DATA_DIR, EMBEDDING_FILE))\n",
    "train_emb = emb[train_df['idx']]\n",
    "test_emb = emb[test_df['idx']]"
   ],
   "metadata": {
    "collapsed": false,
    "ExecuteTime": {
<<<<<<< HEAD
     "end_time": "2023-08-29T13:41:44.168866596Z",
     "start_time": "2023-08-29T13:41:37.138159241Z"
=======
     "end_time": "2023-07-31T14:43:39.684224503Z",
     "start_time": "2023-07-31T14:43:38.812940222Z"
>>>>>>> refs/remotes/origin/main
    }
   }
  },
  {
<<<<<<< HEAD
   "cell_type": "code",
   "execution_count": 3,
   "outputs": [],
   "source": [
    "evaluator = EmbeddingEvaluator(train_df, test_df, train_emb, test_emb, n_components=N_COMPONENTS)"
=======
   "cell_type": "markdown",
   "source": [
    "## Apply Dimensionality Reduction"
   ],
   "metadata": {
    "collapsed": false
   }
  },
  {
   "cell_type": "code",
   "execution_count": 3,
   "outputs": [
    {
     "name": "stdout",
     "output_type": "stream",
     "text": [
      "Explained variance: 0.991\n"
     ]
    }
   ],
   "source": [
    "from src.svd import PCA\n",
    "\n",
    "if REDUCE_DIM:\n",
    "    pca = PCA()\n",
    "    pca.fit(train_emb)\n",
    "    print(f'Explained variance: {pca.get_total_variance(N_COMPONENTS):.3f}')\n",
    "\n",
    "    train_emb = pca.transform(train_emb, num_components=N_COMPONENTS)\n",
    "    test_emb = pca.transform(test_emb, num_components=N_COMPONENTS)\n",
    "else:\n",
    "    print('No dimensionality reduction was applied.')"
>>>>>>> refs/remotes/origin/main
   ],
   "metadata": {
    "collapsed": false,
    "ExecuteTime": {
<<<<<<< HEAD
     "end_time": "2023-08-29T13:41:48.460850168Z",
     "start_time": "2023-08-29T13:41:44.174277117Z"
=======
     "end_time": "2023-07-31T14:43:51.934621065Z",
     "start_time": "2023-07-31T14:43:39.686326271Z"
>>>>>>> refs/remotes/origin/main
    }
   }
  },
  {
   "cell_type": "code",
   "execution_count": 4,
   "outputs": [
    {
<<<<<<< HEAD
     "name": "stderr",
     "output_type": "stream",
     "text": [
      "GPU available: True (cuda), used: True\n",
      "TPU available: False, using: 0 TPU cores\n",
      "IPU available: False, using: 0 IPUs\n",
      "HPU available: False, using: 0 HPUs\n",
      "LOCAL_RANK: 0 - CUDA_VISIBLE_DEVICES: [0]\n",
      "`Trainer.fit` stopped: `max_epochs=10` reached.\n",
      "GPU available: True (cuda), used: True\n",
      "TPU available: False, using: 0 TPU cores\n",
      "IPU available: False, using: 0 IPUs\n",
      "HPU available: False, using: 0 HPUs\n",
      "LOCAL_RANK: 0 - CUDA_VISIBLE_DEVICES: [0]\n",
      "`Trainer.fit` stopped: `max_epochs=10` reached.\n"
     ]
    },
    {
     "name": "stdout",
     "output_type": "stream",
     "text": [
      "0.604 & 0.596\n"
     ]
    },
    {
     "name": "stderr",
     "output_type": "stream",
     "text": [
      "GPU available: True (cuda), used: True\n",
      "TPU available: False, using: 0 TPU cores\n",
      "IPU available: False, using: 0 IPUs\n",
      "HPU available: False, using: 0 HPUs\n",
      "LOCAL_RANK: 0 - CUDA_VISIBLE_DEVICES: [0]\n",
      "`Trainer.fit` stopped: `max_epochs=10` reached.\n",
      "GPU available: True (cuda), used: True\n",
      "TPU available: False, using: 0 TPU cores\n",
      "IPU available: False, using: 0 IPUs\n",
      "HPU available: False, using: 0 HPUs\n",
      "LOCAL_RANK: 0 - CUDA_VISIBLE_DEVICES: [0]\n",
      "`Trainer.fit` stopped: `max_epochs=10` reached.\n"
     ]
    },
    {
     "name": "stdout",
     "output_type": "stream",
     "text": [
      "0.737 & 0.733\n"
     ]
    },
    {
     "name": "stderr",
     "output_type": "stream",
     "text": [
      "GPU available: True (cuda), used: True\n",
      "TPU available: False, using: 0 TPU cores\n",
      "IPU available: False, using: 0 IPUs\n",
      "HPU available: False, using: 0 HPUs\n",
      "LOCAL_RANK: 0 - CUDA_VISIBLE_DEVICES: [0]\n",
      "`Trainer.fit` stopped: `max_epochs=10` reached.\n",
      "GPU available: True (cuda), used: True\n",
      "TPU available: False, using: 0 TPU cores\n",
      "IPU available: False, using: 0 IPUs\n",
      "HPU available: False, using: 0 HPUs\n",
      "LOCAL_RANK: 0 - CUDA_VISIBLE_DEVICES: [0]\n",
      "`Trainer.fit` stopped: `max_epochs=10` reached.\n"
     ]
    },
    {
     "name": "stdout",
     "output_type": "stream",
     "text": [
      "0.618 & 0.613\n"
     ]
    },
    {
     "name": "stderr",
     "output_type": "stream",
     "text": [
      "GPU available: True (cuda), used: True\n",
      "TPU available: False, using: 0 TPU cores\n",
      "IPU available: False, using: 0 IPUs\n",
      "HPU available: False, using: 0 HPUs\n",
      "LOCAL_RANK: 0 - CUDA_VISIBLE_DEVICES: [0]\n",
      "`Trainer.fit` stopped: `max_epochs=10` reached.\n",
      "GPU available: True (cuda), used: True\n",
      "TPU available: False, using: 0 TPU cores\n",
      "IPU available: False, using: 0 IPUs\n",
      "HPU available: False, using: 0 HPUs\n",
      "LOCAL_RANK: 0 - CUDA_VISIBLE_DEVICES: [0]\n",
      "`Trainer.fit` stopped: `max_epochs=10` reached.\n"
     ]
    },
    {
     "name": "stdout",
     "output_type": "stream",
     "text": [
      "0.578 & 0.584\n"
     ]
    },
    {
     "name": "stderr",
     "output_type": "stream",
     "text": [
      "GPU available: True (cuda), used: True\n",
      "TPU available: False, using: 0 TPU cores\n",
      "IPU available: False, using: 0 IPUs\n",
      "HPU available: False, using: 0 HPUs\n",
      "LOCAL_RANK: 0 - CUDA_VISIBLE_DEVICES: [0]\n",
      "`Trainer.fit` stopped: `max_epochs=10` reached.\n",
      "GPU available: True (cuda), used: True\n",
      "TPU available: False, using: 0 TPU cores\n",
      "IPU available: False, using: 0 IPUs\n",
      "HPU available: False, using: 0 HPUs\n",
      "LOCAL_RANK: 0 - CUDA_VISIBLE_DEVICES: [0]\n",
      "`Trainer.fit` stopped: `max_epochs=10` reached.\n"
     ]
    },
    {
     "name": "stdout",
     "output_type": "stream",
     "text": [
      "0.793 & 0.784\n"
     ]
    },
    {
     "name": "stderr",
     "output_type": "stream",
     "text": [
      "GPU available: True (cuda), used: True\n",
      "TPU available: False, using: 0 TPU cores\n",
      "IPU available: False, using: 0 IPUs\n",
      "HPU available: False, using: 0 HPUs\n",
      "LOCAL_RANK: 0 - CUDA_VISIBLE_DEVICES: [0]\n",
      "`Trainer.fit` stopped: `max_epochs=10` reached.\n",
      "GPU available: True (cuda), used: True\n",
      "TPU available: False, using: 0 TPU cores\n",
      "IPU available: False, using: 0 IPUs\n",
      "HPU available: False, using: 0 HPUs\n",
      "LOCAL_RANK: 0 - CUDA_VISIBLE_DEVICES: [0]\n",
      "`Trainer.fit` stopped: `max_epochs=10` reached.\n"
     ]
    },
    {
     "name": "stdout",
     "output_type": "stream",
     "text": [
      "0.639 & 0.637\n"
     ]
    },
    {
     "name": "stderr",
     "output_type": "stream",
     "text": [
      "GPU available: True (cuda), used: True\n",
      "TPU available: False, using: 0 TPU cores\n",
      "IPU available: False, using: 0 IPUs\n",
      "HPU available: False, using: 0 HPUs\n",
      "LOCAL_RANK: 0 - CUDA_VISIBLE_DEVICES: [0]\n",
      "`Trainer.fit` stopped: `max_epochs=10` reached.\n",
      "GPU available: True (cuda), used: True\n",
      "TPU available: False, using: 0 TPU cores\n",
      "IPU available: False, using: 0 IPUs\n",
      "HPU available: False, using: 0 HPUs\n",
      "LOCAL_RANK: 0 - CUDA_VISIBLE_DEVICES: [0]\n",
      "`Trainer.fit` stopped: `max_epochs=10` reached.\n"
     ]
    },
    {
     "name": "stdout",
     "output_type": "stream",
     "text": [
      "0.588 & 0.612\n"
     ]
    },
    {
     "name": "stderr",
     "output_type": "stream",
     "text": [
      "GPU available: True (cuda), used: True\n",
      "TPU available: False, using: 0 TPU cores\n",
      "IPU available: False, using: 0 IPUs\n",
      "HPU available: False, using: 0 HPUs\n",
      "LOCAL_RANK: 0 - CUDA_VISIBLE_DEVICES: [0]\n",
      "`Trainer.fit` stopped: `max_epochs=10` reached.\n",
      "GPU available: True (cuda), used: True\n",
      "TPU available: False, using: 0 TPU cores\n",
      "IPU available: False, using: 0 IPUs\n",
      "HPU available: False, using: 0 HPUs\n",
      "LOCAL_RANK: 0 - CUDA_VISIBLE_DEVICES: [0]\n",
      "`Trainer.fit` stopped: `max_epochs=10` reached.\n"
     ]
    },
    {
     "name": "stdout",
     "output_type": "stream",
     "text": [
      "0.685 & 0.672\n"
     ]
    },
    {
     "name": "stderr",
     "output_type": "stream",
     "text": [
      "GPU available: True (cuda), used: True\n",
      "TPU available: False, using: 0 TPU cores\n",
      "IPU available: False, using: 0 IPUs\n",
      "HPU available: False, using: 0 HPUs\n",
      "LOCAL_RANK: 0 - CUDA_VISIBLE_DEVICES: [0]\n",
      "`Trainer.fit` stopped: `max_epochs=10` reached.\n",
      "GPU available: True (cuda), used: True\n",
      "TPU available: False, using: 0 TPU cores\n",
      "IPU available: False, using: 0 IPUs\n",
      "HPU available: False, using: 0 HPUs\n",
      "LOCAL_RANK: 0 - CUDA_VISIBLE_DEVICES: [0]\n",
      "`Trainer.fit` stopped: `max_epochs=10` reached.\n",
      "GPU available: True (cuda), used: True\n"
     ]
    },
    {
     "name": "stdout",
     "output_type": "stream",
     "text": [
      "0.632 & 0.636\n"
     ]
    },
    {
     "name": "stderr",
     "output_type": "stream",
     "text": [
      "TPU available: False, using: 0 TPU cores\n",
      "IPU available: False, using: 0 IPUs\n",
      "HPU available: False, using: 0 HPUs\n",
      "LOCAL_RANK: 0 - CUDA_VISIBLE_DEVICES: [0]\n",
      "`Trainer.fit` stopped: `max_epochs=10` reached.\n",
      "GPU available: True (cuda), used: True\n",
      "TPU available: False, using: 0 TPU cores\n",
      "IPU available: False, using: 0 IPUs\n",
      "HPU available: False, using: 0 HPUs\n",
      "LOCAL_RANK: 0 - CUDA_VISIBLE_DEVICES: [0]\n",
      "`Trainer.fit` stopped: `max_epochs=10` reached.\n",
      "GPU available: True (cuda), used: True\n",
      "TPU available: False, using: 0 TPU cores\n",
      "IPU available: False, using: 0 IPUs\n",
      "HPU available: False, using: 0 HPUs\n"
     ]
    },
    {
     "name": "stdout",
     "output_type": "stream",
     "text": [
      "0.797 & 0.781\n"
     ]
    },
    {
     "name": "stderr",
     "output_type": "stream",
     "text": [
      "LOCAL_RANK: 0 - CUDA_VISIBLE_DEVICES: [0]\n",
      "`Trainer.fit` stopped: `max_epochs=10` reached.\n",
      "GPU available: True (cuda), used: True\n",
      "TPU available: False, using: 0 TPU cores\n",
      "IPU available: False, using: 0 IPUs\n",
      "HPU available: False, using: 0 HPUs\n",
      "LOCAL_RANK: 0 - CUDA_VISIBLE_DEVICES: [0]\n",
      "`Trainer.fit` stopped: `max_epochs=10` reached.\n"
     ]
    },
    {
     "name": "stdout",
     "output_type": "stream",
     "text": [
      "0.691 & 0.676\n"
     ]
    },
    {
     "name": "stderr",
     "output_type": "stream",
     "text": [
      "GPU available: True (cuda), used: True\n",
      "TPU available: False, using: 0 TPU cores\n",
      "IPU available: False, using: 0 IPUs\n",
      "HPU available: False, using: 0 HPUs\n",
      "LOCAL_RANK: 0 - CUDA_VISIBLE_DEVICES: [0]\n",
      "`Trainer.fit` stopped: `max_epochs=10` reached.\n",
      "GPU available: True (cuda), used: True\n",
      "TPU available: False, using: 0 TPU cores\n",
      "IPU available: False, using: 0 IPUs\n",
      "HPU available: False, using: 0 HPUs\n",
      "LOCAL_RANK: 0 - CUDA_VISIBLE_DEVICES: [0]\n",
      "`Trainer.fit` stopped: `max_epochs=10` reached.\n"
     ]
    },
    {
     "name": "stdout",
     "output_type": "stream",
     "text": [
      "0.643 & 0.654\n"
     ]
    },
    {
     "name": "stderr",
     "output_type": "stream",
     "text": [
      "GPU available: True (cuda), used: True\n",
      "TPU available: False, using: 0 TPU cores\n",
      "IPU available: False, using: 0 IPUs\n",
      "HPU available: False, using: 0 HPUs\n",
      "LOCAL_RANK: 0 - CUDA_VISIBLE_DEVICES: [0]\n",
      "`Trainer.fit` stopped: `max_epochs=10` reached.\n",
      "GPU available: True (cuda), used: True\n",
      "TPU available: False, using: 0 TPU cores\n",
      "IPU available: False, using: 0 IPUs\n",
      "HPU available: False, using: 0 HPUs\n",
      "LOCAL_RANK: 0 - CUDA_VISIBLE_DEVICES: [0]\n",
      "`Trainer.fit` stopped: `max_epochs=10` reached.\n",
      "GPU available: True (cuda), used: True\n",
      "TPU available: False, using: 0 TPU cores\n",
      "IPU available: False, using: 0 IPUs\n",
      "HPU available: False, using: 0 HPUs\n"
     ]
    },
    {
     "name": "stdout",
     "output_type": "stream",
     "text": [
      "0.767 & 0.763\n"
     ]
    },
    {
     "name": "stderr",
     "output_type": "stream",
     "text": [
      "LOCAL_RANK: 0 - CUDA_VISIBLE_DEVICES: [0]\n",
      "`Trainer.fit` stopped: `max_epochs=10` reached.\n",
      "GPU available: True (cuda), used: True\n",
      "TPU available: False, using: 0 TPU cores\n",
      "IPU available: False, using: 0 IPUs\n",
      "HPU available: False, using: 0 HPUs\n",
      "LOCAL_RANK: 0 - CUDA_VISIBLE_DEVICES: [0]\n",
      "`Trainer.fit` stopped: `max_epochs=10` reached.\n"
     ]
    },
    {
     "name": "stdout",
     "output_type": "stream",
     "text": [
      "0.748 & 0.730\n"
     ]
    }
   ],
   "source": [
    "ms = []\n",
    "for disease in Disease:\n",
    "    m = evaluator.get_classifier_metrics(response=disease, clf_args={'max_epochs': 10})\n",
    "    ms.append(m)"
=======
     "data": {
      "text/plain": "<Figure size 640x480 with 1 Axes>",
      "image/png": "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"
     },
     "metadata": {},
     "output_type": "display_data"
    }
   ],
   "source": [
    "import matplotlib.pyplot as plt\n",
    "\n",
    "variance_ratio = pca.explained_variance_ratio_\n",
    "plt.scatter(range(len(variance_ratio)), variance_ratio)\n",
    "plt.show()"
>>>>>>> refs/remotes/origin/main
   ],
   "metadata": {
    "collapsed": false,
    "ExecuteTime": {
<<<<<<< HEAD
     "end_time": "2023-08-29T13:59:57.872577776Z",
     "start_time": "2023-08-29T13:41:48.458727723Z"
    }
   }
  },
  {
   "cell_type": "code",
   "execution_count": 5,
   "outputs": [
    {
     "name": "stdout",
     "output_type": "stream",
     "text": [
      "Disease.ENLARGED_CARDIOMEDIASTINUM \t 0.604 & 0.596\n",
      "Disease.CARDIOMEGALY \t 0.737 & 0.733\n",
      "Disease.LUNG_OPACITY \t 0.618 & 0.613\n",
      "Disease.LUNG_LESION \t 0.578 & 0.584\n",
      "Disease.EDEMA \t 0.793 & 0.784\n",
      "Disease.CONSOLIDATION \t 0.639 & 0.637\n",
      "Disease.PNEUMONIA \t 0.588 & 0.612\n",
      "Disease.ATELECTASIS \t 0.685 & 0.672\n",
      "Disease.PNEUMOTHORAX \t 0.632 & 0.636\n",
      "Disease.PLEURAL_EFFUSION \t 0.797 & 0.781\n",
      "Disease.PLEURAL_OTHER \t 0.691 & 0.676\n",
      "Disease.FRACTURE \t 0.643 & 0.654\n",
      "Disease.SUPPORT_DEVICES \t 0.767 & 0.763\n",
      "Disease.NO_FINDING \t 0.748 & 0.730\n"
     ]
    }
   ],
   "source": [
    "for m, disease in zip(ms, Disease):\n",
    "   print(disease, '\\t', m)"
   ],
   "metadata": {
    "collapsed": false,
    "ExecuteTime": {
     "end_time": "2023-08-29T13:59:58.096628269Z",
     "start_time": "2023-08-29T13:59:57.868697961Z"
=======
     "end_time": "2023-07-31T14:43:52.652747215Z",
     "start_time": "2023-07-31T14:43:51.934421565Z"
>>>>>>> refs/remotes/origin/main
    }
   }
  },
  {
   "cell_type": "markdown",
   "source": [
<<<<<<< HEAD
    "### WithOUT Orthogonalization"
=======
    "## Create Response"
>>>>>>> refs/remotes/origin/main
   ],
   "metadata": {
    "collapsed": false
   }
  },
  {
   "cell_type": "code",
<<<<<<< HEAD
=======
   "execution_count": 5,
   "outputs": [],
   "source": [
    "# Follow U-zeros strategy for now\n",
    "train_df['response'] = (train_df[TARGET_DISEASE] == 1).astype(int)\n",
    "test_df['response'] = (test_df[TARGET_DISEASE] == 1).astype(int)"
   ],
   "metadata": {
    "collapsed": false,
    "ExecuteTime": {
     "end_time": "2023-07-31T14:43:52.683288348Z",
     "start_time": "2023-07-31T14:43:52.640471851Z"
    }
   }
  },
  {
   "cell_type": "markdown",
   "source": [
    "## Train Base Classifier"
   ],
   "metadata": {
    "collapsed": false
   }
  },
  {
   "cell_type": "code",
   "execution_count": 6,
   "outputs": [],
   "source": [
    "from src.utils import eval_predictions\n",
    "from src.classifier import get_classifier\n",
    "\n",
    "def eval_classifier(x_train, train_df, x_test, test_df):\n",
    "    model = get_classifier('log_reg')\n",
    "    model.fit(x_train, train_df['response'].tolist())\n",
    "    \n",
    "    train_df['preds'] = model.predict_proba(x_train)[:, 1]\n",
    "    test_df['preds'] = model.predict_proba(x_test)[:, 1]\n",
    "    \n",
    "    print('-'*75 + '\\nTRAINING')\n",
    "    eval_predictions(train_df['response'], train_df['preds'])\n",
    "    print('-'*75 + '\\nTESTING')\n",
    "    eval_predictions(test_df['response'], test_df['preds'])"
   ],
   "metadata": {
    "collapsed": false,
    "ExecuteTime": {
     "end_time": "2023-07-31T14:43:53.380010589Z",
     "start_time": "2023-07-31T14:43:52.670427956Z"
    }
   }
  },
  {
   "cell_type": "code",
   "execution_count": 7,
   "outputs": [
    {
     "name": "stderr",
     "output_type": "stream",
     "text": [
      "[Parallel(n_jobs=-1)]: Using backend ThreadingBackend with 8 concurrent workers.\n"
     ]
    },
    {
     "name": "stdout",
     "output_type": "stream",
     "text": [
      "convergence after 25 epochs took 3 seconds\n",
      "---------------------------------------------------------------------------\n",
      "TRAINING\n",
      "METRICS:\tAUC 0.8076 | ACC 0.7352 | SENS 0.6846 | SPEC 0.7699 | PREC 0.6712 | F1 0.6779\n",
      "---------------------------------------------------------------------------\n",
      "TESTING\n",
      "METRICS:\tAUC 0.8064 | ACC 0.7370 | SENS 0.6859 | SPEC 0.7718 | PREC 0.6722 | F1 0.6790\n"
     ]
    }
   ],
   "source": [
    "eval_classifier(\n",
    "    train_emb, train_df, test_emb, test_df\n",
    ")"
   ],
   "metadata": {
    "collapsed": false,
    "ExecuteTime": {
     "end_time": "2023-07-31T14:43:56.658486578Z",
     "start_time": "2023-07-31T14:43:53.381513220Z"
    }
   }
  },
  {
   "cell_type": "markdown",
   "source": [
    "## Explain Predictions with Protected Features"
   ],
   "metadata": {
    "collapsed": false
   }
  },
  {
   "cell_type": "code",
   "execution_count": 8,
   "outputs": [
    {
     "name": "stdout",
     "output_type": "stream",
     "text": [
      "                            OLS Regression Results                            \n",
      "==============================================================================\n",
      "Dep. Variable:                  preds   R-squared:                       0.030\n",
      "Model:                            OLS   Adj. R-squared:                  0.030\n",
      "Method:                 Least Squares   F-statistic:                     584.0\n",
      "Date:                Mon, 31 Jul 2023   Prob (F-statistic):               0.00\n",
      "Time:                        16:43:57   Log-Likelihood:                -3618.4\n",
      "No. Observations:               76205   AIC:                             7247.\n",
      "Df Residuals:                   76200   BIC:                             7293.\n",
      "Df Model:                           4                                         \n",
      "Covariance Type:            nonrobust                                         \n",
      "=================================================================================\n",
      "                    coef    std err          t      P>|t|      [0.025      0.975]\n",
      "---------------------------------------------------------------------------------\n",
      "Intercept         0.2652      0.004     62.692      0.000       0.257       0.273\n",
      "sex[T.M]         -0.0081      0.002     -4.308      0.000      -0.012      -0.004\n",
      "race[T.BLACK]    -0.0306      0.004     -7.349      0.000      -0.039      -0.022\n",
      "race[T.WHITE]    -0.0094      0.003     -3.621      0.000      -0.015      -0.004\n",
      "age               0.2476      0.005     46.400      0.000       0.237       0.258\n",
      "==============================================================================\n",
      "Omnibus:                   148278.735   Durbin-Watson:                   1.274\n",
      "Prob(Omnibus):                  0.000   Jarque-Bera (JB):             5154.544\n",
      "Skew:                           0.069   Prob(JB):                         0.00\n",
      "Kurtosis:                       1.733   Cond. No.                         11.2\n",
      "==============================================================================\n",
      "\n",
      "Notes:\n",
      "[1] Standard Errors assume that the covariance matrix of the errors is correctly specified.\n",
      "               df       sum_sq     mean_sq            F        PR(>F)\n",
      "sex           1.0     2.247870    2.247870    34.911998  3.464088e-09\n",
      "race          2.0     9.529401    4.764700    74.001246  7.813360e-33\n",
      "age           1.0   138.620719  138.620719  2152.938332  0.000000e+00\n",
      "Residual  76200.0  4906.270946    0.064387          NaN           NaN\n"
     ]
    }
   ],
   "source": [
    "formula = 'preds ~ 1 + age + sex + race'\n",
    "mod = sm.OLS.from_formula(formula, data=train_df).fit()\n",
    "print(mod.summary())\n",
    "print(sm.stats.anova_lm(mod))"
   ],
   "metadata": {
    "collapsed": false,
    "ExecuteTime": {
     "end_time": "2023-07-31T14:43:57.368591576Z",
     "start_time": "2023-07-31T14:43:56.629306962Z"
    }
   }
  },
  {
   "cell_type": "markdown",
   "source": [
    "## Remove Protected Features from Result Prediction\n",
    "\n",
    "Residuals = part of predictions that can't be explained by protected features"
   ],
   "metadata": {
    "collapsed": false
   }
  },
  {
   "cell_type": "code",
   "execution_count": 9,
   "outputs": [
    {
     "name": "stdout",
     "output_type": "stream",
     "text": [
      "                            OLS Regression Results                            \n",
      "==============================================================================\n",
      "Dep. Variable:         preds_adjusted   R-squared:                       0.000\n",
      "Model:                            OLS   Adj. R-squared:                 -0.000\n",
      "Method:                 Least Squares   F-statistic:                 7.063e-12\n",
      "Date:                Mon, 31 Jul 2023   Prob (F-statistic):               1.00\n",
      "Time:                        16:43:57   Log-Likelihood:                -3618.4\n",
      "No. Observations:               76205   AIC:                             7247.\n",
      "Df Residuals:                   76200   BIC:                             7293.\n",
      "Df Model:                           4                                         \n",
      "Covariance Type:            nonrobust                                         \n",
      "=================================================================================\n",
      "                    coef    std err          t      P>|t|      [0.025      0.975]\n",
      "---------------------------------------------------------------------------------\n",
      "Intercept     -1.691e-16      0.004     -4e-14      1.000      -0.008       0.008\n",
      "sex[T.M]       3.101e-16      0.002   1.66e-13      1.000      -0.004       0.004\n",
      "race[T.BLACK]  2.758e-16      0.004   6.64e-14      1.000      -0.008       0.008\n",
      "race[T.WHITE] -5.542e-17      0.003  -2.13e-14      1.000      -0.005       0.005\n",
      "age           -1.792e-16      0.005  -3.36e-14      1.000      -0.010       0.010\n",
      "==============================================================================\n",
      "Omnibus:                   148278.735   Durbin-Watson:                   1.274\n",
      "Prob(Omnibus):                  0.000   Jarque-Bera (JB):             5154.544\n",
      "Skew:                           0.069   Prob(JB):                         0.00\n",
      "Kurtosis:                       1.733   Cond. No.                         11.2\n",
      "==============================================================================\n",
      "\n",
      "Notes:\n",
      "[1] Standard Errors assume that the covariance matrix of the errors is correctly specified.\n"
     ]
    }
   ],
   "source": [
    "train_df['preds_adjusted'] = mod.resid\n",
    "\n",
    "# Check: p-vals should all be one\n",
    "formula = 'preds_adjusted ~ 1 + age + sex + race'\n",
    "mod_check = sm.OLS.from_formula(formula, data=train_df).fit()\n",
    "print(mod_check.summary())"
   ],
   "metadata": {
    "collapsed": false,
    "ExecuteTime": {
     "end_time": "2023-07-31T14:43:57.984020271Z",
     "start_time": "2023-07-31T14:43:57.323509739Z"
    }
   }
  },
  {
   "cell_type": "markdown",
   "source": [
    "## Adjust Embedding"
   ],
   "metadata": {
    "collapsed": false
   }
  },
  {
   "cell_type": "code",
   "execution_count": 10,
   "outputs": [
    {
     "name": "stdout",
     "output_type": "stream",
     "text": [
      "(76205, 5)\n"
     ]
    }
   ],
   "source": [
    "# Create the design matrix\n",
    "formula = '1 ~ age + sex + race'\n",
    "_, x_train = dmatrices(formula, data=train_df)\n",
    "_, x_test = dmatrices(formula, data=test_df)\n",
    "\n",
    "print(x_train.shape)"
   ],
   "metadata": {
    "collapsed": false,
    "ExecuteTime": {
     "end_time": "2023-07-31T14:43:58.725271371Z",
     "start_time": "2023-07-31T14:43:57.969665929Z"
    }
   }
  },
  {
   "cell_type": "code",
   "execution_count": 11,
   "outputs": [],
   "source": [
    "from src.ortho import Orthogonalizator\n",
    "\n",
    "ortho = Orthogonalizator()\n",
    "train_emb_proj = ortho.fit_transform(x_train, train_emb)\n",
    "test_emb_proj = ortho.transform(x_test, test_emb)"
   ],
   "metadata": {
    "collapsed": false,
    "ExecuteTime": {
     "end_time": "2023-07-31T14:43:58.931631043Z",
     "start_time": "2023-07-31T14:43:58.715126520Z"
    }
   }
  },
  {
   "cell_type": "markdown",
   "source": [
    "## Check classifier performance on adjusted embedding"
   ],
   "metadata": {
    "collapsed": false
   }
  },
  {
   "cell_type": "code",
   "execution_count": 12,
   "outputs": [
    {
     "name": "stderr",
     "output_type": "stream",
     "text": [
      "[Parallel(n_jobs=-1)]: Using backend ThreadingBackend with 8 concurrent workers.\n"
     ]
    },
    {
     "name": "stdout",
     "output_type": "stream",
     "text": [
      "convergence after 20 epochs took 2 seconds\n",
      "---------------------------------------------------------------------------\n",
      "TRAINING\n",
      "METRICS:\tAUC 0.8012 | ACC 0.7306 | SENS 0.6690 | SPEC 0.7730 | PREC 0.6691 | F1 0.6691\n",
      "---------------------------------------------------------------------------\n",
      "TESTING\n",
      "METRICS:\tAUC 0.7995 | ACC 0.7287 | SENS 0.6775 | SPEC 0.7637 | PREC 0.6617 | F1 0.6695\n"
     ]
    }
   ],
   "source": [
    "eval_classifier(\n",
    "    train_emb_proj, train_df, test_emb_proj, test_df\n",
    ")"
   ],
   "metadata": {
    "collapsed": false,
    "ExecuteTime": {
     "end_time": "2023-07-31T14:44:01.460919646Z",
     "start_time": "2023-07-31T14:43:58.933359910Z"
    }
   }
  },
  {
   "cell_type": "code",
   "execution_count": 13,
   "outputs": [
    {
     "name": "stdout",
     "output_type": "stream",
     "text": [
      "                            OLS Regression Results                            \n",
      "==============================================================================\n",
      "Dep. Variable:                  preds   R-squared:                       0.000\n",
      "Model:                            OLS   Adj. R-squared:                  0.000\n",
      "Method:                 Least Squares   F-statistic:                     1.265\n",
      "Date:                Mon, 31 Jul 2023   Prob (F-statistic):              0.281\n",
      "Time:                        16:44:01   Log-Likelihood:                -3361.3\n",
      "No. Observations:               76205   AIC:                             6733.\n",
      "Df Residuals:                   76200   BIC:                             6779.\n",
      "Df Model:                           4                                         \n",
      "Covariance Type:            nonrobust                                         \n",
      "=================================================================================\n",
      "                    coef    std err          t      P>|t|      [0.025      0.975]\n",
      "---------------------------------------------------------------------------------\n",
      "Intercept         0.4145      0.004     98.329      0.000       0.406       0.423\n",
      "sex[T.M]         -0.0028      0.002     -1.494      0.135      -0.006       0.001\n",
      "race[T.BLACK]    -0.0051      0.004     -1.242      0.214      -0.013       0.003\n",
      "race[T.WHITE]    -0.0013      0.003     -0.520      0.603      -0.006       0.004\n",
      "age              -0.0071      0.005     -1.328      0.184      -0.017       0.003\n",
      "==============================================================================\n",
      "Omnibus:                   338924.127   Durbin-Watson:                   1.272\n",
      "Prob(Omnibus):                  0.000   Jarque-Bera (JB):             5518.420\n",
      "Skew:                           0.094   Prob(JB):                         0.00\n",
      "Kurtosis:                       1.695   Cond. No.                         11.2\n",
      "==============================================================================\n",
      "\n",
      "Notes:\n",
      "[1] Standard Errors assume that the covariance matrix of the errors is correctly specified.\n",
      "               df       sum_sq   mean_sq         F    PR(>F)\n",
      "sex           1.0     0.127218  0.127218  1.989217  0.158427\n",
      "race          2.0     0.083493  0.041747  0.652764  0.520608\n",
      "age           1.0     0.112862  0.112862  1.764750  0.184037\n",
      "Residual  76200.0  4873.276064  0.063954       NaN       NaN\n"
     ]
    }
   ],
   "source": [
    "formula = 'preds ~ 1 + age + sex + race'\n",
    "mod_fixed = sm.OLS.from_formula(formula, data=train_df).fit()\n",
    "print(mod_fixed.summary())\n",
    "print(sm.stats.anova_lm(mod_fixed))"
   ],
   "metadata": {
    "collapsed": false,
    "ExecuteTime": {
     "end_time": "2023-07-31T14:44:01.918720871Z",
     "start_time": "2023-07-31T14:44:01.463045770Z"
    }
   }
  },
  {
   "cell_type": "markdown",
   "source": [
    "## Add Protected Features to classifier"
   ],
   "metadata": {
    "collapsed": false
   }
  },
  {
   "cell_type": "code",
   "execution_count": 14,
   "outputs": [
    {
     "name": "stderr",
     "output_type": "stream",
     "text": [
      "[Parallel(n_jobs=-1)]: Using backend ThreadingBackend with 8 concurrent workers.\n"
     ]
    },
    {
     "name": "stdout",
     "output_type": "stream",
     "text": [
      "convergence after 19 epochs took 3 seconds\n",
      "---------------------------------------------------------------------------\n",
      "TRAINING\n",
      "METRICS:\tAUC 0.8080 | ACC 0.7352 | SENS 0.6839 | SPEC 0.7704 | PREC 0.6715 | F1 0.6776\n",
      "---------------------------------------------------------------------------\n",
      "TESTING\n",
      "METRICS:\tAUC 0.7808 | ACC 0.7114 | SENS 0.6638 | SPEC 0.7439 | PREC 0.6388 | F1 0.6511\n"
     ]
    }
   ],
   "source": [
    "train_mat = np.concatenate([train_emb_proj, x_train], axis=1)\n",
    "test_mat = np.concatenate([test_emb_proj, x_test], axis=1)\n",
    "\n",
    "eval_classifier(\n",
    "    train_mat, train_df, test_mat, test_df\n",
    ")"
   ],
   "metadata": {
    "collapsed": false,
    "ExecuteTime": {
     "end_time": "2023-07-31T14:44:04.205768823Z",
     "start_time": "2023-07-31T14:44:01.902637667Z"
    }
   }
  },
  {
   "cell_type": "markdown",
   "source": [
    "## Classify protected features"
   ],
   "metadata": {
    "collapsed": false
   }
  },
  {
   "cell_type": "code",
   "execution_count": 15,
   "outputs": [
    {
     "name": "stderr",
     "output_type": "stream",
     "text": [
      "[Parallel(n_jobs=-1)]: Using backend ThreadingBackend with 8 concurrent workers.\n"
     ]
    },
    {
     "name": "stdout",
     "output_type": "stream",
     "text": [
      "convergence after 31 epochs took 3 seconds\n",
      "---------------------------------------------------------------------------\n",
      "TRAINING\n",
      "METRICS:\tAUC 0.8748 | ACC 0.7986 | SENS 0.8457 | SPEC 0.7316 | PREC 0.8178 | F1 0.8315\n",
      "---------------------------------------------------------------------------\n",
      "TESTING\n",
      "METRICS:\tAUC 0.8759 | ACC 0.7980 | SENS 0.8487 | SPEC 0.7273 | PREC 0.8127 | F1 0.8303\n"
     ]
    }
   ],
   "source": [
    "train_df['response'] = (train_df['sex'] == 'M').astype(int)\n",
    "test_df['response'] = (test_df['sex'] == 'M').astype(int)\n",
    "\n",
    "eval_classifier(\n",
    "    train_emb, train_df, test_emb, test_df\n",
    ")"
   ],
   "metadata": {
    "collapsed": false,
    "ExecuteTime": {
     "end_time": "2023-07-31T14:44:08.031969367Z",
     "start_time": "2023-07-31T14:44:04.201622800Z"
    }
   }
  },
  {
   "cell_type": "code",
>>>>>>> refs/remotes/origin/main
   "execution_count": 16,
   "outputs": [
    {
     "name": "stderr",
     "output_type": "stream",
     "text": [
<<<<<<< HEAD
      "GPU available: True (cuda), used: True\n",
      "TPU available: False, using: 0 TPU cores\n",
      "IPU available: False, using: 0 IPUs\n",
      "HPU available: False, using: 0 HPUs\n",
      "LOCAL_RANK: 0 - CUDA_VISIBLE_DEVICES: [0]\n",
      "`Trainer.fit` stopped: `max_epochs=10` reached.\n"
=======
      "[Parallel(n_jobs=-1)]: Using backend ThreadingBackend with 8 concurrent workers.\n"
>>>>>>> refs/remotes/origin/main
     ]
    },
    {
     "name": "stdout",
     "output_type": "stream",
     "text": [
<<<<<<< HEAD
      "0.3993723849372385\n",
      "---------------------------------------------------------------------------\n",
      "TRAINING\n",
      "METRICS:\tAUC 0.8047 | ACC 0.7303 | SENS 0.6597 | SPEC 0.7788 | PREC 0.6718 | F1 0.6657\n",
      "---------------------------------------------------------------------------\n",
      "TESTING\n",
      "METRICS:\tAUC 0.8043 | ACC 0.7325 | SENS 0.6626 | SPEC 0.7802 | PREC 0.6729 | F1 0.6677\n",
      "---------------------------------------------------------------------------\n",
      "                            OLS Regression Results                            \n",
      "==============================================================================\n",
      "Dep. Variable:                 scores   R-squared:                       0.042\n",
      "Model:                            OLS   Adj. R-squared:                  0.042\n",
      "Method:                 Least Squares   F-statistic:                     843.2\n",
      "Date:                Tue, 29 Aug 2023   Prob (F-statistic):               0.00\n",
      "Time:                        13:50:48   Log-Likelihood:            -1.3036e+05\n",
      "No. Observations:               76205   AIC:                         2.607e+05\n",
      "Df Residuals:                   76200   BIC:                         2.608e+05\n",
      "Df Model:                           4                                         \n",
      "Covariance Type:            nonrobust                                         \n",
      "=================================================================================\n",
      "                    coef    std err          t      P>|t|      [0.025      0.975]\n",
      "---------------------------------------------------------------------------------\n",
      "Intercept        -1.6598      0.019    -86.949      0.000      -1.697      -1.622\n",
      "sex[T.F]          0.0302      0.010      3.062      0.002       0.011       0.050\n",
      "race[T.BLACK]    -0.0661      0.019     -3.499      0.000      -0.103      -0.029\n",
      "race[T.ASIAN]     0.0373      0.014      2.714      0.007       0.010       0.064\n",
      "age               1.5997      0.028     56.825      0.000       1.544       1.655\n",
      "==============================================================================\n",
      "Omnibus:                     5838.949   Durbin-Watson:                   1.274\n",
      "Prob(Omnibus):                  0.000   Jarque-Bera (JB):             3633.106\n",
      "Skew:                          -0.408   Prob(JB):                         0.00\n",
      "Kurtosis:                       2.308   Cond. No.                         8.90\n",
      "==============================================================================\n",
      "\n",
      "Notes:\n",
      "[1] Standard Errors assume that the covariance matrix of the errors is correctly specified.\n",
      "---------------------------------------------------------------------------\n",
      "ANOVA\n",
      "               df         sum_sq      mean_sq            F        PR(>F)\n",
      "sex           1.0      47.489788    47.489788    26.496898  2.646156e-07\n",
      "race          2.0     210.169137   105.084569    58.631870  3.598115e-26\n",
      "age           1.0    5787.395340  5787.395340  3229.073660  0.000000e+00\n",
      "Residual  76200.0  136571.528370     1.792277          NaN           NaN\n"
=======
      "Epoch 1, change: 1.00000000\n",
      "Epoch 2, change: 0.31766404\n",
      "Epoch 3, change: 0.11725101\n",
      "Epoch 4, change: 0.07074989\n",
      "Epoch 5, change: 0.04924126\n",
      "Epoch 6, change: 0.02773905\n",
      "Epoch 7, change: 0.02079799\n",
      "Epoch 8, change: 0.01315545\n",
      "Epoch 9, change: 0.00895822\n",
      "Epoch 10, change: 0.00709491\n",
      "Epoch 11, change: 0.00556310\n",
      "Epoch 12, change: 0.00406803\n",
      "Epoch 13, change: 0.00307153\n",
      "Epoch 14, change: 0.00225187\n",
      "Epoch 15, change: 0.00168430\n",
      "Epoch 16, change: 0.00123781\n",
      "Epoch 17, change: 0.00089388\n",
      "Epoch 18, change: 0.00067271\n",
      "Epoch 19, change: 0.00050510\n",
      "Epoch 20, change: 0.00037454\n",
      "Epoch 21, change: 0.00027573\n",
      "Epoch 22, change: 0.00020600\n",
      "Epoch 23, change: 0.00015066\n",
      "Epoch 24, change: 0.00011114\n",
      "Epoch 1, change: 1.00000000\n",
      "Epoch 2, change: 0.24111999\n",
      "Epoch 3, change: 0.08224027\n",
      "Epoch 4, change: 0.04420441\n",
      "Epoch 5, change: 0.02356983\n",
      "Epoch 6, change: 0.01601729\n",
      "Epoch 7, change: 0.01169566\n",
      "Epoch 8, change: 0.00912904\n",
      "Epoch 9, change: 0.00599837\n",
      "Epoch 10, change: 0.00323015\n",
      "Epoch 11, change: 0.00223782\n",
      "Epoch 12, change: 0.00135420\n",
      "Epoch 13, change: 0.00083236\n",
      "Epoch 14, change: 0.00056325\n",
      "Epoch 15, change: 0.00045239\n",
      "Epoch 16, change: 0.00028664\n",
      "Epoch 17, change: 0.00018185\n",
      "Epoch 18, change: 0.00012432\n",
      "Epoch 19, change: 0.00010184\n",
      "Epoch 1, change: 1.00000000\n",
      "Epoch 2, change: 0.15422771\n",
      "Epoch 3, change: 0.07691311\n",
      "Epoch 4, change: 0.03715978\n",
      "Epoch 5, change: 0.01923524\n",
      "Epoch 6, change: 0.02027001\n",
      "Epoch 7, change: 0.01112916\n",
      "Epoch 8, change: 0.00558486\n",
      "Epoch 9, change: 0.00400346\n",
      "Epoch 10, change: 0.00378746\n",
      "Epoch 11, change: 0.00212734\n",
      "Epoch 12, change: 0.00157897\n",
      "Epoch 13, change: 0.00111458\n",
      "Epoch 14, change: 0.00056826\n",
      "Epoch 15, change: 0.00045400\n",
      "Epoch 16, change: 0.00028665\n",
      "Epoch 17, change: 0.00020164\n",
      "Epoch 18, change: 0.00013861\n",
      "Epoch 1, change: 1.00000000\n",
      "Epoch 2, change: 0.19042040\n",
      "Epoch 3, change: 0.10771182\n",
      "Epoch 4, change: 0.06799199\n",
      "Epoch 5, change: 0.04668053\n",
      "Epoch 6, change: 0.03461587\n",
      "Epoch 7, change: 0.02722011\n",
      "Epoch 8, change: 0.02048427\n",
      "Epoch 9, change: 0.01669164\n",
      "Epoch 10, change: 0.01285972\n",
      "Epoch 11, change: 0.01007972\n",
      "Epoch 12, change: 0.00792514\n",
      "Epoch 13, change: 0.00609040\n",
      "Epoch 14, change: 0.00476015\n",
      "Epoch 15, change: 0.00374817\n",
      "Epoch 16, change: 0.00293939\n",
      "Epoch 17, change: 0.00229970\n",
      "Epoch 18, change: 0.00182309\n",
      "Epoch 19, change: 0.00142919\n",
      "Epoch 20, change: 0.00113327\n",
      "Epoch 21, change: 0.00089421\n",
      "Epoch 22, change: 0.00070972\n",
      "Epoch 23, change: 0.00055561\n",
      "Epoch 24, change: 0.00043595\n",
      "Epoch 25, change: 0.00034135\n",
      "Epoch 26, change: 0.00027228\n",
      "Epoch 27, change: 0.00021235\n",
      "Epoch 28, change: 0.00016780\n",
      "Epoch 29, change: 0.00013261\n",
      "Epoch 30, change: 0.00010363\n",
      "Epoch 1, change: 1.00000000\n",
      "Epoch 2, change: 1.36286124\n",
      "Epoch 3, change: 1.27176771\n",
      "Epoch 4, change: 1.18761082\n",
      "Epoch 5, change: 1.34923984\n",
      "Epoch 6, change: 1.43494742\n",
      "Epoch 7, change: 1.74545087\n",
      "Epoch 8, change: 1.11906547\n",
      "Epoch 9, change: 1.09496301\n",
      "Epoch 10, change: 0.77229767\n",
      "Epoch 11, change: 0.47988469\n",
      "Epoch 12, change: 0.77802014\n",
      "Epoch 13, change: 0.52742156\n",
      "Epoch 14, change: 2.44506191\n",
      "Epoch 15, change: 1.92327579\n",
      "Epoch 16, change: 0.67502110\n",
      "Epoch 17, change: 1.19947238\n",
      "Epoch 18, change: 1.24016380\n",
      "Epoch 19, change: 1.96446416\n",
      "Epoch 20, change: 0.80322191\n",
      "Epoch 21, change: 0.69442121\n",
      "Epoch 22, change: 1.32166594\n",
      "Epoch 23, change: 1.17246582\n",
      "Epoch 24, change: 0.90308159\n",
      "Epoch 25, change: 0.78899075\n",
      "Epoch 26, change: 1.81122992\n",
      "Epoch 27, change: 0.91944414\n",
      "Epoch 28, change: 0.87057431\n",
      "Epoch 29, change: 0.71400243\n",
      "Epoch 30, change: 0.57475148\n",
      "Epoch 31, change: 0.53802261\n",
      "Epoch 32, change: 0.63671636\n",
      "Epoch 33, change: 0.75048459\n",
      "Epoch 34, change: 0.93310248\n",
      "Epoch 35, change: 0.93122172\n",
      "Epoch 36, change: 0.65965685\n",
      "Epoch 37, change: 0.61486274\n",
      "Epoch 38, change: 1.37892161\n",
      "Epoch 39, change: 0.55575680\n",
      "Epoch 40, change: 0.74516985\n",
      "Epoch 41, change: 0.63365940\n",
      "Epoch 42, change: 0.80378599\n",
      "Epoch 43, change: 0.75904528\n",
      "Epoch 44, change: 0.55029926\n",
      "Epoch 45, change: 0.79786721\n",
      "Epoch 46, change: 0.92013945\n",
      "Epoch 47, change: 0.84789761\n",
      "Epoch 48, change: 0.58081894\n",
      "Epoch 49, change: 0.92266613\n",
      "Epoch 50, change: 0.47564834\n",
      "Epoch 51, change: 0.60401827\n",
      "Epoch 52, change: 0.899max_iter reached after 9 seconds\n",
      "---------------------------------------------------------------------------\n",
      "TRAINING\n",
      "METRICS:\tAUC 0.4973 | ACC 0.5875 | SENS 1.0000 | SPEC 0.0000 | PREC 0.5875 | F1 0.7402\n",
      "---------------------------------------------------------------------------\n",
      "TESTING\n",
      "METRICS:\tAUC 0.4466 | ACC 0.5822 | SENS 1.0000 | SPEC 0.0000 | PREC 0.5822 | F1 0.7360\n"
     ]
    },
    {
     "name": "stderr",
     "output_type": "stream",
     "text": [
      "/home/tobias/Projects/chexray-ortho/.venv/lib/python3.11/site-packages/sklearn/linear_model/_sag.py:350: ConvergenceWarning: The max_iter was reached which means the coef_ did not converge\n",
      "  warnings.warn(\n"
>>>>>>> refs/remotes/origin/main
     ]
    }
   ],
   "source": [
<<<<<<< HEAD
    "evaluator.eval_classifier(response=TARGET_DISEASE, ortho=False, clf_args={'max_epochs': 10})"
=======
    "eval_classifier(\n",
    "    train_emb_proj, train_df, test_emb_proj, test_df\n",
    ")"
>>>>>>> refs/remotes/origin/main
   ],
   "metadata": {
    "collapsed": false,
    "ExecuteTime": {
<<<<<<< HEAD
     "end_time": "2023-08-29T11:50:49.030486336Z",
     "start_time": "2023-08-29T11:50:30.404944600Z"
=======
     "end_time": "2023-07-31T14:44:17.527831820Z",
     "start_time": "2023-07-31T14:44:08.029290113Z"
>>>>>>> refs/remotes/origin/main
    }
   }
  },
  {
<<<<<<< HEAD
   "cell_type": "markdown",
   "source": [
    "### With Orthogonalization"
   ],
   "metadata": {
    "collapsed": false
   }
  },
  {
   "cell_type": "code",
   "execution_count": 5,
=======
   "cell_type": "code",
   "execution_count": 17,
>>>>>>> refs/remotes/origin/main
   "outputs": [
    {
     "name": "stderr",
     "output_type": "stream",
     "text": [
      "/home/tobias/Projects/chexray-ortho/.venv/lib/python3.11/site-packages/torch/nn/modules/lazy.py:180: UserWarning: Lazy modules are a new feature under heavy development so changes to the API or functionality can happen at any moment.\n",
      "  warnings.warn('Lazy modules are a new feature under heavy development '\n",
<<<<<<< HEAD
      "GPU available: True (cuda), used: True\n",
      "TPU available: False, using: 0 TPU cores\n",
      "IPU available: False, using: 0 IPUs\n",
      "HPU available: False, using: 0 HPUs\n",
      "LOCAL_RANK: 0 - CUDA_VISIBLE_DEVICES: [0]\n"
=======
      "GPU available: False, used: False\n",
      "TPU available: False, using: 0 TPU cores\n",
      "IPU available: False, using: 0 IPUs\n",
      "HPU available: False, using: 0 HPUs\n"
>>>>>>> refs/remotes/origin/main
     ]
    },
    {
     "data": {
      "text/plain": "Training: 0it [00:00, ?it/s]",
      "application/vnd.jupyter.widget-view+json": {
       "version_major": 2,
       "version_minor": 0,
<<<<<<< HEAD
       "model_id": "3591715d6f934e158cf8ea6bd44719c8"
=======
       "model_id": "d1d042433c8d46d39c3c6da46d62864e"
>>>>>>> refs/remotes/origin/main
      }
     },
     "metadata": {},
     "output_type": "display_data"
    },
    {
     "name": "stderr",
     "output_type": "stream",
     "text": [
      "`Trainer.fit` stopped: `max_epochs=3` reached.\n"
     ]
    },
    {
     "name": "stdout",
     "output_type": "stream",
     "text": [
      "---------------------------------------------------------------------------\n",
      "TRAINING\n",
<<<<<<< HEAD
      "METRICS:\tAUC 0.7937 | ACC 0.7234 | SENS 0.6622 | SPEC 0.7655 | PREC 0.6596 | F1 0.6609\n",
      "---------------------------------------------------------------------------\n",
      "TESTING\n",
      "METRICS:\tAUC 0.7944 | ACC 0.7252 | SENS 0.6643 | SPEC 0.7668 | PREC 0.6603 | F1 0.6623\n",
      "---------------------------------------------------------------------------\n",
      "                            OLS Regression Results                            \n",
      "==============================================================================\n",
      "Dep. Variable:                 scores   R-squared:                      -0.000\n",
      "Model:                            OLS   Adj. R-squared:                 -0.000\n",
      "Method:                 Least Squares   F-statistic:                -5.245e-12\n",
      "Date:                Tue, 29 Aug 2023   Prob (F-statistic):               1.00\n",
      "Time:                        09:30:24   Log-Likelihood:            -1.2060e+05\n",
      "No. Observations:               76205   AIC:                         2.412e+05\n",
      "Df Residuals:                   76200   BIC:                         2.413e+05\n",
      "Df Model:                           4                                         \n",
      "Covariance Type:            nonrobust                                         \n",
      "=================================================================================\n",
      "                    coef    std err          t      P>|t|      [0.025      0.975]\n",
      "---------------------------------------------------------------------------------\n",
      "Intercept        -0.4792      0.017    -28.530      0.000      -0.512      -0.446\n",
      "sex[T.F]       2.657e-09      0.009   3.06e-07      1.000      -0.017       0.017\n",
      "race[T.BLACK]  1.188e-09      0.017   7.15e-08      1.000      -0.033       0.033\n",
      "race[T.ASIAN]   1.14e-09      0.012   9.44e-08      1.000      -0.024       0.024\n",
      "age           -5.204e-09      0.025   -2.1e-07      1.000      -0.049       0.049\n",
      "==============================================================================\n",
      "Omnibus:                    11679.792   Durbin-Watson:                   1.271\n",
      "Prob(Omnibus):                  0.000   Jarque-Bera (JB):             3417.326\n",
      "Skew:                          -0.251   Prob(JB):                         0.00\n",
      "Kurtosis:                       2.092   Cond. No.                         8.90\n",
      "==============================================================================\n",
      "\n",
      "Notes:\n",
      "[1] Standard Errors assume that the covariance matrix of the errors is correctly specified.\n",
      "---------------------------------------------------------------------------\n",
      "ANOVA\n",
      "               df        sum_sq       mean_sq             F  PR(>F)\n",
      "sex           1.0  1.279920e-13  1.279920e-13  9.225684e-14     1.0\n",
      "race          2.0  2.583680e-14  1.291840e-14  9.311601e-15     1.0\n",
      "age           1.0  6.124580e-14  6.124580e-14  4.414606e-14     1.0\n",
      "Residual  76200.0  1.057157e+05  1.387345e+00           NaN     NaN\n"
=======
      "METRICS:\tAUC 0.9989 | ACC 0.9840 | SENS 0.9914 | SPEC 0.9734 | PREC 0.9815 | F1 0.9864\n",
      "---------------------------------------------------------------------------\n",
      "TESTING\n",
      "METRICS:\tAUC 0.9994 | ACC 0.9880 | SENS 0.9949 | SPEC 0.9783 | PREC 0.9846 | F1 0.9897\n"
>>>>>>> refs/remotes/origin/main
     ]
    }
   ],
   "source": [
<<<<<<< HEAD
    "evaluator.eval_classifier(response=TARGET_DISEASE, ortho=True)"
=======
    "model = get_classifier('nn_nl')\n",
    "model.fit(train_emb_proj, train_df['response'].tolist())\n",
    "\n",
    "train_df['preds'] = model.predict_proba(train_emb_proj)[:, 1]\n",
    "test_df['preds'] = model.predict_proba(test_emb_proj)[:, 1]\n",
    "\n",
    "print('-'*75 + '\\nTRAINING')\n",
    "eval_predictions(train_df['response'], train_df['preds'])\n",
    "print('-'*75 + '\\nTESTING')\n",
    "eval_predictions(test_df['response'], test_df['preds'])"
>>>>>>> refs/remotes/origin/main
   ],
   "metadata": {
    "collapsed": false,
    "ExecuteTime": {
<<<<<<< HEAD
     "end_time": "2023-08-29T07:30:24.513150420Z",
     "start_time": "2023-08-29T07:30:16.806353545Z"
=======
     "end_time": "2023-07-31T14:44:30.163673521Z",
     "start_time": "2023-07-31T14:44:17.531194509Z"
    }
   }
  },
  {
   "cell_type": "markdown",
   "source": [
    "## Project adjusted embedding back to original data space and classify again"
   ],
   "metadata": {
    "collapsed": false
   }
  },
  {
   "cell_type": "code",
   "execution_count": 18,
   "outputs": [
    {
     "name": "stderr",
     "output_type": "stream",
     "text": [
      "[Parallel(n_jobs=-1)]: Using backend ThreadingBackend with 8 concurrent workers.\n"
     ]
    },
    {
     "name": "stdout",
     "output_type": "stream",
     "text": [
      "convergence after 26 epochs took 19 seconds\n",
      "---------------------------------------------------------------------------\n",
      "TRAINING\n",
      "METRICS:\tAUC 0.5009 | ACC 0.5875 | SENS 1.0000 | SPEC 0.0000 | PREC 0.5875 | F1 0.7402\n",
      "---------------------------------------------------------------------------\n",
      "TESTING\n",
      "METRICS:\tAUC 0.4815 | ACC 0.5822 | SENS 1.0000 | SPEC 0.0000 | PREC 0.5822 | F1 0.7360\n"
     ]
    }
   ],
   "source": [
    "eval_classifier(\n",
    "    pca.inverse_transform(train_emb_proj), \n",
    "    train_df, \n",
    "    pca.inverse_transform(test_emb_proj),\n",
    "    test_df\n",
    ")"
   ],
   "metadata": {
    "collapsed": false,
    "ExecuteTime": {
     "end_time": "2023-07-31T14:44:50.523976383Z",
     "start_time": "2023-07-31T14:44:30.162254976Z"
>>>>>>> refs/remotes/origin/main
    }
   }
  }
 ],
 "metadata": {
  "kernelspec": {
   "display_name": "Python 3",
   "language": "python",
   "name": "python3"
  },
  "language_info": {
   "codemirror_mode": {
    "name": "ipython",
    "version": 2
   },
   "file_extension": ".py",
   "mimetype": "text/x-python",
   "name": "python",
   "nbconvert_exporter": "python",
   "pygments_lexer": "ipython2",
   "version": "2.7.6"
  }
 },
 "nbformat": 4,
 "nbformat_minor": 0
}
