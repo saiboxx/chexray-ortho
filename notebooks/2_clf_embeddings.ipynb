{
 "cells": [
  {
   "cell_type": "markdown",
   "source": [
    "# Embedding Orthogonalization\n"
   ],
   "metadata": {
    "collapsed": false
   }
  },
  {
   "cell_type": "code",
   "execution_count": 1,
   "outputs": [],
   "source": [
    "%load_ext autoreload\n",
    "%autoreload 2\n",
    "\n",
    "import os\n",
    "\n",
    "import numpy as np\n",
    "from src.eval import EmbeddingEvaluator, Disease\n",
    "\n",
    "\n",
    "DATA_DIR = '../data'\n",
    "DATASET = 'mimic'\n",
    "\n",
    "if DATASET == 'mimic':\n",
    "    EMBEDDING_FILE = 'mimic_densenet_mimic.npy'\n",
    "    META_FILE = 'mimic_meta.csv'\n",
    "else:\n",
    "    EMBEDDING_FILE = 'chex_densenet_chex.npy'\n",
    "    META_FILE = 'chexpert_meta.csv'\n",
    "\n",
    "N_COMPONENTS = None\n",
    "TARGET_DISEASE = Disease.PLEURAL_EFFUSION"
   ],
   "metadata": {
    "collapsed": false,
    "ExecuteTime": {
     "end_time": "2023-08-30T10:11:35.384896772Z",
     "start_time": "2023-08-30T10:11:31.963562416Z"
    }
   }
  },
  {
   "cell_type": "markdown",
   "source": [
    "## Load Metadata and Embedding"
   ],
   "metadata": {
    "collapsed": false
   }
  },
  {
   "cell_type": "code",
   "execution_count": 2,
   "outputs": [
    {
     "name": "stdout",
     "output_type": "stream",
     "text": [
      "DATASET SIZES: TRAIN 181342 | VAL 1413 | TEST 3041\n"
     ]
    }
   ],
   "source": [
    "from src.utils import get_mimic_meta_data, get_chexpert_meta_data\n",
    "\n",
    "if DATASET == 'mimic':\n",
    "    train_df, val_df, test_df = get_mimic_meta_data(os.path.join(DATA_DIR, META_FILE))\n",
    "else:\n",
    "    train_df, val_df, test_df = get_chexpert_meta_data(DATA_DIR)\n",
    "print(f'DATASET SIZES: TRAIN {len(train_df)} | VAL {len(val_df)} | TEST {len(test_df)}')\n",
    "\n",
    "emb = np.load(os.path.join(DATA_DIR, EMBEDDING_FILE))\n",
    "emb = np.nan_to_num(emb)\n",
    "train_emb = emb[train_df['idx']]\n",
    "test_emb = emb[test_df['idx']]"
   ],
   "metadata": {
    "collapsed": false,
    "ExecuteTime": {
     "end_time": "2023-08-30T10:11:38.108749532Z",
     "start_time": "2023-08-30T10:11:35.388712197Z"
    }
   }
  },
  {
   "cell_type": "code",
   "execution_count": 3,
   "outputs": [],
   "source": [
    "evaluator = EmbeddingEvaluator(train_df, test_df, train_emb, test_emb, n_components=N_COMPONENTS)"
   ],
   "metadata": {
    "collapsed": false,
    "ExecuteTime": {
     "end_time": "2023-08-30T10:11:42.350478840Z",
     "start_time": "2023-08-30T10:11:39.089593625Z"
    }
   }
  },
  {
   "cell_type": "code",
   "execution_count": null,
   "outputs": [],
   "source": [
    "ms = []\n",
    "for i, disease in enumerate(Disease, start=1):\n",
    "    print('{}\\t|\\t{}'.format(i, disease))\n",
    "    m = evaluator.get_classifier_metrics(response=disease, clf_args={'max_epochs': 10})\n",
    "    ms.append(m)"
   ],
   "metadata": {
    "collapsed": false
   }
  },
  {
   "cell_type": "code",
   "execution_count": null,
   "outputs": [],
   "source": [
    "for m, disease in zip(ms, Disease):\n",
    "   print(disease, '\\\\t', m)"
   ],
   "metadata": {
    "collapsed": false
   }
  },
  {
   "cell_type": "markdown",
   "source": [
    "### WithOUT Orthogonalization"
   ],
   "metadata": {
    "collapsed": false
   }
  },
  {
   "cell_type": "code",
   "execution_count": 4,
   "outputs": [
    {
     "name": "stderr",
     "output_type": "stream",
     "text": [
      "GPU available: False, used: False\n",
      "TPU available: False, using: 0 TPU cores\n",
      "IPU available: False, using: 0 IPUs\n",
      "HPU available: False, using: 0 HPUs\n",
      "`Trainer.fit` stopped: `max_epochs=10` reached.\n"
     ]
    },
    {
     "name": "stdout",
     "output_type": "stream",
     "text": [
      "---------------------------------------------------------------------------\n",
      "TRAINING\n",
      "METRICS:\tAUC 0.8491 | ACC 0.8009 | SENS 0.4654 | SPEC 0.9146 | PREC 0.6485 | F1 0.5419\n",
      "---------------------------------------------------------------------------\n",
      "TESTING\n",
      "METRICS:\tAUC 0.7967 | ACC 0.7475 | SENS 0.4940 | SPEC 0.8702 | PREC 0.6481 | F1 0.5606\n",
      "---------------------------------------------------------------------------\n",
      "                            OLS Regression Results                            \n",
      "==============================================================================\n",
      "Dep. Variable:                 scores   R-squared:                       0.115\n",
      "Model:                            OLS   Adj. R-squared:                  0.115\n",
      "Method:                 Least Squares   F-statistic:                     5885.\n",
      "Date:                Wed, 30 Aug 2023   Prob (F-statistic):               0.00\n",
      "Time:                        12:12:13   Log-Likelihood:            -3.5264e+05\n",
      "No. Observations:              181342   AIC:                         7.053e+05\n",
      "Df Residuals:                  181337   BIC:                         7.053e+05\n",
      "Df Model:                           4                                         \n",
      "Covariance Type:            nonrobust                                         \n",
      "=================================================================================\n",
      "                    coef    std err          t      P>|t|      [0.025      0.975]\n",
      "---------------------------------------------------------------------------------\n",
      "Intercept        -3.8538      0.016   -235.698      0.000      -3.886      -3.822\n",
      "sex[T.F]         -0.1828      0.008    -22.773      0.000      -0.199      -0.167\n",
      "race[T.BLACK]    -0.2656      0.010    -25.488      0.000      -0.286      -0.245\n",
      "race[T.ASIAN]     0.0732      0.021      3.530      0.000       0.033       0.114\n",
      "age               3.4860      0.024    144.027      0.000       3.439       3.533\n",
      "==============================================================================\n",
      "Omnibus:                    16046.512   Durbin-Watson:                   1.034\n",
      "Prob(Omnibus):                  0.000   Jarque-Bera (JB):             5313.314\n",
      "Skew:                          -0.122   Prob(JB):                         0.00\n",
      "Kurtosis:                       2.198   Cond. No.                         9.47\n",
      "==============================================================================\n",
      "\n",
      "Notes:\n",
      "[1] Standard Errors assume that the covariance matrix of the errors is correctly specified.\n",
      "Intercept         0.000000e+00\n",
      "sex[T.F]         1.243234e-114\n",
      "race[T.BLACK]    4.790110e-143\n",
      "race[T.ASIAN]     4.149084e-04\n",
      "age               0.000000e+00\n",
      "dtype: float64\n",
      "---------------------------------------------------------------------------\n",
      "ANOVA\n",
      "                df         sum_sq       mean_sq             F         PR(>F)\n",
      "sex            1.0    1535.236362   1535.236362    536.506583  1.614601e-118\n",
      "race           2.0    6469.063895   3234.531948   1130.345610   0.000000e+00\n",
      "age            1.0   59359.204444  59359.204444  20743.779082   0.000000e+00\n",
      "Residual  181337.0  518903.523495      2.861542           NaN            NaN\n"
     ]
    }
   ],
   "source": [
    "evaluator.eval_classifier(response=TARGET_DISEASE, ortho=False, clf_args={'max_epochs': 10})"
   ],
   "metadata": {
    "collapsed": false,
    "ExecuteTime": {
     "end_time": "2023-08-30T10:12:13.984287154Z",
     "start_time": "2023-08-30T10:11:42.348669188Z"
    }
   }
  },
  {
   "cell_type": "markdown",
   "source": [
    "### With Orthogonalization"
   ],
   "metadata": {
    "collapsed": false
   }
  },
  {
   "cell_type": "code",
   "execution_count": 5,
   "outputs": [
    {
     "name": "stderr",
     "output_type": "stream",
     "text": [
      "GPU available: False, used: False\n",
      "TPU available: False, using: 0 TPU cores\n",
      "IPU available: False, using: 0 IPUs\n",
      "HPU available: False, using: 0 HPUs\n",
      "`Trainer.fit` stopped: `max_epochs=10` reached.\n"
     ]
    },
    {
     "name": "stdout",
     "output_type": "stream",
     "text": [
      "---------------------------------------------------------------------------\n",
      "TRAINING\n",
      "METRICS:\tAUC 0.8322 | ACC 0.7919 | SENS 0.4246 | SPEC 0.9163 | PREC 0.6321 | F1 0.5080\n",
      "---------------------------------------------------------------------------\n",
      "TESTING\n",
      "METRICS:\tAUC 0.7811 | ACC 0.7333 | SENS 0.4496 | SPEC 0.8707 | PREC 0.6273 | F1 0.5238\n",
      "---------------------------------------------------------------------------\n",
      "                            OLS Regression Results                            \n",
      "==============================================================================\n",
      "Dep. Variable:                 scores   R-squared:                       0.000\n",
      "Model:                            OLS   Adj. R-squared:                 -0.000\n",
      "Method:                 Least Squares   F-statistic:                     0.000\n",
      "Date:                Wed, 30 Aug 2023   Prob (F-statistic):               1.00\n",
      "Time:                        12:16:22   Log-Likelihood:            -3.2311e+05\n",
      "No. Observations:              181342   AIC:                         6.462e+05\n",
      "Df Residuals:                  181337   BIC:                         6.463e+05\n",
      "Df Model:                           4                                         \n",
      "Covariance Type:            nonrobust                                         \n",
      "=================================================================================\n",
      "                    coef    std err          t      P>|t|      [0.025      0.975]\n",
      "---------------------------------------------------------------------------------\n",
      "Intercept        -1.5343      0.014   -110.431      0.000      -1.562      -1.507\n",
      "sex[T.F]       1.353e-10      0.007   1.98e-08      1.000      -0.013       0.013\n",
      "race[T.BLACK] -1.014e-10      0.009  -1.14e-08      1.000      -0.017       0.017\n",
      "race[T.ASIAN]  2.605e-09      0.018   1.48e-07      1.000      -0.035       0.035\n",
      "age           -4.408e-09      0.021  -2.14e-07      1.000      -0.040       0.040\n",
      "==============================================================================\n",
      "Omnibus:                    19389.841   Durbin-Watson:                   1.054\n",
      "Prob(Omnibus):                  0.000   Jarque-Bera (JB):             5692.778\n",
      "Skew:                           0.100   Prob(JB):                         0.00\n",
      "Kurtosis:                       2.155   Cond. No.                         9.47\n",
      "==============================================================================\n",
      "\n",
      "Notes:\n",
      "[1] Standard Errors assume that the covariance matrix of the errors is correctly specified.\n",
      "Intercept        0.0\n",
      "sex[T.F]         1.0\n",
      "race[T.BLACK]    1.0\n",
      "race[T.ASIAN]    1.0\n",
      "age              1.0\n",
      "dtype: float64\n",
      "---------------------------------------------------------------------------\n",
      "ANOVA\n",
      "                df        sum_sq       mean_sq             F  PR(>F)\n",
      "sex            1.0  3.591096e-16  3.591096e-16  1.738025e-16     1.0\n",
      "race           2.0  4.806463e-14  2.403231e-14  1.163120e-14     1.0\n",
      "age            1.0  9.492222e-14  9.492222e-14  4.594063e-14     1.0\n",
      "Residual  181337.0  3.746773e+05  2.066193e+00           NaN     NaN\n"
     ]
    }
   ],
   "source": [
    "evaluator.eval_classifier(response=TARGET_DISEASE, ortho=True, clf_args={'max_epochs': 10})"
   ],
   "metadata": {
    "collapsed": false,
    "ExecuteTime": {
     "end_time": "2023-08-30T10:16:22.380267600Z",
     "start_time": "2023-08-30T10:15:59.535703960Z"
    }
   }
  }
 ],
 "metadata": {
  "kernelspec": {
   "display_name": "Python 3",
   "language": "python",
   "name": "python3"
  },
  "language_info": {
   "codemirror_mode": {
    "name": "ipython",
    "version": 2
   },
   "file_extension": ".py",
   "mimetype": "text/x-python",
   "name": "python",
   "nbconvert_exporter": "python",
   "pygments_lexer": "ipython2",
   "version": "2.7.6"
  }
 },
 "nbformat": 4,
 "nbformat_minor": 0
}
