{
 "cells": [
  {
   "cell_type": "markdown",
   "source": [
    "# Predict Protected Features\n"
   ],
   "metadata": {
    "collapsed": false
   },
   "id": "2cd767d485d3fe36"
  },
  {
   "cell_type": "code",
   "execution_count": 1,
   "outputs": [],
   "source": [
    "import torch\n",
    "%load_ext autoreload\n",
    "%autoreload 2\n",
    "\n",
    "import os\n",
    "\n",
    "import numpy as np\n",
    "from src.eval import EmbeddingEvaluator, Disease\n",
    "\n",
    "DATA_DIR = '../data'\n",
    "EMBEDDING_FILE = 'mimic_cfm.npy'\n",
    "META_FILE = 'mimic_meta.csv'\n",
    "\n",
    "N_COMPONENTS = None\n",
    "TARGET_DISEASE = Disease.PLEURAL_EFFUSION"
   ],
   "metadata": {
    "collapsed": false,
    "ExecuteTime": {
     "end_time": "2023-09-29T11:45:00.418344738Z",
     "start_time": "2023-09-29T11:44:53.415467548Z"
    }
   },
   "id": "bf50f6a9fae815ec"
  },
  {
   "cell_type": "markdown",
   "source": [
    "## Load Metadata and Embedding"
   ],
   "metadata": {
    "collapsed": false
   },
   "id": "1ffcd65d779f4e81"
  },
  {
   "cell_type": "code",
   "execution_count": null,
   "outputs": [
    {
     "name": "stdout",
     "output_type": "stream",
     "text": [
      "DATASET SIZES: TRAIN 181342 | VAL 1413 | TEST 3041\n"
     ]
    }
   ],
   "source": [
    "from src.utils import get_mimic_meta_data\n",
    "\n",
    "train_df, val_df, test_df = get_mimic_meta_data(os.path.join(DATA_DIR, META_FILE))\n",
    "print(f'DATASET SIZES: TRAIN {len(train_df)} | VAL {len(val_df)} | TEST {len(test_df)}')\n",
    "\n",
    "emb = np.load(os.path.join(DATA_DIR, EMBEDDING_FILE))\n",
    "emb = np.nan_to_num(emb)\n",
    "train_emb = emb[train_df['idx']]\n",
    "test_emb = emb[test_df['idx']]"
   ],
   "metadata": {
    "collapsed": false,
    "is_executing": true,
    "ExecuteTime": {
     "start_time": "2023-09-29T11:45:00.419579255Z"
    }
   },
   "id": "44b8e775dd8055e0"
  },
  {
   "cell_type": "markdown",
   "source": [],
   "metadata": {
    "collapsed": false
   },
   "id": "b0bc6a437bd65703"
  },
  {
   "cell_type": "code",
   "execution_count": null,
   "outputs": [],
   "source": [
    "evaluator = EmbeddingEvaluator(train_df, test_df, train_emb, test_emb)"
   ],
   "metadata": {
    "collapsed": false,
    "is_executing": true
   },
   "id": "69931c207f423c83"
  },
  {
   "cell_type": "markdown",
   "source": [
    "## Predict Age"
   ],
   "metadata": {
    "collapsed": false
   },
   "id": "4f567dcf4f1a99aa"
  },
  {
   "cell_type": "code",
   "execution_count": 4,
   "outputs": [
    {
     "name": "stderr",
     "output_type": "stream",
     "text": [
      "Global seed set to 1337424242\n"
     ]
    }
   ],
   "source": [
    "from src.net import TensorDataset, ClassificationModule\n",
    "from torch import nn, Tensor\n",
    "from typing import Sequence, Tuple\n",
    "import pytorch_lightning as L\n",
    "import warnings\n",
    "from sklearn.metrics import mean_squared_error, r2_score, mean_absolute_error\n",
    "\n",
    "from torch.utils.data import DataLoader\n",
    "\n",
    "L.seed_everything(1337424242)\n",
    "\n",
    "\n",
    "def train_age_regressor(\n",
    "    x_train: np.ndarray,\n",
    "    y_train: Sequence,\n",
    "    x_val: Tensor,\n",
    "    y_val: Sequence,\n",
    "    max_epochs: int = 10,\n",
    "    batch_size: int = 256,\n",
    ") -> Tuple[np.ndarray, np.ndarray]:\n",
    "    # Create PyTorch datasets and data loaders\n",
    "    train_dataset = TensorDataset(x_train, y_train)\n",
    "    val_dataset = TensorDataset(x_val, y_val)\n",
    "\n",
    "    train_loader = DataLoader(train_dataset, batch_size=batch_size, shuffle=True)\n",
    "    val_loader = DataLoader(val_dataset, batch_size=2 * batch_size)\n",
    "\n",
    "    # Initialize the PyTorch Lightning model\n",
    "    model = ClassificationModule(\n",
    "        model=nn.Linear(x_train.shape[1], 1),\n",
    "        loss_func=nn.MSELoss()\n",
    "    )\n",
    "\n",
    "    # Initialize the PyTorch Lightning Trainer\n",
    "    trainer = L.Trainer(max_epochs=max_epochs)\n",
    "\n",
    "    # Train the model\n",
    "    trainer.fit(model, train_loader, val_loader)\n",
    "\n",
    "    # Test the model\n",
    "    model.eval()\n",
    "    # Remove shuffle for train predictions\n",
    "    train_loader = DataLoader(train_dataset, batch_size=batch_size)\n",
    "    res = {}\n",
    "    with torch.no_grad():\n",
    "        for loader, name in [(train_loader, 'train'), (val_loader, 'val')]:\n",
    "            y_pred_list = []\n",
    "            y_true_list = []\n",
    "            for x_batch, y_batch in loader:\n",
    "                y_pred = model(x_batch)\n",
    "                y_pred_list.extend(y_pred.detach().numpy() * 100)\n",
    "                y_true_list.extend(y_batch.numpy() * 100)\n",
    "\n",
    "            res[name] = y_pred_list\n",
    "            \n",
    "            \n",
    "\n",
    "            # Calculate Metrics using scikit-learn\n",
    "            mae = mean_absolute_error(y_true_list, y_pred_list)\n",
    "            r2 = r2_score(y_true_list, y_pred_list)\n",
    "            print(f'{name} MAE: {mae:.4f} | R2: {r2:.4f}')\n"
   ],
   "metadata": {
    "collapsed": false,
    "ExecuteTime": {
     "end_time": "2023-09-29T10:58:49.239390529Z",
     "start_time": "2023-09-29T10:58:49.174374094Z"
    }
   },
   "id": "e655fa211c3e8662"
  },
  {
   "cell_type": "markdown",
   "source": [
    "### Age NON-ortho"
   ],
   "metadata": {
    "collapsed": false
   },
   "id": "5f874aaabc2aab82"
  },
  {
   "cell_type": "code",
   "execution_count": 5,
   "outputs": [
    {
     "name": "stderr",
     "output_type": "stream",
     "text": [
      "GPU available: True (cuda), used: True\n",
      "TPU available: False, using: 0 TPU cores\n",
      "IPU available: False, using: 0 IPUs\n",
      "HPU available: False, using: 0 HPUs\n",
      "/home/tobias/Projects/chexray-ortho/.venv/lib/python3.11/site-packages/pytorch_lightning/trainer/connectors/logger_connector/logger_connector.py:67: UserWarning: Starting from v1.9.0, `tensorboardX` has been removed as a dependency of the `pytorch_lightning` package, due to potential conflicts with other packages in the ML ecosystem. For this reason, `logger=True` will use `CSVLogger` as the default logger, unless the `tensorboard` or `tensorboardX` packages are found. Please `pip install lightning[extra]` or one of them to enable TensorBoard support by default\n",
      "  warning_cache.warn(\n",
      "LOCAL_RANK: 0 - CUDA_VISIBLE_DEVICES: [0]\n",
      "\n",
      "  | Name      | Type    | Params\n",
      "--------------------------------------\n",
      "0 | model     | Linear  | 1.4 K \n",
      "1 | loss_func | MSELoss | 0     \n",
      "--------------------------------------\n",
      "1.4 K     Trainable params\n",
      "0         Non-trainable params\n",
      "1.4 K     Total params\n",
      "0.006     Total estimated model params size (MB)\n"
     ]
    },
    {
     "data": {
      "text/plain": "Sanity Checking: 0it [00:00, ?it/s]",
      "application/vnd.jupyter.widget-view+json": {
       "version_major": 2,
       "version_minor": 0,
       "model_id": "84d899065e6b4b2ea449e8dc77f9a5e0"
      }
     },
     "metadata": {},
     "output_type": "display_data"
    },
    {
     "name": "stderr",
     "output_type": "stream",
     "text": [
      "/home/tobias/Projects/chexray-ortho/.venv/lib/python3.11/site-packages/pytorch_lightning/trainer/connectors/data_connector.py:432: PossibleUserWarning: The dataloader, val_dataloader, does not have many workers which may be a bottleneck. Consider increasing the value of the `num_workers` argument` (try 4 which is the number of cpus on this machine) in the `DataLoader` init to improve performance.\n",
      "  rank_zero_warn(\n",
      "/home/tobias/Projects/chexray-ortho/.venv/lib/python3.11/site-packages/pytorch_lightning/trainer/connectors/data_connector.py:432: PossibleUserWarning: The dataloader, train_dataloader, does not have many workers which may be a bottleneck. Consider increasing the value of the `num_workers` argument` (try 4 which is the number of cpus on this machine) in the `DataLoader` init to improve performance.\n",
      "  rank_zero_warn(\n"
     ]
    },
    {
     "data": {
      "text/plain": "Training: 0it [00:00, ?it/s]",
      "application/vnd.jupyter.widget-view+json": {
       "version_major": 2,
       "version_minor": 0,
       "model_id": "9eeacd52698b4760b4610b97eac012f2"
      }
     },
     "metadata": {},
     "output_type": "display_data"
    },
    {
     "data": {
      "text/plain": "Validation: 0it [00:00, ?it/s]",
      "application/vnd.jupyter.widget-view+json": {
       "version_major": 2,
       "version_minor": 0,
       "model_id": "d7572f923b6042619edea8d1d62bf6ba"
      }
     },
     "metadata": {},
     "output_type": "display_data"
    },
    {
     "data": {
      "text/plain": "Validation: 0it [00:00, ?it/s]",
      "application/vnd.jupyter.widget-view+json": {
       "version_major": 2,
       "version_minor": 0,
       "model_id": "ea52909310c54d7f9d5d78f8b5781ea8"
      }
     },
     "metadata": {},
     "output_type": "display_data"
    },
    {
     "data": {
      "text/plain": "Validation: 0it [00:00, ?it/s]",
      "application/vnd.jupyter.widget-view+json": {
       "version_major": 2,
       "version_minor": 0,
       "model_id": "5a640456f93741069e7f012bdd2a8b3b"
      }
     },
     "metadata": {},
     "output_type": "display_data"
    },
    {
     "data": {
      "text/plain": "Validation: 0it [00:00, ?it/s]",
      "application/vnd.jupyter.widget-view+json": {
       "version_major": 2,
       "version_minor": 0,
       "model_id": "fa9a9e1996f346438dc3ab0c58f5e57d"
      }
     },
     "metadata": {},
     "output_type": "display_data"
    },
    {
     "data": {
      "text/plain": "Validation: 0it [00:00, ?it/s]",
      "application/vnd.jupyter.widget-view+json": {
       "version_major": 2,
       "version_minor": 0,
       "model_id": "0cc8e9ad76c14f3a918c5cf51636adb2"
      }
     },
     "metadata": {},
     "output_type": "display_data"
    },
    {
     "data": {
      "text/plain": "Validation: 0it [00:00, ?it/s]",
      "application/vnd.jupyter.widget-view+json": {
       "version_major": 2,
       "version_minor": 0,
       "model_id": "c90b9e1874c64ed1957aa9beed42838f"
      }
     },
     "metadata": {},
     "output_type": "display_data"
    },
    {
     "data": {
      "text/plain": "Validation: 0it [00:00, ?it/s]",
      "application/vnd.jupyter.widget-view+json": {
       "version_major": 2,
       "version_minor": 0,
       "model_id": "3077377e68de44438b4514905080cf3d"
      }
     },
     "metadata": {},
     "output_type": "display_data"
    },
    {
     "data": {
      "text/plain": "Validation: 0it [00:00, ?it/s]",
      "application/vnd.jupyter.widget-view+json": {
       "version_major": 2,
       "version_minor": 0,
       "model_id": "b392cc0860d7477aa3f2fac692c746ec"
      }
     },
     "metadata": {},
     "output_type": "display_data"
    },
    {
     "data": {
      "text/plain": "Validation: 0it [00:00, ?it/s]",
      "application/vnd.jupyter.widget-view+json": {
       "version_major": 2,
       "version_minor": 0,
       "model_id": "7624f9688562453eac524831b1d7afc8"
      }
     },
     "metadata": {},
     "output_type": "display_data"
    },
    {
     "data": {
      "text/plain": "Validation: 0it [00:00, ?it/s]",
      "application/vnd.jupyter.widget-view+json": {
       "version_major": 2,
       "version_minor": 0,
       "model_id": "26a9c49a4a384b2487024e4e4b677d14"
      }
     },
     "metadata": {},
     "output_type": "display_data"
    },
    {
     "name": "stderr",
     "output_type": "stream",
     "text": [
      "`Trainer.fit` stopped: `max_epochs=10` reached.\n"
     ]
    },
    {
     "name": "stdout",
     "output_type": "stream",
     "text": [
      "train MAE: 6.8033 | R2: 0.7331\n",
      "val MAE: 6.8489 | R2: 0.4968\n"
     ]
    }
   ],
   "source": [
    "train_age_regressor(\n",
    "    evaluator.train_emb,\n",
    "    train_df['age'].tolist(),\n",
    "    evaluator.test_emb,\n",
    "    test_df['age'].tolist(),\n",
    ")"
   ],
   "metadata": {
    "collapsed": false,
    "ExecuteTime": {
     "end_time": "2023-09-29T08:49:52.089938837Z",
     "start_time": "2023-09-29T08:48:46.822514089Z"
    }
   },
   "id": "a4b5c0e989ca207"
  },
  {
   "cell_type": "markdown",
   "source": [
    "### Age ortho\n"
   ],
   "metadata": {
    "collapsed": false
   },
   "id": "b90cc02dd855b86e"
  },
  {
   "cell_type": "code",
   "execution_count": 6,
   "outputs": [
    {
     "name": "stderr",
     "output_type": "stream",
     "text": [
      "GPU available: True (cuda), used: True\n",
      "TPU available: False, using: 0 TPU cores\n",
      "IPU available: False, using: 0 IPUs\n",
      "HPU available: False, using: 0 HPUs\n",
      "LOCAL_RANK: 0 - CUDA_VISIBLE_DEVICES: [0]\n",
      "\n",
      "  | Name      | Type    | Params\n",
      "--------------------------------------\n",
      "0 | model     | Linear  | 1.4 K \n",
      "1 | loss_func | MSELoss | 0     \n",
      "--------------------------------------\n",
      "1.4 K     Trainable params\n",
      "0         Non-trainable params\n",
      "1.4 K     Total params\n",
      "0.006     Total estimated model params size (MB)\n"
     ]
    },
    {
     "data": {
      "text/plain": "Sanity Checking: 0it [00:00, ?it/s]",
      "application/vnd.jupyter.widget-view+json": {
       "version_major": 2,
       "version_minor": 0,
       "model_id": "8cb61d1887d7483188d8bb87387ff8b8"
      }
     },
     "metadata": {},
     "output_type": "display_data"
    },
    {
     "name": "stderr",
     "output_type": "stream",
     "text": [
      "/home/tobias/Projects/chexray-ortho/.venv/lib/python3.11/site-packages/pytorch_lightning/trainer/connectors/data_connector.py:432: PossibleUserWarning: The dataloader, val_dataloader, does not have many workers which may be a bottleneck. Consider increasing the value of the `num_workers` argument` (try 4 which is the number of cpus on this machine) in the `DataLoader` init to improve performance.\n",
      "  rank_zero_warn(\n",
      "/home/tobias/Projects/chexray-ortho/.venv/lib/python3.11/site-packages/pytorch_lightning/trainer/connectors/data_connector.py:432: PossibleUserWarning: The dataloader, train_dataloader, does not have many workers which may be a bottleneck. Consider increasing the value of the `num_workers` argument` (try 4 which is the number of cpus on this machine) in the `DataLoader` init to improve performance.\n",
      "  rank_zero_warn(\n"
     ]
    },
    {
     "data": {
      "text/plain": "Training: 0it [00:00, ?it/s]",
      "application/vnd.jupyter.widget-view+json": {
       "version_major": 2,
       "version_minor": 0,
       "model_id": "8fff5b1f23f64b19a0edddb59887eace"
      }
     },
     "metadata": {},
     "output_type": "display_data"
    }
   ],
   "source": [
    "train_age_regressor(\n",
    "    evaluator.train_emb_ortho,\n",
    "    train_df['age'].tolist(),\n",
    "    evaluator.test_emb_ortho,\n",
    "    test_df['age'].tolist(),\n",
    ")"
   ],
   "metadata": {
    "collapsed": false,
    "ExecuteTime": {
     "end_time": "2023-09-29T08:50:41.271626974Z",
     "start_time": "2023-09-29T08:49:52.091902208Z"
    }
   },
   "id": "7f48f86810ba5709"
  },
  {
   "cell_type": "markdown",
   "source": [
    "## Predict Sex"
   ],
   "metadata": {
    "collapsed": false
   },
   "id": "714fc2514bb907fa"
  },
  {
   "cell_type": "code",
   "execution_count": 5,
   "outputs": [
    {
     "name": "stderr",
     "output_type": "stream",
     "text": [
      "Global seed set to 1337424242\n"
     ]
    }
   ],
   "source": [
    "\n",
    "from src.utils import eval_predictions\n",
    "\n",
    "from torch.utils.data import DataLoader\n",
    "\n",
    "L.seed_everything(1337424242)\n",
    "\n",
    "\n",
    "def train_sex_regressor(\n",
    "    x_train: np.ndarray,\n",
    "    y_train: Sequence,\n",
    "    x_val: Tensor,\n",
    "    y_val: Sequence,\n",
    "    max_epochs: int = 10,\n",
    "    batch_size: int = 256,\n",
    ") -> Tuple[np.ndarray, np.ndarray]:\n",
    "    # Create PyTorch datasets and data loaders\n",
    "    train_dataset = TensorDataset(x_train, y_train)\n",
    "    val_dataset = TensorDataset(x_val, y_val)\n",
    "\n",
    "    train_loader = DataLoader(train_dataset, batch_size=batch_size, shuffle=True)\n",
    "    val_loader = DataLoader(val_dataset, batch_size=2 * batch_size)\n",
    "\n",
    "    # Initialize the PyTorch Lightning model\n",
    "    model = ClassificationModule(\n",
    "        model=nn.Linear(x_train.shape[1], 1),\n",
    "        loss_func=nn.BCEWithLogitsLoss()\n",
    "    )\n",
    "\n",
    "    # Initialize the PyTorch Lightning Trainer\n",
    "    trainer = L.Trainer(max_epochs=max_epochs)\n",
    "\n",
    "    # Train the model\n",
    "    trainer.fit(model, train_loader, val_loader)\n",
    "\n",
    "    # Test the model\n",
    "    model.eval()\n",
    "    # Remove shuffle for train predictions\n",
    "    train_loader = DataLoader(train_dataset, batch_size=batch_size)\n",
    "    res = {}\n",
    "    with torch.no_grad():\n",
    "        for loader, name in [(train_loader, 'train'), (val_loader, 'val')]:\n",
    "            y_pred_list = []\n",
    "            y_true_list = []\n",
    "            for x_batch, y_batch in loader:\n",
    "                y_pred = model(x_batch)\n",
    "                y_pred_list.extend(torch.sigmoid(y_pred).detach().numpy())\n",
    "                y_true_list.extend(y_batch.numpy())\n",
    "\n",
    "            res[name] = y_pred_list\n",
    "            \n",
    "            \n",
    "\n",
    "            # Calculate Metrics using scikit-learn\n",
    "            eval_predictions(np.asarray(y_true_list), np.asarray(y_pred_list))\n"
   ],
   "metadata": {
    "collapsed": false,
    "ExecuteTime": {
     "end_time": "2023-09-29T08:51:11.399907663Z",
     "start_time": "2023-09-29T08:51:11.353828590Z"
    }
   },
   "id": "6234be8773b5375d"
  },
  {
   "cell_type": "markdown",
   "source": [
    "### Sex NON-ortho"
   ],
   "metadata": {
    "collapsed": false
   },
   "id": "c13c9a5380c840af"
  },
  {
   "cell_type": "code",
   "execution_count": 6,
   "outputs": [
    {
     "name": "stderr",
     "output_type": "stream",
     "text": [
      "GPU available: True (cuda), used: True\n",
      "TPU available: False, using: 0 TPU cores\n",
      "IPU available: False, using: 0 IPUs\n",
      "HPU available: False, using: 0 HPUs\n",
      "/home/tobias/Projects/chexray-ortho/.venv/lib/python3.11/site-packages/pytorch_lightning/trainer/connectors/logger_connector/logger_connector.py:67: UserWarning: Starting from v1.9.0, `tensorboardX` has been removed as a dependency of the `pytorch_lightning` package, due to potential conflicts with other packages in the ML ecosystem. For this reason, `logger=True` will use `CSVLogger` as the default logger, unless the `tensorboard` or `tensorboardX` packages are found. Please `pip install lightning[extra]` or one of them to enable TensorBoard support by default\n",
      "  warning_cache.warn(\n",
      "LOCAL_RANK: 0 - CUDA_VISIBLE_DEVICES: [0]\n",
      "\n",
      "  | Name      | Type              | Params\n",
      "------------------------------------------------\n",
      "0 | model     | Linear            | 1.4 K \n",
      "1 | loss_func | BCEWithLogitsLoss | 0     \n",
      "------------------------------------------------\n",
      "1.4 K     Trainable params\n",
      "0         Non-trainable params\n",
      "1.4 K     Total params\n",
      "0.006     Total estimated model params size (MB)\n"
     ]
    },
    {
     "data": {
      "text/plain": "Sanity Checking: 0it [00:00, ?it/s]",
      "application/vnd.jupyter.widget-view+json": {
       "version_major": 2,
       "version_minor": 0,
       "model_id": "102d36bc823646f982a4ae969ee3162a"
      }
     },
     "metadata": {},
     "output_type": "display_data"
    },
    {
     "name": "stderr",
     "output_type": "stream",
     "text": [
      "/home/tobias/Projects/chexray-ortho/.venv/lib/python3.11/site-packages/pytorch_lightning/trainer/connectors/data_connector.py:432: PossibleUserWarning: The dataloader, val_dataloader, does not have many workers which may be a bottleneck. Consider increasing the value of the `num_workers` argument` (try 4 which is the number of cpus on this machine) in the `DataLoader` init to improve performance.\n",
      "  rank_zero_warn(\n",
      "/home/tobias/Projects/chexray-ortho/.venv/lib/python3.11/site-packages/pytorch_lightning/trainer/connectors/data_connector.py:432: PossibleUserWarning: The dataloader, train_dataloader, does not have many workers which may be a bottleneck. Consider increasing the value of the `num_workers` argument` (try 4 which is the number of cpus on this machine) in the `DataLoader` init to improve performance.\n",
      "  rank_zero_warn(\n"
     ]
    },
    {
     "data": {
      "text/plain": "Training: 0it [00:00, ?it/s]",
      "application/vnd.jupyter.widget-view+json": {
       "version_major": 2,
       "version_minor": 0,
       "model_id": "faa27f5f64f34bca9b94a347c9831045"
      }
     },
     "metadata": {},
     "output_type": "display_data"
    },
    {
     "data": {
      "text/plain": "Validation: 0it [00:00, ?it/s]",
      "application/vnd.jupyter.widget-view+json": {
       "version_major": 2,
       "version_minor": 0,
       "model_id": "3ad8de485dfb4a03b88ee0407b6a4211"
      }
     },
     "metadata": {},
     "output_type": "display_data"
    },
    {
     "data": {
      "text/plain": "Validation: 0it [00:00, ?it/s]",
      "application/vnd.jupyter.widget-view+json": {
       "version_major": 2,
       "version_minor": 0,
       "model_id": "a5ff3b0eb20a49719dd8d0126da68462"
      }
     },
     "metadata": {},
     "output_type": "display_data"
    },
    {
     "data": {
      "text/plain": "Validation: 0it [00:00, ?it/s]",
      "application/vnd.jupyter.widget-view+json": {
       "version_major": 2,
       "version_minor": 0,
       "model_id": "96653ec1cf684ef6b9477cb6c4899a9b"
      }
     },
     "metadata": {},
     "output_type": "display_data"
    },
    {
     "data": {
      "text/plain": "Validation: 0it [00:00, ?it/s]",
      "application/vnd.jupyter.widget-view+json": {
       "version_major": 2,
       "version_minor": 0,
       "model_id": "d2468466fb2647c5b6d1fd71b1733054"
      }
     },
     "metadata": {},
     "output_type": "display_data"
    },
    {
     "data": {
      "text/plain": "Validation: 0it [00:00, ?it/s]",
      "application/vnd.jupyter.widget-view+json": {
       "version_major": 2,
       "version_minor": 0,
       "model_id": "c43f325bca1c4c72bd405c4556f1e6fc"
      }
     },
     "metadata": {},
     "output_type": "display_data"
    },
    {
     "data": {
      "text/plain": "Validation: 0it [00:00, ?it/s]",
      "application/vnd.jupyter.widget-view+json": {
       "version_major": 2,
       "version_minor": 0,
       "model_id": "156e7559d18b49d2b1330ac33f56361c"
      }
     },
     "metadata": {},
     "output_type": "display_data"
    },
    {
     "data": {
      "text/plain": "Validation: 0it [00:00, ?it/s]",
      "application/vnd.jupyter.widget-view+json": {
       "version_major": 2,
       "version_minor": 0,
       "model_id": "83ac39325ecf4a33bf70d9fd7e150179"
      }
     },
     "metadata": {},
     "output_type": "display_data"
    },
    {
     "data": {
      "text/plain": "Validation: 0it [00:00, ?it/s]",
      "application/vnd.jupyter.widget-view+json": {
       "version_major": 2,
       "version_minor": 0,
       "model_id": "7f55f0c7af64422ca95436454e33b440"
      }
     },
     "metadata": {},
     "output_type": "display_data"
    },
    {
     "data": {
      "text/plain": "Validation: 0it [00:00, ?it/s]",
      "application/vnd.jupyter.widget-view+json": {
       "version_major": 2,
       "version_minor": 0,
       "model_id": "fcd7feca335d4ff8a6b4bcc6afe935a9"
      }
     },
     "metadata": {},
     "output_type": "display_data"
    },
    {
     "data": {
      "text/plain": "Validation: 0it [00:00, ?it/s]",
      "application/vnd.jupyter.widget-view+json": {
       "version_major": 2,
       "version_minor": 0,
       "model_id": "ff38148a373b41339393260c8b53ae58"
      }
     },
     "metadata": {},
     "output_type": "display_data"
    },
    {
     "name": "stderr",
     "output_type": "stream",
     "text": [
      "`Trainer.fit` stopped: `max_epochs=10` reached.\n"
     ]
    },
    {
     "name": "stdout",
     "output_type": "stream",
     "text": [
      "METRICS:\tAUC 0.9876 | ACC 0.9400 | SENS 0.9693 | SPEC 0.9060 | PREC 0.9228 | F1 0.9455\n",
      "METRICS:\tAUC 0.9792 | ACC 0.9191 | SENS 0.9638 | SPEC 0.8655 | PREC 0.8957 | F1 0.9285\n"
     ]
    }
   ],
   "source": [
    "train_sex_regressor(\n",
    "    evaluator.train_emb,\n",
    "    np.where(train_df['sex'] == 'M', 1, 0),\n",
    "    evaluator.test_emb,\n",
    "    np.where(test_df['sex'] == 'M', 1, 0),\n",
    ")"
   ],
   "metadata": {
    "collapsed": false,
    "ExecuteTime": {
     "end_time": "2023-09-29T08:52:20.129858150Z",
     "start_time": "2023-09-29T08:51:14.729481701Z"
    }
   },
   "id": "2104809df717ee1b"
  },
  {
   "cell_type": "markdown",
   "source": [
    "### Sex ortho\n"
   ],
   "metadata": {
    "collapsed": false
   },
   "id": "c649bdf8a15126c6"
  },
  {
   "cell_type": "code",
   "execution_count": 7,
   "outputs": [
    {
     "name": "stderr",
     "output_type": "stream",
     "text": [
      "GPU available: True (cuda), used: True\n",
      "TPU available: False, using: 0 TPU cores\n",
      "IPU available: False, using: 0 IPUs\n",
      "HPU available: False, using: 0 HPUs\n",
      "LOCAL_RANK: 0 - CUDA_VISIBLE_DEVICES: [0]\n",
      "\n",
      "  | Name      | Type              | Params\n",
      "------------------------------------------------\n",
      "0 | model     | Linear            | 1.4 K \n",
      "1 | loss_func | BCEWithLogitsLoss | 0     \n",
      "------------------------------------------------\n",
      "1.4 K     Trainable params\n",
      "0         Non-trainable params\n",
      "1.4 K     Total params\n",
      "0.006     Total estimated model params size (MB)\n"
     ]
    },
    {
     "data": {
      "text/plain": "Sanity Checking: 0it [00:00, ?it/s]",
      "application/vnd.jupyter.widget-view+json": {
       "version_major": 2,
       "version_minor": 0,
       "model_id": "16df87854ece4a069e46ca0282f65b42"
      }
     },
     "metadata": {},
     "output_type": "display_data"
    },
    {
     "name": "stderr",
     "output_type": "stream",
     "text": [
      "/home/tobias/Projects/chexray-ortho/.venv/lib/python3.11/site-packages/pytorch_lightning/trainer/connectors/data_connector.py:432: PossibleUserWarning: The dataloader, val_dataloader, does not have many workers which may be a bottleneck. Consider increasing the value of the `num_workers` argument` (try 4 which is the number of cpus on this machine) in the `DataLoader` init to improve performance.\n",
      "  rank_zero_warn(\n",
      "/home/tobias/Projects/chexray-ortho/.venv/lib/python3.11/site-packages/pytorch_lightning/trainer/connectors/data_connector.py:432: PossibleUserWarning: The dataloader, train_dataloader, does not have many workers which may be a bottleneck. Consider increasing the value of the `num_workers` argument` (try 4 which is the number of cpus on this machine) in the `DataLoader` init to improve performance.\n",
      "  rank_zero_warn(\n"
     ]
    },
    {
     "data": {
      "text/plain": "Training: 0it [00:00, ?it/s]",
      "application/vnd.jupyter.widget-view+json": {
       "version_major": 2,
       "version_minor": 0,
       "model_id": "830f78a573fd48b5a1e1e85f5cfdd18a"
      }
     },
     "metadata": {},
     "output_type": "display_data"
    },
    {
     "data": {
      "text/plain": "Validation: 0it [00:00, ?it/s]",
      "application/vnd.jupyter.widget-view+json": {
       "version_major": 2,
       "version_minor": 0,
       "model_id": "b6133a895d774a118d08a721c6929978"
      }
     },
     "metadata": {},
     "output_type": "display_data"
    },
    {
     "data": {
      "text/plain": "Validation: 0it [00:00, ?it/s]",
      "application/vnd.jupyter.widget-view+json": {
       "version_major": 2,
       "version_minor": 0,
       "model_id": "1643d0e2298743079ef8e43af006ec4a"
      }
     },
     "metadata": {},
     "output_type": "display_data"
    },
    {
     "data": {
      "text/plain": "Validation: 0it [00:00, ?it/s]",
      "application/vnd.jupyter.widget-view+json": {
       "version_major": 2,
       "version_minor": 0,
       "model_id": "e789480c30444bfcbde3a41c83dd03db"
      }
     },
     "metadata": {},
     "output_type": "display_data"
    },
    {
     "data": {
      "text/plain": "Validation: 0it [00:00, ?it/s]",
      "application/vnd.jupyter.widget-view+json": {
       "version_major": 2,
       "version_minor": 0,
       "model_id": "6af91b99d6bb4d52a8a262db94e5a55d"
      }
     },
     "metadata": {},
     "output_type": "display_data"
    },
    {
     "data": {
      "text/plain": "Validation: 0it [00:00, ?it/s]",
      "application/vnd.jupyter.widget-view+json": {
       "version_major": 2,
       "version_minor": 0,
       "model_id": "f90a3e3937c244ce87f7cc4feab371c0"
      }
     },
     "metadata": {},
     "output_type": "display_data"
    },
    {
     "data": {
      "text/plain": "Validation: 0it [00:00, ?it/s]",
      "application/vnd.jupyter.widget-view+json": {
       "version_major": 2,
       "version_minor": 0,
       "model_id": "96af6201b4eb4b06856a7ef09fe65dc0"
      }
     },
     "metadata": {},
     "output_type": "display_data"
    },
    {
     "data": {
      "text/plain": "Validation: 0it [00:00, ?it/s]",
      "application/vnd.jupyter.widget-view+json": {
       "version_major": 2,
       "version_minor": 0,
       "model_id": "d0e1da1b7fe043ac97beee41616c34e2"
      }
     },
     "metadata": {},
     "output_type": "display_data"
    },
    {
     "data": {
      "text/plain": "Validation: 0it [00:00, ?it/s]",
      "application/vnd.jupyter.widget-view+json": {
       "version_major": 2,
       "version_minor": 0,
       "model_id": "9ecc2eddc59f449e85e1e642f01d20bc"
      }
     },
     "metadata": {},
     "output_type": "display_data"
    },
    {
     "data": {
      "text/plain": "Validation: 0it [00:00, ?it/s]",
      "application/vnd.jupyter.widget-view+json": {
       "version_major": 2,
       "version_minor": 0,
       "model_id": "8cdb5fd9bc1042bdba5bcc6a0efa5399"
      }
     },
     "metadata": {},
     "output_type": "display_data"
    },
    {
     "data": {
      "text/plain": "Validation: 0it [00:00, ?it/s]",
      "application/vnd.jupyter.widget-view+json": {
       "version_major": 2,
       "version_minor": 0,
       "model_id": "727e0ca6cf6f465ebd6cefffb2fe2c53"
      }
     },
     "metadata": {},
     "output_type": "display_data"
    },
    {
     "name": "stderr",
     "output_type": "stream",
     "text": [
      "`Trainer.fit` stopped: `max_epochs=10` reached.\n"
     ]
    },
    {
     "name": "stdout",
     "output_type": "stream",
     "text": [
      "METRICS:\tAUC 0.4974 | ACC 0.5067 | SENS 0.7532 | SPEC 0.2209 | PREC 0.5285 | F1 0.6211\n",
      "METRICS:\tAUC 0.5058 | ACC 0.5120 | SENS 0.5772 | SPEC 0.4338 | PREC 0.5500 | F1 0.5633\n"
     ]
    }
   ],
   "source": [
    "train_sex_regressor(\n",
    "    evaluator.train_emb_ortho,\n",
    "    np.where(train_df['sex'] == 'M', 1, 0),\n",
    "    evaluator.test_emb_ortho,\n",
    "    np.where(test_df['sex'] == 'M', 1, 0),\n",
    ")"
   ],
   "metadata": {
    "collapsed": false,
    "ExecuteTime": {
     "end_time": "2023-09-29T08:53:20.098057394Z",
     "start_time": "2023-09-29T08:52:20.126472836Z"
    }
   },
   "id": "fe61b6c642f90b42"
  },
  {
   "cell_type": "code",
   "execution_count": null,
   "outputs": [],
   "source": [
    "\n",
    "from src.utils import eval_predictions, eval_predictions_multiclass\n",
    "\n",
    "from torch.utils.data import DataLoader\n",
    "\n",
    "L.seed_everything(1337424242)\n",
    "\n",
    "\n",
    "def train_race_regressor(\n",
    "        x_train: np.ndarray,\n",
    "        y_train: Sequence,\n",
    "        x_val: Tensor,\n",
    "        y_val: Sequence,\n",
    "        max_epochs: int = 10,\n",
    "        batch_size: int = 256,\n",
    ") -> Tuple[np.ndarray, np.ndarray]:\n",
    "    # Create PyTorch datasets and data loaders\n",
    "    train_dataset = TensorDataset(x_train, y_train, label_dtype=torch.long)\n",
    "    val_dataset = TensorDataset(x_val, y_val, label_dtype=torch.long)\n",
    "\n",
    "    train_loader = DataLoader(train_dataset, batch_size=batch_size, shuffle=True)\n",
    "    val_loader = DataLoader(val_dataset, batch_size=2 * batch_size)\n",
    "\n",
    "    # Initialize the PyTorch Lightning model\n",
    "    model = ClassificationModule(\n",
    "        model=nn.Linear(x_train.shape[1], 3),\n",
    "        loss_func=nn.CrossEntropyLoss()\n",
    "    )\n",
    "\n",
    "    # Initialize the PyTorch Lightning Trainer\n",
    "    trainer = L.Trainer(max_epochs=max_epochs)\n",
    "\n",
    "    # Train the model\n",
    "    trainer.fit(model, train_loader, val_loader)\n",
    "\n",
    "    # Test the model\n",
    "    model.eval()\n",
    "    # Remove shuffle for train predictions\n",
    "    res = {}\n",
    "    with torch.no_grad():\n",
    "        for loader, name in [(train_loader, 'train'), (val_loader, 'val')]:\n",
    "            y_pred_list = []\n",
    "            y_true_list = []\n",
    "            for x_batch, y_batch in loader:\n",
    "                y_pred = model(x_batch)\n",
    "                y_pred_list.extend(torch.softmax(y_pred, dim=1).cpu().detach().numpy())\n",
    "                y_true_list.extend(y_batch.cpu().numpy())\n",
    "                \n",
    "            res[name] = y_pred_list\n",
    "\n",
    "            # Calculate Metrics using scikit-learn\n",
    "            eval_predictions_multiclass(np.asarray(y_true_list), np.stack(y_pred_list))\n"
   ],
   "metadata": {
    "collapsed": false,
    "is_executing": true
   },
   "id": "b2b2c222751e2a9b"
  },
  {
   "cell_type": "markdown",
   "source": [
    "## Race non-ortho"
   ],
   "metadata": {
    "collapsed": false
   },
   "id": "34ce7cc7072aa6d4"
  },
  {
   "cell_type": "code",
   "execution_count": null,
   "outputs": [],
   "source": [
    "import pandas as pd\n",
    "\n",
    "train_race_regressor(\n",
    "    evaluator.train_emb,\n",
    "    pd.factorize(train_df['race'])[0],\n",
    "    evaluator.test_emb,\n",
    "    pd.factorize(test_df['race'])[0],\n",
    ")"
   ],
   "metadata": {
    "collapsed": false,
    "is_executing": true
   },
   "id": "1a9d4339c3b49611"
  },
  {
   "cell_type": "markdown",
   "source": [
    "## Race ortho"
   ],
   "metadata": {
    "collapsed": false
   },
   "id": "6ec1418a5e3b3224"
  },
  {
   "cell_type": "code",
   "execution_count": 26,
   "outputs": [
    {
     "name": "stderr",
     "output_type": "stream",
     "text": [
      "GPU available: True (cuda), used: True\n",
      "TPU available: False, using: 0 TPU cores\n",
      "IPU available: False, using: 0 IPUs\n",
      "HPU available: False, using: 0 HPUs\n",
      "LOCAL_RANK: 0 - CUDA_VISIBLE_DEVICES: [0]\n",
      "\n",
      "  | Name      | Type             | Params\n",
      "-----------------------------------------------\n",
      "0 | model     | Linear           | 4.1 K \n",
      "1 | loss_func | CrossEntropyLoss | 0     \n",
      "-----------------------------------------------\n",
      "4.1 K     Trainable params\n",
      "0         Non-trainable params\n",
      "4.1 K     Total params\n",
      "0.017     Total estimated model params size (MB)\n"
     ]
    },
    {
     "data": {
      "text/plain": "Sanity Checking: 0it [00:00, ?it/s]",
      "application/vnd.jupyter.widget-view+json": {
       "version_major": 2,
       "version_minor": 0,
       "model_id": "4c5a259ac0b34e1b845de2e6fb187e63"
      }
     },
     "metadata": {},
     "output_type": "display_data"
    },
    {
     "name": "stderr",
     "output_type": "stream",
     "text": [
      "/home/tobias/Projects/chexray-ortho/.venv/lib/python3.11/site-packages/pytorch_lightning/trainer/connectors/data_connector.py:432: PossibleUserWarning: The dataloader, val_dataloader, does not have many workers which may be a bottleneck. Consider increasing the value of the `num_workers` argument` (try 4 which is the number of cpus on this machine) in the `DataLoader` init to improve performance.\n",
      "  rank_zero_warn(\n",
      "/home/tobias/Projects/chexray-ortho/.venv/lib/python3.11/site-packages/pytorch_lightning/trainer/connectors/data_connector.py:432: PossibleUserWarning: The dataloader, train_dataloader, does not have many workers which may be a bottleneck. Consider increasing the value of the `num_workers` argument` (try 4 which is the number of cpus on this machine) in the `DataLoader` init to improve performance.\n",
      "  rank_zero_warn(\n"
     ]
    },
    {
     "data": {
      "text/plain": "Training: 0it [00:00, ?it/s]",
      "application/vnd.jupyter.widget-view+json": {
       "version_major": 2,
       "version_minor": 0,
       "model_id": "3e3494e56e2b43708241a7577490b4c5"
      }
     },
     "metadata": {},
     "output_type": "display_data"
    },
    {
     "data": {
      "text/plain": "Validation: 0it [00:00, ?it/s]",
      "application/vnd.jupyter.widget-view+json": {
       "version_major": 2,
       "version_minor": 0,
       "model_id": "21c91502172e4eacb121d781ed3473e7"
      }
     },
     "metadata": {},
     "output_type": "display_data"
    },
    {
     "data": {
      "text/plain": "Validation: 0it [00:00, ?it/s]",
      "application/vnd.jupyter.widget-view+json": {
       "version_major": 2,
       "version_minor": 0,
       "model_id": "2091c7b9eee14d5b926049a7061b46fc"
      }
     },
     "metadata": {},
     "output_type": "display_data"
    },
    {
     "data": {
      "text/plain": "Validation: 0it [00:00, ?it/s]",
      "application/vnd.jupyter.widget-view+json": {
       "version_major": 2,
       "version_minor": 0,
       "model_id": "0255ba985d234430aac6da1ad7b429b9"
      }
     },
     "metadata": {},
     "output_type": "display_data"
    },
    {
     "data": {
      "text/plain": "Validation: 0it [00:00, ?it/s]",
      "application/vnd.jupyter.widget-view+json": {
       "version_major": 2,
       "version_minor": 0,
       "model_id": "fc758baaadc34e7dbdc5a6322def6ac3"
      }
     },
     "metadata": {},
     "output_type": "display_data"
    },
    {
     "data": {
      "text/plain": "Validation: 0it [00:00, ?it/s]",
      "application/vnd.jupyter.widget-view+json": {
       "version_major": 2,
       "version_minor": 0,
       "model_id": "bb8a41cdd05844b5a6937e352f1ba237"
      }
     },
     "metadata": {},
     "output_type": "display_data"
    },
    {
     "data": {
      "text/plain": "Validation: 0it [00:00, ?it/s]",
      "application/vnd.jupyter.widget-view+json": {
       "version_major": 2,
       "version_minor": 0,
       "model_id": "298cb0028e4a4c3cb1ceba4a29f99d37"
      }
     },
     "metadata": {},
     "output_type": "display_data"
    },
    {
     "data": {
      "text/plain": "Validation: 0it [00:00, ?it/s]",
      "application/vnd.jupyter.widget-view+json": {
       "version_major": 2,
       "version_minor": 0,
       "model_id": "e07bbcb720c743c59fab9e1b1ab85a3e"
      }
     },
     "metadata": {},
     "output_type": "display_data"
    },
    {
     "data": {
      "text/plain": "Validation: 0it [00:00, ?it/s]",
      "application/vnd.jupyter.widget-view+json": {
       "version_major": 2,
       "version_minor": 0,
       "model_id": "99a38a46e2e047618293b2a596cf2b54"
      }
     },
     "metadata": {},
     "output_type": "display_data"
    },
    {
     "data": {
      "text/plain": "Validation: 0it [00:00, ?it/s]",
      "application/vnd.jupyter.widget-view+json": {
       "version_major": 2,
       "version_minor": 0,
       "model_id": "b351a78956ac40c39ac46e7bbac15bce"
      }
     },
     "metadata": {},
     "output_type": "display_data"
    },
    {
     "data": {
      "text/plain": "Validation: 0it [00:00, ?it/s]",
      "application/vnd.jupyter.widget-view+json": {
       "version_major": 2,
       "version_minor": 0,
       "model_id": "c4c5996b49014ed487f829cc007ee61b"
      }
     },
     "metadata": {},
     "output_type": "display_data"
    },
    {
     "name": "stderr",
     "output_type": "stream",
     "text": [
      "`Trainer.fit` stopped: `max_epochs=10` reached.\n"
     ]
    },
    {
     "name": "stdout",
     "output_type": "stream",
     "text": [
      "Specificity per class: [1.0, 0.0, 1.0]\n",
      "METRICS:\tAUC 0.4798 | ACC 0.7350 | SENS 0.3333 | SPEC 0.6667 | PREC 0.2450 | F1 0.2824\n"
     ]
    },
    {
     "name": "stderr",
     "output_type": "stream",
     "text": [
      "/home/tobias/Projects/chexray-ortho/.venv/lib/python3.11/site-packages/sklearn/metrics/_classification.py:1469: UndefinedMetricWarning: Precision and F-score are ill-defined and being set to 0.0 in labels with no predicted samples. Use `zero_division` parameter to control this behavior.\n",
      "  _warn_prf(average, modifier, msg_start, len(result))\n"
     ]
    }
   ],
   "source": [
    "import pandas as pd\n",
    "\n",
    "train_race_regressor(\n",
    "    evaluator.train_emb_ortho,\n",
    "    pd.factorize(train_df['race'])[0],\n",
    "    evaluator.test_emb_ortho,\n",
    "    pd.factorize(test_df['race'])[0],\n",
    ")"
   ],
   "metadata": {
    "collapsed": false,
    "ExecuteTime": {
     "end_time": "2023-09-29T11:38:38.084598053Z",
     "start_time": "2023-09-29T11:37:46.299803789Z"
    }
   },
   "id": "eca3b957a47ff84d"
  }
 ],
 "metadata": {
  "kernelspec": {
   "display_name": "Python 3",
   "language": "python",
   "name": "python3"
  },
  "language_info": {
   "codemirror_mode": {
    "name": "ipython",
    "version": 2
   },
   "file_extension": ".py",
   "mimetype": "text/x-python",
   "name": "python",
   "nbconvert_exporter": "python",
   "pygments_lexer": "ipython2",
   "version": "2.7.6"
  }
 },
 "nbformat": 4,
 "nbformat_minor": 5
}
