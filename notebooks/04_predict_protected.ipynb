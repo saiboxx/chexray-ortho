{
 "cells": [
  {
   "cell_type": "markdown",
   "id": "2cd767d485d3fe36",
   "metadata": {},
   "source": [
    "# Predict Protected Features\n"
   ]
  },
  {
   "cell_type": "code",
   "execution_count": 1,
   "id": "bf50f6a9fae815ec",
   "metadata": {
    "ExecuteTime": {
     "end_time": "2023-10-02T10:54:31.538786630Z",
     "start_time": "2023-10-02T10:54:31.495063332Z"
    }
   },
   "outputs": [],
   "source": [
    "import torch\n",
    "%load_ext autoreload\n",
    "%autoreload 2\n",
    "\n",
    "import os\n",
    "\n",
    "import numpy as np\n",
    "from src.eval import EmbeddingEvaluator, Disease\n",
    "\n",
    "DATA_DIR = '../data'\n",
    "#EMBEDDING_FILE = 'mimic_cfm.npy'\n",
    "#EMBEDDING_FILE = 'mimic_densenet_mimic.npy'\n",
    "EMBEDDING_FILE = 'chex_densenet_chex.npy'\n",
    "META_FILE = 'mimic_meta.csv'"
   ]
  },
  {
   "cell_type": "markdown",
   "id": "1ffcd65d779f4e81",
   "metadata": {},
   "source": [
    "## Load Metadata and Embedding"
   ]
  },
  {
   "cell_type": "code",
   "execution_count": 2,
   "id": "44b8e775dd8055e0",
   "metadata": {
    "ExecuteTime": {
     "end_time": "2023-10-02T10:54:36.751890614Z",
     "start_time": "2023-10-02T10:54:33.273351080Z"
    }
   },
   "outputs": [
    {
     "name": "stdout",
     "output_type": "stream",
     "text": [
      "DATASET SIZES: TRAIN 76205 | VAL 12673 | TEST 38240\n"
     ]
    }
   ],
   "source": [
    "from src.utils import get_mimic_meta_data, get_chexpert_meta_data\n",
    "\n",
    "#train_df, val_df, test_df = get_mimic_meta_data(os.path.join(DATA_DIR, META_FILE))\n",
    "train_df, val_df, test_df = get_chexpert_meta_data(DATA_DIR)\n",
    "print(f'DATASET SIZES: TRAIN {len(train_df)} | VAL {len(val_df)} | TEST {len(test_df)}')\n",
    "\n",
    "\n",
    "emb = np.load(os.path.join(DATA_DIR, EMBEDDING_FILE))\n",
    "emb = np.nan_to_num(emb)\n",
    "train_emb = emb[train_df['idx']]\n",
    "test_emb = emb[test_df['idx']]"
   ]
  },
  {
   "cell_type": "markdown",
   "id": "b0bc6a437bd65703",
   "metadata": {},
   "source": []
  },
  {
   "cell_type": "code",
   "execution_count": 3,
   "id": "69931c207f423c83",
   "metadata": {
    "ExecuteTime": {
     "end_time": "2023-10-02T09:36:45.143581480Z",
     "start_time": "2023-10-02T09:36:42.313943345Z"
    }
   },
   "outputs": [],
   "source": [
    "evaluator = EmbeddingEvaluator(train_df, test_df, train_emb, test_emb)"
   ]
  },
  {
   "cell_type": "markdown",
   "id": "4f567dcf4f1a99aa",
   "metadata": {},
   "source": [
    "## Predict Age"
   ]
  },
  {
   "cell_type": "code",
   "execution_count": 4,
   "id": "e655fa211c3e8662",
   "metadata": {
    "ExecuteTime": {
     "end_time": "2023-10-02T09:36:45.233387536Z",
     "start_time": "2023-10-02T09:36:45.143186028Z"
    }
   },
   "outputs": [
    {
     "name": "stderr",
     "output_type": "stream",
     "text": [
      "Global seed set to 1337424242\n"
     ]
    }
   ],
   "source": [
    "from src.net import TensorDataset, ClassificationModule\n",
    "from torch import nn, Tensor\n",
    "from typing import Sequence, Tuple\n",
    "import pytorch_lightning as L\n",
    "import warnings\n",
    "from sklearn.metrics import mean_squared_error, r2_score, mean_absolute_error\n",
    "\n",
    "from torch.utils.data import DataLoader\n",
    "\n",
    "L.seed_everything(1337424242)\n",
    "\n",
    "\n",
    "def train_age_regressor(\n",
    "    x_train: np.ndarray,\n",
    "    y_train: Sequence,\n",
    "    x_val: Tensor,\n",
    "    y_val: Sequence,\n",
    "    max_epochs: int = 10,\n",
    "    batch_size: int = 256,\n",
    ") -> Tuple[np.ndarray, np.ndarray]:\n",
    "    # Create PyTorch datasets and data loaders\n",
    "    train_dataset = TensorDataset(x_train, y_train)\n",
    "    val_dataset = TensorDataset(x_val, y_val)\n",
    "\n",
    "    train_loader = DataLoader(train_dataset, batch_size=batch_size, shuffle=True)\n",
    "    val_loader = DataLoader(val_dataset, batch_size=2 * batch_size)\n",
    "\n",
    "    # Initialize the PyTorch Lightning model\n",
    "    model = ClassificationModule(\n",
    "        model=nn.Linear(x_train.shape[1], 1),\n",
    "        loss_func=nn.MSELoss()\n",
    "    )\n",
    "\n",
    "    # Initialize the PyTorch Lightning Trainer\n",
    "    trainer = L.Trainer(max_epochs=max_epochs)\n",
    "\n",
    "    # Train the model\n",
    "    trainer.fit(model, train_loader, val_loader)\n",
    "\n",
    "    # Test the model\n",
    "    model.eval()\n",
    "    # Remove shuffle for train predictions\n",
    "    train_loader = DataLoader(train_dataset, batch_size=batch_size)\n",
    "    res = {}\n",
    "    with torch.no_grad():\n",
    "        for loader, name in [(train_loader, 'train'), (val_loader, 'val')]:\n",
    "            y_pred_list = []\n",
    "            y_true_list = []\n",
    "            for x_batch, y_batch in loader:\n",
    "                y_pred = model(x_batch)\n",
    "                y_pred_list.extend(y_pred.detach().numpy() * 100)\n",
    "                y_true_list.extend(y_batch.numpy() * 100)\n",
    "\n",
    "            res[name] = y_pred_list\n",
    "            \n",
    "            \n",
    "\n",
    "            # Calculate Metrics using scikit-learn\n",
    "            mae = mean_absolute_error(y_true_list, y_pred_list)\n",
    "            r2 = r2_score(y_true_list, y_pred_list)\n",
    "            print(f'{name} MAE: {mae:.4f} | R2: {r2:.4f}')\n"
   ]
  },
  {
   "cell_type": "markdown",
   "id": "5f874aaabc2aab82",
   "metadata": {},
   "source": [
    "### Age NON-ortho"
   ]
  },
  {
   "cell_type": "code",
   "execution_count": 5,
   "id": "a4b5c0e989ca207",
   "metadata": {
    "ExecuteTime": {
     "end_time": "2023-10-02T09:37:15.625407025Z",
     "start_time": "2023-10-02T09:36:45.231913967Z"
    }
   },
   "outputs": [
    {
     "name": "stderr",
     "output_type": "stream",
     "text": [
      "GPU available: False, used: False\n",
      "TPU available: False, using: 0 TPU cores\n",
      "IPU available: False, using: 0 IPUs\n",
      "HPU available: False, using: 0 HPUs\n",
      "/home/tobias/Projects/chexray-ortho/.venv/lib/python3.11/site-packages/pytorch_lightning/trainer/connectors/logger_connector/logger_connector.py:67: UserWarning: Starting from v1.9.0, `tensorboardX` has been removed as a dependency of the `pytorch_lightning` package, due to potential conflicts with other packages in the ML ecosystem. For this reason, `logger=True` will use `CSVLogger` as the default logger, unless the `tensorboard` or `tensorboardX` packages are found. Please `pip install lightning[extra]` or one of them to enable TensorBoard support by default\n",
      "  warning_cache.warn(\n",
      "\n",
      "  | Name      | Type    | Params\n",
      "--------------------------------------\n",
      "0 | model     | Linear  | 1.0 K \n",
      "1 | loss_func | MSELoss | 0     \n",
      "--------------------------------------\n",
      "1.0 K     Trainable params\n",
      "0         Non-trainable params\n",
      "1.0 K     Total params\n",
      "0.004     Total estimated model params size (MB)\n"
     ]
    },
    {
     "data": {
      "application/vnd.jupyter.widget-view+json": {
       "model_id": "",
       "version_major": 2,
       "version_minor": 0
      },
      "text/plain": [
       "Sanity Checking: 0it [00:00, ?it/s]"
      ]
     },
     "metadata": {},
     "output_type": "display_data"
    },
    {
     "name": "stderr",
     "output_type": "stream",
     "text": [
      "/home/tobias/Projects/chexray-ortho/.venv/lib/python3.11/site-packages/pytorch_lightning/trainer/connectors/data_connector.py:432: PossibleUserWarning: The dataloader, val_dataloader, does not have many workers which may be a bottleneck. Consider increasing the value of the `num_workers` argument` (try 8 which is the number of cpus on this machine) in the `DataLoader` init to improve performance.\n",
      "  rank_zero_warn(\n",
      "/home/tobias/Projects/chexray-ortho/.venv/lib/python3.11/site-packages/pytorch_lightning/trainer/connectors/data_connector.py:432: PossibleUserWarning: The dataloader, train_dataloader, does not have many workers which may be a bottleneck. Consider increasing the value of the `num_workers` argument` (try 8 which is the number of cpus on this machine) in the `DataLoader` init to improve performance.\n",
      "  rank_zero_warn(\n"
     ]
    },
    {
     "data": {
      "application/vnd.jupyter.widget-view+json": {
       "model_id": "3d60d183223c49038cc64de94c81a124",
       "version_major": 2,
       "version_minor": 0
      },
      "text/plain": [
       "Training: 0it [00:00, ?it/s]"
      ]
     },
     "metadata": {},
     "output_type": "display_data"
    },
    {
     "data": {
      "application/vnd.jupyter.widget-view+json": {
       "model_id": "",
       "version_major": 2,
       "version_minor": 0
      },
      "text/plain": [
       "Validation: 0it [00:00, ?it/s]"
      ]
     },
     "metadata": {},
     "output_type": "display_data"
    },
    {
     "data": {
      "application/vnd.jupyter.widget-view+json": {
       "model_id": "",
       "version_major": 2,
       "version_minor": 0
      },
      "text/plain": [
       "Validation: 0it [00:00, ?it/s]"
      ]
     },
     "metadata": {},
     "output_type": "display_data"
    },
    {
     "data": {
      "application/vnd.jupyter.widget-view+json": {
       "model_id": "",
       "version_major": 2,
       "version_minor": 0
      },
      "text/plain": [
       "Validation: 0it [00:00, ?it/s]"
      ]
     },
     "metadata": {},
     "output_type": "display_data"
    },
    {
     "data": {
      "application/vnd.jupyter.widget-view+json": {
       "model_id": "",
       "version_major": 2,
       "version_minor": 0
      },
      "text/plain": [
       "Validation: 0it [00:00, ?it/s]"
      ]
     },
     "metadata": {},
     "output_type": "display_data"
    },
    {
     "data": {
      "application/vnd.jupyter.widget-view+json": {
       "model_id": "",
       "version_major": 2,
       "version_minor": 0
      },
      "text/plain": [
       "Validation: 0it [00:00, ?it/s]"
      ]
     },
     "metadata": {},
     "output_type": "display_data"
    },
    {
     "data": {
      "application/vnd.jupyter.widget-view+json": {
       "model_id": "",
       "version_major": 2,
       "version_minor": 0
      },
      "text/plain": [
       "Validation: 0it [00:00, ?it/s]"
      ]
     },
     "metadata": {},
     "output_type": "display_data"
    },
    {
     "data": {
      "application/vnd.jupyter.widget-view+json": {
       "model_id": "",
       "version_major": 2,
       "version_minor": 0
      },
      "text/plain": [
       "Validation: 0it [00:00, ?it/s]"
      ]
     },
     "metadata": {},
     "output_type": "display_data"
    },
    {
     "data": {
      "application/vnd.jupyter.widget-view+json": {
       "model_id": "",
       "version_major": 2,
       "version_minor": 0
      },
      "text/plain": [
       "Validation: 0it [00:00, ?it/s]"
      ]
     },
     "metadata": {},
     "output_type": "display_data"
    },
    {
     "data": {
      "application/vnd.jupyter.widget-view+json": {
       "model_id": "",
       "version_major": 2,
       "version_minor": 0
      },
      "text/plain": [
       "Validation: 0it [00:00, ?it/s]"
      ]
     },
     "metadata": {},
     "output_type": "display_data"
    },
    {
     "data": {
      "application/vnd.jupyter.widget-view+json": {
       "model_id": "",
       "version_major": 2,
       "version_minor": 0
      },
      "text/plain": [
       "Validation: 0it [00:00, ?it/s]"
      ]
     },
     "metadata": {},
     "output_type": "display_data"
    },
    {
     "name": "stderr",
     "output_type": "stream",
     "text": [
      "`Trainer.fit` stopped: `max_epochs=10` reached.\n"
     ]
    },
    {
     "name": "stdout",
     "output_type": "stream",
     "text": [
      "train MAE: 10.5945 | R2: 0.4089\n",
      "val MAE: 10.6137 | R2: 0.3897\n"
     ]
    }
   ],
   "source": [
    "train_age_regressor(\n",
    "    evaluator.train_emb,\n",
    "    train_df['age'].tolist(),\n",
    "    evaluator.test_emb,\n",
    "    test_df['age'].tolist(),\n",
    ")"
   ]
  },
  {
   "cell_type": "markdown",
   "id": "b90cc02dd855b86e",
   "metadata": {},
   "source": [
    "### Age ortho\n"
   ]
  },
  {
   "cell_type": "code",
   "execution_count": 6,
   "id": "7f48f86810ba5709",
   "metadata": {},
   "outputs": [
    {
     "name": "stderr",
     "output_type": "stream",
     "text": [
      "GPU available: False, used: False\n",
      "TPU available: False, using: 0 TPU cores\n",
      "IPU available: False, using: 0 IPUs\n",
      "HPU available: False, using: 0 HPUs\n",
      "\n",
      "  | Name      | Type    | Params\n",
      "--------------------------------------\n",
      "0 | model     | Linear  | 1.0 K \n",
      "1 | loss_func | MSELoss | 0     \n",
      "--------------------------------------\n",
      "1.0 K     Trainable params\n",
      "0         Non-trainable params\n",
      "1.0 K     Total params\n",
      "0.004     Total estimated model params size (MB)\n"
     ]
    },
    {
     "data": {
      "application/vnd.jupyter.widget-view+json": {
       "model_id": "",
       "version_major": 2,
       "version_minor": 0
      },
      "text/plain": [
       "Sanity Checking: 0it [00:00, ?it/s]"
      ]
     },
     "metadata": {},
     "output_type": "display_data"
    },
    {
     "name": "stderr",
     "output_type": "stream",
     "text": [
      "/home/tobias/Projects/chexray-ortho/.venv/lib/python3.11/site-packages/pytorch_lightning/trainer/connectors/data_connector.py:432: PossibleUserWarning: The dataloader, val_dataloader, does not have many workers which may be a bottleneck. Consider increasing the value of the `num_workers` argument` (try 8 which is the number of cpus on this machine) in the `DataLoader` init to improve performance.\n",
      "  rank_zero_warn(\n",
      "/home/tobias/Projects/chexray-ortho/.venv/lib/python3.11/site-packages/pytorch_lightning/trainer/connectors/data_connector.py:432: PossibleUserWarning: The dataloader, train_dataloader, does not have many workers which may be a bottleneck. Consider increasing the value of the `num_workers` argument` (try 8 which is the number of cpus on this machine) in the `DataLoader` init to improve performance.\n",
      "  rank_zero_warn(\n"
     ]
    },
    {
     "data": {
      "application/vnd.jupyter.widget-view+json": {
       "model_id": "e9a427508d9c4a4c8a61977682bfb754",
       "version_major": 2,
       "version_minor": 0
      },
      "text/plain": [
       "Training: 0it [00:00, ?it/s]"
      ]
     },
     "metadata": {},
     "output_type": "display_data"
    },
    {
     "data": {
      "application/vnd.jupyter.widget-view+json": {
       "model_id": "",
       "version_major": 2,
       "version_minor": 0
      },
      "text/plain": [
       "Validation: 0it [00:00, ?it/s]"
      ]
     },
     "metadata": {},
     "output_type": "display_data"
    },
    {
     "data": {
      "application/vnd.jupyter.widget-view+json": {
       "model_id": "",
       "version_major": 2,
       "version_minor": 0
      },
      "text/plain": [
       "Validation: 0it [00:00, ?it/s]"
      ]
     },
     "metadata": {},
     "output_type": "display_data"
    },
    {
     "data": {
      "application/vnd.jupyter.widget-view+json": {
       "model_id": "",
       "version_major": 2,
       "version_minor": 0
      },
      "text/plain": [
       "Validation: 0it [00:00, ?it/s]"
      ]
     },
     "metadata": {},
     "output_type": "display_data"
    },
    {
     "data": {
      "application/vnd.jupyter.widget-view+json": {
       "model_id": "",
       "version_major": 2,
       "version_minor": 0
      },
      "text/plain": [
       "Validation: 0it [00:00, ?it/s]"
      ]
     },
     "metadata": {},
     "output_type": "display_data"
    },
    {
     "data": {
      "application/vnd.jupyter.widget-view+json": {
       "model_id": "",
       "version_major": 2,
       "version_minor": 0
      },
      "text/plain": [
       "Validation: 0it [00:00, ?it/s]"
      ]
     },
     "metadata": {},
     "output_type": "display_data"
    },
    {
     "data": {
      "application/vnd.jupyter.widget-view+json": {
       "model_id": "",
       "version_major": 2,
       "version_minor": 0
      },
      "text/plain": [
       "Validation: 0it [00:00, ?it/s]"
      ]
     },
     "metadata": {},
     "output_type": "display_data"
    },
    {
     "data": {
      "application/vnd.jupyter.widget-view+json": {
       "model_id": "",
       "version_major": 2,
       "version_minor": 0
      },
      "text/plain": [
       "Validation: 0it [00:00, ?it/s]"
      ]
     },
     "metadata": {},
     "output_type": "display_data"
    },
    {
     "data": {
      "application/vnd.jupyter.widget-view+json": {
       "model_id": "",
       "version_major": 2,
       "version_minor": 0
      },
      "text/plain": [
       "Validation: 0it [00:00, ?it/s]"
      ]
     },
     "metadata": {},
     "output_type": "display_data"
    },
    {
     "data": {
      "application/vnd.jupyter.widget-view+json": {
       "model_id": "",
       "version_major": 2,
       "version_minor": 0
      },
      "text/plain": [
       "Validation: 0it [00:00, ?it/s]"
      ]
     },
     "metadata": {},
     "output_type": "display_data"
    },
    {
     "data": {
      "application/vnd.jupyter.widget-view+json": {
       "model_id": "",
       "version_major": 2,
       "version_minor": 0
      },
      "text/plain": [
       "Validation: 0it [00:00, ?it/s]"
      ]
     },
     "metadata": {},
     "output_type": "display_data"
    },
    {
     "name": "stderr",
     "output_type": "stream",
     "text": [
      "`Trainer.fit` stopped: `max_epochs=10` reached.\n"
     ]
    },
    {
     "name": "stdout",
     "output_type": "stream",
     "text": [
      "train MAE: 14.0806 | R2: -0.0065\n",
      "val MAE: 13.8702 | R2: -0.0082\n"
     ]
    }
   ],
   "source": [
    "train_age_regressor(\n",
    "    evaluator.train_emb_ortho,\n",
    "    train_df['age'].tolist(),\n",
    "    evaluator.test_emb_ortho,\n",
    "    test_df['age'].tolist(),\n",
    ")"
   ]
  },
  {
   "cell_type": "markdown",
   "id": "714fc2514bb907fa",
   "metadata": {},
   "source": [
    "## Predict Sex"
   ]
  },
  {
   "cell_type": "code",
   "execution_count": 7,
   "id": "6234be8773b5375d",
   "metadata": {},
   "outputs": [
    {
     "name": "stderr",
     "output_type": "stream",
     "text": [
      "Global seed set to 1337424242\n"
     ]
    }
   ],
   "source": [
    "\n",
    "from src.utils import eval_predictions\n",
    "\n",
    "from torch.utils.data import DataLoader\n",
    "\n",
    "L.seed_everything(1337424242)\n",
    "\n",
    "\n",
    "def train_sex_regressor(\n",
    "    x_train: np.ndarray,\n",
    "    y_train: Sequence,\n",
    "    x_val: Tensor,\n",
    "    y_val: Sequence,\n",
    "    max_epochs: int = 10,\n",
    "    batch_size: int = 256,\n",
    ") -> Tuple[np.ndarray, np.ndarray]:\n",
    "    # Create PyTorch datasets and data loaders\n",
    "    train_dataset = TensorDataset(x_train, y_train)\n",
    "    val_dataset = TensorDataset(x_val, y_val)\n",
    "\n",
    "    train_loader = DataLoader(train_dataset, batch_size=batch_size, shuffle=True)\n",
    "    val_loader = DataLoader(val_dataset, batch_size=2 * batch_size)\n",
    "\n",
    "    # Initialize the PyTorch Lightning model\n",
    "    model = ClassificationModule(\n",
    "        model=nn.Linear(x_train.shape[1], 1),\n",
    "        loss_func=nn.BCEWithLogitsLoss()\n",
    "    )\n",
    "\n",
    "    # Initialize the PyTorch Lightning Trainer\n",
    "    trainer = L.Trainer(max_epochs=max_epochs)\n",
    "\n",
    "    # Train the model\n",
    "    trainer.fit(model, train_loader, val_loader)\n",
    "\n",
    "    # Test the model\n",
    "    model.eval()\n",
    "    # Remove shuffle for train predictions\n",
    "    train_loader = DataLoader(train_dataset, batch_size=batch_size)\n",
    "    res = {}\n",
    "    with torch.no_grad():\n",
    "        for loader, name in [(train_loader, 'train'), (val_loader, 'val')]:\n",
    "            y_pred_list = []\n",
    "            y_true_list = []\n",
    "            for x_batch, y_batch in loader:\n",
    "                y_pred = model(x_batch)\n",
    "                y_pred_list.extend(torch.sigmoid(y_pred).detach().numpy())\n",
    "                y_true_list.extend(y_batch.numpy())\n",
    "\n",
    "            res[name] = y_pred_list\n",
    "            \n",
    "            \n",
    "\n",
    "            # Calculate Metrics using scikit-learn\n",
    "            eval_predictions(np.asarray(y_true_list), np.asarray(y_pred_list))\n"
   ]
  },
  {
   "cell_type": "markdown",
   "id": "c13c9a5380c840af",
   "metadata": {},
   "source": [
    "### Sex NON-ortho"
   ]
  },
  {
   "cell_type": "code",
   "execution_count": 8,
   "id": "2104809df717ee1b",
   "metadata": {},
   "outputs": [
    {
     "name": "stderr",
     "output_type": "stream",
     "text": [
      "GPU available: False, used: False\n",
      "TPU available: False, using: 0 TPU cores\n",
      "IPU available: False, using: 0 IPUs\n",
      "HPU available: False, using: 0 HPUs\n",
      "\n",
      "  | Name      | Type              | Params\n",
      "------------------------------------------------\n",
      "0 | model     | Linear            | 1.0 K \n",
      "1 | loss_func | BCEWithLogitsLoss | 0     \n",
      "------------------------------------------------\n",
      "1.0 K     Trainable params\n",
      "0         Non-trainable params\n",
      "1.0 K     Total params\n",
      "0.004     Total estimated model params size (MB)\n"
     ]
    },
    {
     "data": {
      "application/vnd.jupyter.widget-view+json": {
       "model_id": "",
       "version_major": 2,
       "version_minor": 0
      },
      "text/plain": [
       "Sanity Checking: 0it [00:00, ?it/s]"
      ]
     },
     "metadata": {},
     "output_type": "display_data"
    },
    {
     "name": "stderr",
     "output_type": "stream",
     "text": [
      "/home/tobias/Projects/chexray-ortho/.venv/lib/python3.11/site-packages/pytorch_lightning/trainer/connectors/data_connector.py:432: PossibleUserWarning: The dataloader, val_dataloader, does not have many workers which may be a bottleneck. Consider increasing the value of the `num_workers` argument` (try 8 which is the number of cpus on this machine) in the `DataLoader` init to improve performance.\n",
      "  rank_zero_warn(\n",
      "/home/tobias/Projects/chexray-ortho/.venv/lib/python3.11/site-packages/pytorch_lightning/trainer/connectors/data_connector.py:432: PossibleUserWarning: The dataloader, train_dataloader, does not have many workers which may be a bottleneck. Consider increasing the value of the `num_workers` argument` (try 8 which is the number of cpus on this machine) in the `DataLoader` init to improve performance.\n",
      "  rank_zero_warn(\n"
     ]
    },
    {
     "data": {
      "application/vnd.jupyter.widget-view+json": {
       "model_id": "5cc048ddc3264f9a8d14cabf3411c007",
       "version_major": 2,
       "version_minor": 0
      },
      "text/plain": [
       "Training: 0it [00:00, ?it/s]"
      ]
     },
     "metadata": {},
     "output_type": "display_data"
    },
    {
     "data": {
      "application/vnd.jupyter.widget-view+json": {
       "model_id": "",
       "version_major": 2,
       "version_minor": 0
      },
      "text/plain": [
       "Validation: 0it [00:00, ?it/s]"
      ]
     },
     "metadata": {},
     "output_type": "display_data"
    },
    {
     "data": {
      "application/vnd.jupyter.widget-view+json": {
       "model_id": "",
       "version_major": 2,
       "version_minor": 0
      },
      "text/plain": [
       "Validation: 0it [00:00, ?it/s]"
      ]
     },
     "metadata": {},
     "output_type": "display_data"
    },
    {
     "data": {
      "application/vnd.jupyter.widget-view+json": {
       "model_id": "",
       "version_major": 2,
       "version_minor": 0
      },
      "text/plain": [
       "Validation: 0it [00:00, ?it/s]"
      ]
     },
     "metadata": {},
     "output_type": "display_data"
    },
    {
     "data": {
      "application/vnd.jupyter.widget-view+json": {
       "model_id": "",
       "version_major": 2,
       "version_minor": 0
      },
      "text/plain": [
       "Validation: 0it [00:00, ?it/s]"
      ]
     },
     "metadata": {},
     "output_type": "display_data"
    },
    {
     "data": {
      "application/vnd.jupyter.widget-view+json": {
       "model_id": "",
       "version_major": 2,
       "version_minor": 0
      },
      "text/plain": [
       "Validation: 0it [00:00, ?it/s]"
      ]
     },
     "metadata": {},
     "output_type": "display_data"
    },
    {
     "data": {
      "application/vnd.jupyter.widget-view+json": {
       "model_id": "",
       "version_major": 2,
       "version_minor": 0
      },
      "text/plain": [
       "Validation: 0it [00:00, ?it/s]"
      ]
     },
     "metadata": {},
     "output_type": "display_data"
    },
    {
     "data": {
      "application/vnd.jupyter.widget-view+json": {
       "model_id": "",
       "version_major": 2,
       "version_minor": 0
      },
      "text/plain": [
       "Validation: 0it [00:00, ?it/s]"
      ]
     },
     "metadata": {},
     "output_type": "display_data"
    },
    {
     "data": {
      "application/vnd.jupyter.widget-view+json": {
       "model_id": "",
       "version_major": 2,
       "version_minor": 0
      },
      "text/plain": [
       "Validation: 0it [00:00, ?it/s]"
      ]
     },
     "metadata": {},
     "output_type": "display_data"
    },
    {
     "data": {
      "application/vnd.jupyter.widget-view+json": {
       "model_id": "",
       "version_major": 2,
       "version_minor": 0
      },
      "text/plain": [
       "Validation: 0it [00:00, ?it/s]"
      ]
     },
     "metadata": {},
     "output_type": "display_data"
    },
    {
     "data": {
      "application/vnd.jupyter.widget-view+json": {
       "model_id": "",
       "version_major": 2,
       "version_minor": 0
      },
      "text/plain": [
       "Validation: 0it [00:00, ?it/s]"
      ]
     },
     "metadata": {},
     "output_type": "display_data"
    },
    {
     "name": "stderr",
     "output_type": "stream",
     "text": [
      "`Trainer.fit` stopped: `max_epochs=10` reached.\n"
     ]
    },
    {
     "name": "stdout",
     "output_type": "stream",
     "text": [
      "METRICS:\tAUC 0.8640 | ACC 0.7859 | SENS 0.8417 | SPEC 0.7065 | PREC 0.8034 | F1 0.8221\n",
      "METRICS:\tAUC 0.8683 | ACC 0.7900 | SENS 0.8472 | SPEC 0.7102 | PREC 0.8029 | F1 0.8245\n"
     ]
    }
   ],
   "source": [
    "train_sex_regressor(\n",
    "    evaluator.train_emb,\n",
    "    np.where(train_df['sex'] == 'M', 1, 0),\n",
    "    evaluator.test_emb,\n",
    "    np.where(test_df['sex'] == 'M', 1, 0),\n",
    ")"
   ]
  },
  {
   "cell_type": "markdown",
   "id": "c649bdf8a15126c6",
   "metadata": {},
   "source": [
    "### Sex ortho\n"
   ]
  },
  {
   "cell_type": "code",
   "execution_count": 9,
   "id": "fe61b6c642f90b42",
   "metadata": {},
   "outputs": [
    {
     "name": "stderr",
     "output_type": "stream",
     "text": [
      "GPU available: False, used: False\n",
      "TPU available: False, using: 0 TPU cores\n",
      "IPU available: False, using: 0 IPUs\n",
      "HPU available: False, using: 0 HPUs\n",
      "\n",
      "  | Name      | Type              | Params\n",
      "------------------------------------------------\n",
      "0 | model     | Linear            | 1.0 K \n",
      "1 | loss_func | BCEWithLogitsLoss | 0     \n",
      "------------------------------------------------\n",
      "1.0 K     Trainable params\n",
      "0         Non-trainable params\n",
      "1.0 K     Total params\n",
      "0.004     Total estimated model params size (MB)\n"
     ]
    },
    {
     "data": {
      "application/vnd.jupyter.widget-view+json": {
       "model_id": "",
       "version_major": 2,
       "version_minor": 0
      },
      "text/plain": [
       "Sanity Checking: 0it [00:00, ?it/s]"
      ]
     },
     "metadata": {},
     "output_type": "display_data"
    },
    {
     "name": "stderr",
     "output_type": "stream",
     "text": [
      "/home/tobias/Projects/chexray-ortho/.venv/lib/python3.11/site-packages/pytorch_lightning/trainer/connectors/data_connector.py:432: PossibleUserWarning: The dataloader, val_dataloader, does not have many workers which may be a bottleneck. Consider increasing the value of the `num_workers` argument` (try 8 which is the number of cpus on this machine) in the `DataLoader` init to improve performance.\n",
      "  rank_zero_warn(\n",
      "/home/tobias/Projects/chexray-ortho/.venv/lib/python3.11/site-packages/pytorch_lightning/trainer/connectors/data_connector.py:432: PossibleUserWarning: The dataloader, train_dataloader, does not have many workers which may be a bottleneck. Consider increasing the value of the `num_workers` argument` (try 8 which is the number of cpus on this machine) in the `DataLoader` init to improve performance.\n",
      "  rank_zero_warn(\n"
     ]
    },
    {
     "data": {
      "application/vnd.jupyter.widget-view+json": {
       "model_id": "7a015cf3ac4743de81634f5379543108",
       "version_major": 2,
       "version_minor": 0
      },
      "text/plain": [
       "Training: 0it [00:00, ?it/s]"
      ]
     },
     "metadata": {},
     "output_type": "display_data"
    },
    {
     "data": {
      "application/vnd.jupyter.widget-view+json": {
       "model_id": "",
       "version_major": 2,
       "version_minor": 0
      },
      "text/plain": [
       "Validation: 0it [00:00, ?it/s]"
      ]
     },
     "metadata": {},
     "output_type": "display_data"
    },
    {
     "data": {
      "application/vnd.jupyter.widget-view+json": {
       "model_id": "",
       "version_major": 2,
       "version_minor": 0
      },
      "text/plain": [
       "Validation: 0it [00:00, ?it/s]"
      ]
     },
     "metadata": {},
     "output_type": "display_data"
    },
    {
     "data": {
      "application/vnd.jupyter.widget-view+json": {
       "model_id": "",
       "version_major": 2,
       "version_minor": 0
      },
      "text/plain": [
       "Validation: 0it [00:00, ?it/s]"
      ]
     },
     "metadata": {},
     "output_type": "display_data"
    },
    {
     "data": {
      "application/vnd.jupyter.widget-view+json": {
       "model_id": "",
       "version_major": 2,
       "version_minor": 0
      },
      "text/plain": [
       "Validation: 0it [00:00, ?it/s]"
      ]
     },
     "metadata": {},
     "output_type": "display_data"
    },
    {
     "data": {
      "application/vnd.jupyter.widget-view+json": {
       "model_id": "",
       "version_major": 2,
       "version_minor": 0
      },
      "text/plain": [
       "Validation: 0it [00:00, ?it/s]"
      ]
     },
     "metadata": {},
     "output_type": "display_data"
    },
    {
     "data": {
      "application/vnd.jupyter.widget-view+json": {
       "model_id": "",
       "version_major": 2,
       "version_minor": 0
      },
      "text/plain": [
       "Validation: 0it [00:00, ?it/s]"
      ]
     },
     "metadata": {},
     "output_type": "display_data"
    },
    {
     "data": {
      "application/vnd.jupyter.widget-view+json": {
       "model_id": "",
       "version_major": 2,
       "version_minor": 0
      },
      "text/plain": [
       "Validation: 0it [00:00, ?it/s]"
      ]
     },
     "metadata": {},
     "output_type": "display_data"
    },
    {
     "data": {
      "application/vnd.jupyter.widget-view+json": {
       "model_id": "",
       "version_major": 2,
       "version_minor": 0
      },
      "text/plain": [
       "Validation: 0it [00:00, ?it/s]"
      ]
     },
     "metadata": {},
     "output_type": "display_data"
    },
    {
     "data": {
      "application/vnd.jupyter.widget-view+json": {
       "model_id": "",
       "version_major": 2,
       "version_minor": 0
      },
      "text/plain": [
       "Validation: 0it [00:00, ?it/s]"
      ]
     },
     "metadata": {},
     "output_type": "display_data"
    },
    {
     "data": {
      "application/vnd.jupyter.widget-view+json": {
       "model_id": "",
       "version_major": 2,
       "version_minor": 0
      },
      "text/plain": [
       "Validation: 0it [00:00, ?it/s]"
      ]
     },
     "metadata": {},
     "output_type": "display_data"
    },
    {
     "name": "stderr",
     "output_type": "stream",
     "text": [
      "`Trainer.fit` stopped: `max_epochs=10` reached.\n"
     ]
    },
    {
     "name": "stdout",
     "output_type": "stream",
     "text": [
      "METRICS:\tAUC 0.4950 | ACC 0.5875 | SENS 1.0000 | SPEC 0.0000 | PREC 0.5875 | F1 0.7402\n",
      "METRICS:\tAUC 0.5028 | ACC 0.5822 | SENS 1.0000 | SPEC 0.0000 | PREC 0.5822 | F1 0.7360\n"
     ]
    }
   ],
   "source": [
    "train_sex_regressor(\n",
    "    evaluator.train_emb_ortho,\n",
    "    np.where(train_df['sex'] == 'M', 1, 0),\n",
    "    evaluator.test_emb_ortho,\n",
    "    np.where(test_df['sex'] == 'M', 1, 0),\n",
    ")"
   ]
  },
  {
   "cell_type": "code",
   "execution_count": 10,
   "id": "b2b2c222751e2a9b",
   "metadata": {},
   "outputs": [
    {
     "name": "stderr",
     "output_type": "stream",
     "text": [
      "Global seed set to 1337424242\n"
     ]
    }
   ],
   "source": [
    "\n",
    "from src.utils import eval_predictions, eval_predictions_multiclass\n",
    "\n",
    "from torch.utils.data import DataLoader\n",
    "\n",
    "L.seed_everything(1337424242)\n",
    "\n",
    "\n",
    "def train_race_regressor(\n",
    "        x_train: np.ndarray,\n",
    "        y_train: Sequence,\n",
    "        x_val: Tensor,\n",
    "        y_val: Sequence,\n",
    "        max_epochs: int = 10,\n",
    "        batch_size: int = 256,\n",
    ") -> Tuple[np.ndarray, np.ndarray]:\n",
    "    # Create PyTorch datasets and data loaders\n",
    "    train_dataset = TensorDataset(x_train, y_train, label_dtype=torch.long)\n",
    "    val_dataset = TensorDataset(x_val, y_val, label_dtype=torch.long)\n",
    "\n",
    "    train_loader = DataLoader(train_dataset, batch_size=batch_size, shuffle=True)\n",
    "    val_loader = DataLoader(val_dataset, batch_size=2 * batch_size)\n",
    "\n",
    "    # Initialize the PyTorch Lightning model\n",
    "    model = ClassificationModule(\n",
    "        model=nn.Linear(x_train.shape[1], 3),\n",
    "        loss_func=nn.CrossEntropyLoss()\n",
    "    )\n",
    "\n",
    "    # Initialize the PyTorch Lightning Trainer\n",
    "    trainer = L.Trainer(max_epochs=max_epochs)\n",
    "\n",
    "    # Train the model\n",
    "    trainer.fit(model, train_loader, val_loader)\n",
    "\n",
    "    # Test the model\n",
    "    model.eval()\n",
    "    # Remove shuffle for train predictions\n",
    "    res = {}\n",
    "    with torch.no_grad():\n",
    "        for loader, name in [(train_loader, 'train'), (val_loader, 'val')]:\n",
    "            y_pred_list = []\n",
    "            y_true_list = []\n",
    "            for x_batch, y_batch in loader:\n",
    "                y_pred = model(x_batch)\n",
    "                y_pred_list.extend(torch.softmax(y_pred, dim=1).cpu().detach().numpy())\n",
    "                y_true_list.extend(y_batch.cpu().numpy())\n",
    "                \n",
    "            res[name] = y_pred_list\n",
    "\n",
    "            # Calculate Metrics using scikit-learn\n",
    "            eval_predictions_multiclass(np.asarray(y_true_list), np.stack(y_pred_list))\n"
   ]
  },
  {
   "cell_type": "markdown",
   "id": "34ce7cc7072aa6d4",
   "metadata": {},
   "source": [
    "## Race non-ortho"
   ]
  },
  {
   "cell_type": "code",
   "execution_count": 11,
   "id": "1a9d4339c3b49611",
   "metadata": {},
   "outputs": [
    {
     "name": "stderr",
     "output_type": "stream",
     "text": [
      "GPU available: False, used: False\n",
      "TPU available: False, using: 0 TPU cores\n",
      "IPU available: False, using: 0 IPUs\n",
      "HPU available: False, using: 0 HPUs\n",
      "\n",
      "  | Name      | Type             | Params\n",
      "-----------------------------------------------\n",
      "0 | model     | Linear           | 3.1 K \n",
      "1 | loss_func | CrossEntropyLoss | 0     \n",
      "-----------------------------------------------\n",
      "3.1 K     Trainable params\n",
      "0         Non-trainable params\n",
      "3.1 K     Total params\n",
      "0.012     Total estimated model params size (MB)\n"
     ]
    },
    {
     "data": {
      "application/vnd.jupyter.widget-view+json": {
       "model_id": "",
       "version_major": 2,
       "version_minor": 0
      },
      "text/plain": [
       "Sanity Checking: 0it [00:00, ?it/s]"
      ]
     },
     "metadata": {},
     "output_type": "display_data"
    },
    {
     "name": "stderr",
     "output_type": "stream",
     "text": [
      "/home/tobias/Projects/chexray-ortho/.venv/lib/python3.11/site-packages/pytorch_lightning/trainer/connectors/data_connector.py:432: PossibleUserWarning: The dataloader, val_dataloader, does not have many workers which may be a bottleneck. Consider increasing the value of the `num_workers` argument` (try 8 which is the number of cpus on this machine) in the `DataLoader` init to improve performance.\n",
      "  rank_zero_warn(\n",
      "/home/tobias/Projects/chexray-ortho/.venv/lib/python3.11/site-packages/pytorch_lightning/trainer/connectors/data_connector.py:432: PossibleUserWarning: The dataloader, train_dataloader, does not have many workers which may be a bottleneck. Consider increasing the value of the `num_workers` argument` (try 8 which is the number of cpus on this machine) in the `DataLoader` init to improve performance.\n",
      "  rank_zero_warn(\n"
     ]
    },
    {
     "data": {
      "application/vnd.jupyter.widget-view+json": {
       "model_id": "95a6144a0803412b86b8da9f458b440c",
       "version_major": 2,
       "version_minor": 0
      },
      "text/plain": [
       "Training: 0it [00:00, ?it/s]"
      ]
     },
     "metadata": {},
     "output_type": "display_data"
    },
    {
     "data": {
      "application/vnd.jupyter.widget-view+json": {
       "model_id": "",
       "version_major": 2,
       "version_minor": 0
      },
      "text/plain": [
       "Validation: 0it [00:00, ?it/s]"
      ]
     },
     "metadata": {},
     "output_type": "display_data"
    },
    {
     "data": {
      "application/vnd.jupyter.widget-view+json": {
       "model_id": "",
       "version_major": 2,
       "version_minor": 0
      },
      "text/plain": [
       "Validation: 0it [00:00, ?it/s]"
      ]
     },
     "metadata": {},
     "output_type": "display_data"
    },
    {
     "data": {
      "application/vnd.jupyter.widget-view+json": {
       "model_id": "",
       "version_major": 2,
       "version_minor": 0
      },
      "text/plain": [
       "Validation: 0it [00:00, ?it/s]"
      ]
     },
     "metadata": {},
     "output_type": "display_data"
    },
    {
     "data": {
      "application/vnd.jupyter.widget-view+json": {
       "model_id": "",
       "version_major": 2,
       "version_minor": 0
      },
      "text/plain": [
       "Validation: 0it [00:00, ?it/s]"
      ]
     },
     "metadata": {},
     "output_type": "display_data"
    },
    {
     "data": {
      "application/vnd.jupyter.widget-view+json": {
       "model_id": "",
       "version_major": 2,
       "version_minor": 0
      },
      "text/plain": [
       "Validation: 0it [00:00, ?it/s]"
      ]
     },
     "metadata": {},
     "output_type": "display_data"
    },
    {
     "data": {
      "application/vnd.jupyter.widget-view+json": {
       "model_id": "",
       "version_major": 2,
       "version_minor": 0
      },
      "text/plain": [
       "Validation: 0it [00:00, ?it/s]"
      ]
     },
     "metadata": {},
     "output_type": "display_data"
    },
    {
     "data": {
      "application/vnd.jupyter.widget-view+json": {
       "model_id": "",
       "version_major": 2,
       "version_minor": 0
      },
      "text/plain": [
       "Validation: 0it [00:00, ?it/s]"
      ]
     },
     "metadata": {},
     "output_type": "display_data"
    },
    {
     "data": {
      "application/vnd.jupyter.widget-view+json": {
       "model_id": "",
       "version_major": 2,
       "version_minor": 0
      },
      "text/plain": [
       "Validation: 0it [00:00, ?it/s]"
      ]
     },
     "metadata": {},
     "output_type": "display_data"
    },
    {
     "data": {
      "application/vnd.jupyter.widget-view+json": {
       "model_id": "",
       "version_major": 2,
       "version_minor": 0
      },
      "text/plain": [
       "Validation: 0it [00:00, ?it/s]"
      ]
     },
     "metadata": {},
     "output_type": "display_data"
    },
    {
     "data": {
      "application/vnd.jupyter.widget-view+json": {
       "model_id": "",
       "version_major": 2,
       "version_minor": 0
      },
      "text/plain": [
       "Validation: 0it [00:00, ?it/s]"
      ]
     },
     "metadata": {},
     "output_type": "display_data"
    },
    {
     "name": "stderr",
     "output_type": "stream",
     "text": [
      "`Trainer.fit` stopped: `max_epochs=10` reached.\n"
     ]
    },
    {
     "name": "stdout",
     "output_type": "stream",
     "text": [
      "Specificity per class: [0.05522484823480875, 0.9882777554986582, 0.9998300499936269]\n",
      "METRICS:\tAUC 0.7311 | ACC 0.7795 | SENS 0.3536 | SPEC 0.6811 | PREC 0.6413 | F1 0.3340\n",
      "Specificity per class: [0.05562172463077656, 0.9883399815894446, 0.9996900884656562]\n",
      "METRICS:\tAUC 0.7245 | ACC 0.7824 | SENS 0.3539 | SPEC 0.6812 | PREC 0.5511 | F1 0.3352\n"
     ]
    }
   ],
   "source": [
    "import pandas as pd\n",
    "\n",
    "train_race_regressor(\n",
    "    evaluator.train_emb,\n",
    "    pd.factorize(train_df['race'])[0],\n",
    "    evaluator.test_emb,\n",
    "    pd.factorize(test_df['race'])[0],\n",
    ")"
   ]
  },
  {
   "cell_type": "markdown",
   "id": "6ec1418a5e3b3224",
   "metadata": {},
   "source": [
    "## Race ortho"
   ]
  },
  {
   "cell_type": "code",
   "execution_count": 12,
   "id": "eca3b957a47ff84d",
   "metadata": {},
   "outputs": [
    {
     "name": "stderr",
     "output_type": "stream",
     "text": [
      "GPU available: False, used: False\n",
      "TPU available: False, using: 0 TPU cores\n",
      "IPU available: False, using: 0 IPUs\n",
      "HPU available: False, using: 0 HPUs\n",
      "\n",
      "  | Name      | Type             | Params\n",
      "-----------------------------------------------\n",
      "0 | model     | Linear           | 3.1 K \n",
      "1 | loss_func | CrossEntropyLoss | 0     \n",
      "-----------------------------------------------\n",
      "3.1 K     Trainable params\n",
      "0         Non-trainable params\n",
      "3.1 K     Total params\n",
      "0.012     Total estimated model params size (MB)\n"
     ]
    },
    {
     "data": {
      "application/vnd.jupyter.widget-view+json": {
       "model_id": "",
       "version_major": 2,
       "version_minor": 0
      },
      "text/plain": [
       "Sanity Checking: 0it [00:00, ?it/s]"
      ]
     },
     "metadata": {},
     "output_type": "display_data"
    },
    {
     "name": "stderr",
     "output_type": "stream",
     "text": [
      "/home/tobias/Projects/chexray-ortho/.venv/lib/python3.11/site-packages/pytorch_lightning/trainer/connectors/data_connector.py:432: PossibleUserWarning: The dataloader, val_dataloader, does not have many workers which may be a bottleneck. Consider increasing the value of the `num_workers` argument` (try 8 which is the number of cpus on this machine) in the `DataLoader` init to improve performance.\n",
      "  rank_zero_warn(\n",
      "/home/tobias/Projects/chexray-ortho/.venv/lib/python3.11/site-packages/pytorch_lightning/trainer/connectors/data_connector.py:432: PossibleUserWarning: The dataloader, train_dataloader, does not have many workers which may be a bottleneck. Consider increasing the value of the `num_workers` argument` (try 8 which is the number of cpus on this machine) in the `DataLoader` init to improve performance.\n",
      "  rank_zero_warn(\n"
     ]
    },
    {
     "data": {
      "application/vnd.jupyter.widget-view+json": {
       "model_id": "30fa1cde11c948178ad160dfee2fcf6f",
       "version_major": 2,
       "version_minor": 0
      },
      "text/plain": [
       "Training: 0it [00:00, ?it/s]"
      ]
     },
     "metadata": {},
     "output_type": "display_data"
    },
    {
     "data": {
      "application/vnd.jupyter.widget-view+json": {
       "model_id": "",
       "version_major": 2,
       "version_minor": 0
      },
      "text/plain": [
       "Validation: 0it [00:00, ?it/s]"
      ]
     },
     "metadata": {},
     "output_type": "display_data"
    },
    {
     "data": {
      "application/vnd.jupyter.widget-view+json": {
       "model_id": "",
       "version_major": 2,
       "version_minor": 0
      },
      "text/plain": [
       "Validation: 0it [00:00, ?it/s]"
      ]
     },
     "metadata": {},
     "output_type": "display_data"
    },
    {
     "data": {
      "application/vnd.jupyter.widget-view+json": {
       "model_id": "",
       "version_major": 2,
       "version_minor": 0
      },
      "text/plain": [
       "Validation: 0it [00:00, ?it/s]"
      ]
     },
     "metadata": {},
     "output_type": "display_data"
    },
    {
     "data": {
      "application/vnd.jupyter.widget-view+json": {
       "model_id": "",
       "version_major": 2,
       "version_minor": 0
      },
      "text/plain": [
       "Validation: 0it [00:00, ?it/s]"
      ]
     },
     "metadata": {},
     "output_type": "display_data"
    },
    {
     "data": {
      "application/vnd.jupyter.widget-view+json": {
       "model_id": "",
       "version_major": 2,
       "version_minor": 0
      },
      "text/plain": [
       "Validation: 0it [00:00, ?it/s]"
      ]
     },
     "metadata": {},
     "output_type": "display_data"
    },
    {
     "data": {
      "application/vnd.jupyter.widget-view+json": {
       "model_id": "",
       "version_major": 2,
       "version_minor": 0
      },
      "text/plain": [
       "Validation: 0it [00:00, ?it/s]"
      ]
     },
     "metadata": {},
     "output_type": "display_data"
    },
    {
     "data": {
      "application/vnd.jupyter.widget-view+json": {
       "model_id": "",
       "version_major": 2,
       "version_minor": 0
      },
      "text/plain": [
       "Validation: 0it [00:00, ?it/s]"
      ]
     },
     "metadata": {},
     "output_type": "display_data"
    },
    {
     "data": {
      "application/vnd.jupyter.widget-view+json": {
       "model_id": "",
       "version_major": 2,
       "version_minor": 0
      },
      "text/plain": [
       "Validation: 0it [00:00, ?it/s]"
      ]
     },
     "metadata": {},
     "output_type": "display_data"
    },
    {
     "data": {
      "application/vnd.jupyter.widget-view+json": {
       "model_id": "",
       "version_major": 2,
       "version_minor": 0
      },
      "text/plain": [
       "Validation: 0it [00:00, ?it/s]"
      ]
     },
     "metadata": {},
     "output_type": "display_data"
    },
    {
     "data": {
      "application/vnd.jupyter.widget-view+json": {
       "model_id": "",
       "version_major": 2,
       "version_minor": 0
      },
      "text/plain": [
       "Validation: 0it [00:00, ?it/s]"
      ]
     },
     "metadata": {},
     "output_type": "display_data"
    },
    {
     "name": "stderr",
     "output_type": "stream",
     "text": [
      "`Trainer.fit` stopped: `max_epochs=10` reached.\n",
      "/home/tobias/Projects/chexray-ortho/.venv/lib/python3.11/site-packages/sklearn/metrics/_classification.py:1469: UndefinedMetricWarning: Precision and F-score are ill-defined and being set to 0.0 in labels with no predicted samples. Use `zero_division` parameter to control this behavior.\n",
      "  _warn_prf(average, modifier, msg_start, len(result))\n"
     ]
    },
    {
     "name": "stdout",
     "output_type": "stream",
     "text": [
      "Specificity per class: [0.0, 1.0, 1.0]\n",
      "METRICS:\tAUC 0.5021 | ACC 0.7774 | SENS 0.3333 | SPEC 0.6667 | PREC 0.2591 | F1 0.2916\n",
      "Specificity per class: [0.0, 1.0, 1.0]\n",
      "METRICS:\tAUC 0.5136 | ACC 0.7804 | SENS 0.3333 | SPEC 0.6667 | PREC 0.2601 | F1 0.2922\n"
     ]
    },
    {
     "name": "stderr",
     "output_type": "stream",
     "text": [
      "/home/tobias/Projects/chexray-ortho/.venv/lib/python3.11/site-packages/sklearn/metrics/_classification.py:1469: UndefinedMetricWarning: Precision and F-score are ill-defined and being set to 0.0 in labels with no predicted samples. Use `zero_division` parameter to control this behavior.\n",
      "  _warn_prf(average, modifier, msg_start, len(result))\n"
     ]
    }
   ],
   "source": [
    "import pandas as pd\n",
    "\n",
    "train_race_regressor(\n",
    "    evaluator.train_emb_ortho,\n",
    "    pd.factorize(train_df['race'])[0],\n",
    "    evaluator.test_emb_ortho,\n",
    "    pd.factorize(test_df['race'])[0],\n",
    ")"
   ]
  }
 ],
 "metadata": {
  "kernelspec": {
   "display_name": "Python 3 (ipykernel)",
   "language": "python",
   "name": "python3"
  },
  "language_info": {
   "codemirror_mode": {
    "name": "ipython",
    "version": 3
   },
   "file_extension": ".py",
   "mimetype": "text/x-python",
   "name": "python",
   "nbconvert_exporter": "python",
   "pygments_lexer": "ipython3",
   "version": "3.11.5"
  }
 },
 "nbformat": 4,
 "nbformat_minor": 5
}
