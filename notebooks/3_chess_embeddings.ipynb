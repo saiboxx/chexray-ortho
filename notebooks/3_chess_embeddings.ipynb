{
 "cells": [
  {
   "cell_type": "markdown",
   "source": [
    "# Embedding Orthogonalization\n"
   ],
   "metadata": {
    "collapsed": false
   }
  },
  {
   "cell_type": "code",
   "execution_count": 1,
   "outputs": [],
   "source": [
    "%load_ext autoreload\n",
    "%autoreload 2\n",
    "\n",
    "import os\n",
    "\n",
    "import numpy as np\n",
    "from src.eval import EmbeddingEvaluator, Disease\n",
    "\n",
    "\n",
    "DATA_DIR = '../data'\n",
    "DATASET = 'ch'\n",
    "\n",
    "if DATASET == 'mimic':\n",
    "    EMBEDDING_FILE = 'mimic_chess.npy'\n",
    "    META_FILE = 'mimic_meta.csv'\n",
    "else:\n",
    "    EMBEDDING_FILE = 'chex_chess.npy'\n",
    "    META_FILE = 'chexpert_meta.csv'\n",
    "\n",
    "N_COMPONENTS = None\n",
    "TARGET_DISEASE = Disease.PLEURAL_EFFUSION"
   ],
   "metadata": {
    "collapsed": false,
    "ExecuteTime": {
     "end_time": "2023-08-29T09:01:02.084623128Z",
     "start_time": "2023-08-29T09:00:56.597207786Z"
    }
   }
  },
  {
   "cell_type": "markdown",
   "source": [
    "## Load Metadata and Embedding"
   ],
   "metadata": {
    "collapsed": false
   }
  },
  {
   "cell_type": "code",
   "execution_count": 2,
   "outputs": [
    {
     "name": "stdout",
     "output_type": "stream",
     "text": [
      "DATASET SIZES: TRAIN 76205 | VAL 12673 | TEST 38240\n"
     ]
    }
   ],
   "source": [
    "from src.utils import get_mimic_meta_data, get_chexpert_meta_data\n",
    "\n",
    "if DATASET == 'mimic':\n",
    "    train_df, val_df, test_df = get_mimic_meta_data(os.path.join(DATA_DIR, META_FILE))\n",
    "else:\n",
    "    train_df, val_df, test_df = get_chexpert_meta_data(DATA_DIR)\n",
    "print(f'DATASET SIZES: TRAIN {len(train_df)} | VAL {len(val_df)} | TEST {len(test_df)}')\n",
    "\n",
    "emb = np.load(os.path.join(DATA_DIR, EMBEDDING_FILE))\n",
    "emb = np.nan_to_num(emb)\n",
    "train_emb = emb[train_df['idx']]\n",
    "test_emb = emb[test_df['idx']]"
   ],
   "metadata": {
    "collapsed": false,
    "ExecuteTime": {
     "end_time": "2023-08-29T09:01:12.665833615Z",
     "start_time": "2023-08-29T09:01:02.088418022Z"
    }
   }
  },
  {
   "cell_type": "code",
   "execution_count": 3,
   "outputs": [],
   "source": [
    "evaluator = EmbeddingEvaluator(train_df, test_df, train_emb, test_emb, n_components=N_COMPONENTS)"
   ],
   "metadata": {
    "collapsed": false,
    "ExecuteTime": {
     "end_time": "2023-08-29T09:01:17.220484595Z",
     "start_time": "2023-08-29T09:01:12.668600256Z"
    }
   }
  },
  {
   "cell_type": "markdown",
   "source": [
    "### WithOUT Orthogonalization"
   ],
   "metadata": {
    "collapsed": false
   }
  },
  {
   "cell_type": "code",
   "execution_count": 4,
   "outputs": [
    {
     "name": "stderr",
     "output_type": "stream",
     "text": [
      "/home/tobias/Projects/chexray-ortho/.venv/lib/python3.11/site-packages/torch/nn/modules/lazy.py:180: UserWarning: Lazy modules are a new feature under heavy development so changes to the API or functionality can happen at any moment.\n",
      "  warnings.warn('Lazy modules are a new feature under heavy development '\n",
      "GPU available: True (cuda), used: True\n",
      "TPU available: False, using: 0 TPU cores\n",
      "IPU available: False, using: 0 IPUs\n",
      "HPU available: False, using: 0 HPUs\n",
      "LOCAL_RANK: 0 - CUDA_VISIBLE_DEVICES: [0]\n"
     ]
    },
    {
     "data": {
      "text/plain": "Training: 0it [00:00, ?it/s]",
      "application/vnd.jupyter.widget-view+json": {
       "version_major": 2,
       "version_minor": 0,
       "model_id": "7b5d7da669ba4bd5987ac71a7989503b"
      }
     },
     "metadata": {},
     "output_type": "display_data"
    },
    {
     "name": "stderr",
     "output_type": "stream",
     "text": [
      "/home/tobias/Projects/chexray-ortho/.venv/lib/python3.11/site-packages/pytorch_lightning/trainer/call.py:52: UserWarning: Detected KeyboardInterrupt, attempting graceful shutdown...\n",
      "  rank_zero_warn(\"Detected KeyboardInterrupt, attempting graceful shutdown...\")\n"
     ]
    },
    {
     "name": "stdout",
     "output_type": "stream",
     "text": [
      "---------------------------------------------------------------------------\n",
      "TRAINING\n",
      "METRICS:\tAUC 0.7675 | ACC 0.7058 | SENS 0.5736 | SPEC 0.7966 | PREC 0.6593 | F1 0.6135\n",
      "---------------------------------------------------------------------------\n",
      "TESTING\n",
      "METRICS:\tAUC 0.7717 | ACC 0.7096 | SENS 0.5810 | SPEC 0.7974 | PREC 0.6617 | F1 0.6187\n",
      "---------------------------------------------------------------------------\n",
      "                            OLS Regression Results                            \n",
      "==============================================================================\n",
      "Dep. Variable:                 scores   R-squared:                       0.069\n",
      "Model:                            OLS   Adj. R-squared:                  0.069\n",
      "Method:                 Least Squares   F-statistic:                     1413.\n",
      "Date:                Tue, 29 Aug 2023   Prob (F-statistic):               0.00\n",
      "Time:                        11:01:30   Log-Likelihood:            -1.0743e+05\n",
      "No. Observations:               76205   AIC:                         2.149e+05\n",
      "Df Residuals:                   76200   BIC:                         2.149e+05\n",
      "Df Model:                           4                                         \n",
      "Covariance Type:            nonrobust                                         \n",
      "=================================================================================\n",
      "                    coef    std err          t      P>|t|      [0.025      0.975]\n",
      "---------------------------------------------------------------------------------\n",
      "Intercept        -1.4876      0.014   -105.280      0.000      -1.515      -1.460\n",
      "sex[T.F]          0.1958      0.007     26.795      0.000       0.182       0.210\n",
      "race[T.BLACK]    -0.0119      0.014     -0.851      0.395      -0.039       0.016\n",
      "race[T.ASIAN]     0.0735      0.010      7.232      0.000       0.054       0.093\n",
      "age               1.4225      0.021     68.269      0.000       1.382       1.463\n",
      "==============================================================================\n",
      "Omnibus:                     2516.229   Durbin-Watson:                   1.215\n",
      "Prob(Omnibus):                  0.000   Jarque-Bera (JB):             2746.035\n",
      "Skew:                          -0.459   Prob(JB):                         0.00\n",
      "Kurtosis:                       2.851   Cond. No.                         8.90\n",
      "==============================================================================\n",
      "\n",
      "Notes:\n",
      "[1] Standard Errors assume that the covariance matrix of the errors is correctly specified.\n",
      "---------------------------------------------------------------------------\n",
      "ANOVA\n",
      "               df        sum_sq      mean_sq            F         PR(>F)\n",
      "sex           1.0    859.839257   859.839257   875.643422  2.362743e-191\n",
      "race          2.0    113.793747    56.896874    57.942659   7.160417e-26\n",
      "age           1.0   4576.565488  4576.565488  4660.684463   0.000000e+00\n",
      "Residual  76200.0  74824.694303     0.981951          NaN            NaN\n"
     ]
    }
   ],
   "source": [
    "evaluator.eval_classifier(response=TARGET_DISEASE, ortho=False)"
   ],
   "metadata": {
    "collapsed": false,
    "ExecuteTime": {
     "end_time": "2023-08-29T09:01:30.437362716Z",
     "start_time": "2023-08-29T09:01:17.223973656Z"
    }
   }
  },
  {
   "cell_type": "markdown",
   "source": [
    "### With Orthogonalization"
   ],
   "metadata": {
    "collapsed": false
   }
  },
  {
   "cell_type": "code",
   "execution_count": 5,
   "outputs": [
    {
     "name": "stderr",
     "output_type": "stream",
     "text": [
      "/home/tobias/Projects/chexray-ortho/.venv/lib/python3.11/site-packages/torch/nn/modules/lazy.py:180: UserWarning: Lazy modules are a new feature under heavy development so changes to the API or functionality can happen at any moment.\n",
      "  warnings.warn('Lazy modules are a new feature under heavy development '\n",
      "GPU available: True (cuda), used: True\n",
      "TPU available: False, using: 0 TPU cores\n",
      "IPU available: False, using: 0 IPUs\n",
      "HPU available: False, using: 0 HPUs\n",
      "LOCAL_RANK: 0 - CUDA_VISIBLE_DEVICES: [0]\n"
     ]
    },
    {
     "data": {
      "text/plain": "Training: 0it [00:00, ?it/s]",
      "application/vnd.jupyter.widget-view+json": {
       "version_major": 2,
       "version_minor": 0,
       "model_id": "a26eb1f66d5e49fa81c4de5ba05ed19a"
      }
     },
     "metadata": {},
     "output_type": "display_data"
    },
    {
     "name": "stderr",
     "output_type": "stream",
     "text": [
      "`Trainer.fit` stopped: `max_epochs=3` reached.\n"
     ]
    },
    {
     "name": "stdout",
     "output_type": "stream",
     "text": [
      "---------------------------------------------------------------------------\n",
      "TRAINING\n",
      "METRICS:\tAUC 0.7808 | ACC 0.7150 | SENS 0.5960 | SPEC 0.7966 | PREC 0.6679 | F1 0.6299\n",
      "---------------------------------------------------------------------------\n",
      "TESTING\n",
      "METRICS:\tAUC 0.7835 | ACC 0.7196 | SENS 0.6033 | SPEC 0.7990 | PREC 0.6720 | F1 0.6358\n",
      "---------------------------------------------------------------------------\n",
      "                            OLS Regression Results                            \n",
      "==============================================================================\n",
      "Dep. Variable:                 scores   R-squared:                       0.000\n",
      "Model:                            OLS   Adj. R-squared:                 -0.000\n",
      "Method:                 Least Squares   F-statistic:                 2.912e-12\n",
      "Date:                Tue, 29 Aug 2023   Prob (F-statistic):               1.00\n",
      "Time:                        11:01:51   Log-Likelihood:            -1.1661e+05\n",
      "No. Observations:               76205   AIC:                         2.332e+05\n",
      "Df Residuals:                   76200   BIC:                         2.333e+05\n",
      "Df Model:                           4                                         \n",
      "Covariance Type:            nonrobust                                         \n",
      "=================================================================================\n",
      "                    coef    std err          t      P>|t|      [0.025      0.975]\n",
      "---------------------------------------------------------------------------------\n",
      "Intercept        -0.4459      0.016    -27.976      0.000      -0.477      -0.415\n",
      "sex[T.F]      -1.321e-09      0.008   -1.6e-07      1.000      -0.016       0.016\n",
      "race[T.BLACK] -4.665e-10      0.016  -2.96e-08      1.000      -0.031       0.031\n",
      "race[T.ASIAN]  7.375e-10      0.011   6.43e-08      1.000      -0.022       0.022\n",
      "age           -5.925e-09      0.024  -2.52e-07      1.000      -0.046       0.046\n",
      "==============================================================================\n",
      "Omnibus:                     1074.562   Durbin-Watson:                   1.213\n",
      "Prob(Omnibus):                  0.000   Jarque-Bera (JB):              786.826\n",
      "Skew:                          -0.151   Prob(JB):                    1.39e-171\n",
      "Kurtosis:                       2.604   Cond. No.                         8.90\n",
      "==============================================================================\n",
      "\n",
      "Notes:\n",
      "[1] Standard Errors assume that the covariance matrix of the errors is correctly specified.\n",
      "---------------------------------------------------------------------------\n",
      "ANOVA\n",
      "               df        sum_sq       mean_sq             F  PR(>F)\n",
      "sex           1.0  3.620170e-14  3.620170e-14  2.897783e-14     1.0\n",
      "race          2.0  7.509859e-15  3.754929e-15  3.005652e-15     1.0\n",
      "age           1.0  7.939970e-14  7.939970e-14  6.355589e-14     1.0\n",
      "Residual  76200.0  9.519586e+04  1.249289e+00           NaN     NaN\n"
     ]
    }
   ],
   "source": [
    "evaluator.eval_classifier(response=TARGET_DISEASE, ortho=True)"
   ],
   "metadata": {
    "collapsed": false,
    "ExecuteTime": {
     "end_time": "2023-08-29T09:01:51.565755983Z",
     "start_time": "2023-08-29T09:01:30.436415955Z"
    }
   }
  }
 ],
 "metadata": {
  "kernelspec": {
   "display_name": "Python 3",
   "language": "python",
   "name": "python3"
  },
  "language_info": {
   "codemirror_mode": {
    "name": "ipython",
    "version": 2
   },
   "file_extension": ".py",
   "mimetype": "text/x-python",
   "name": "python",
   "nbconvert_exporter": "python",
   "pygments_lexer": "ipython2",
   "version": "2.7.6"
  }
 },
 "nbformat": 4,
 "nbformat_minor": 0
}
