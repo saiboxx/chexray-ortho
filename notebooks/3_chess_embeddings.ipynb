{
 "cells": [
  {
   "cell_type": "markdown",
   "source": [
    "# Embedding Orthogonalization\n"
   ],
   "metadata": {
    "collapsed": false
   }
  },
  {
   "cell_type": "code",
   "execution_count": 8,
   "outputs": [
    {
     "name": "stdout",
     "output_type": "stream",
     "text": [
      "The autoreload extension is already loaded. To reload it, use:\n",
      "  %reload_ext autoreload\n"
     ]
    }
   ],
   "source": [
    "%load_ext autoreload\n",
    "%autoreload 2\n",
    "\n",
    "import os\n",
    "\n",
    "import numpy as np\n",
    "from src.eval import EmbeddingEvaluator, Disease\n",
    "\n",
    "\n",
    "DATA_DIR = '../data'\n",
    "DATASET = 'mimic'\n",
    "\n",
    "if DATASET == 'mimic':\n",
    "    EMBEDDING_FILE = 'mimic_chess.npy'\n",
    "    META_FILE = 'mimic_meta.csv'\n",
    "else:\n",
    "    EMBEDDING_FILE = 'chex_chess.npy'\n",
    "    META_FILE = 'chexpert_meta.csv'\n",
    "\n",
    "N_COMPONENTS = None\n",
    "TARGET_DISEASE = Disease.PLEURAL_EFFUSION"
   ],
   "metadata": {
    "collapsed": false,
    "ExecuteTime": {
     "end_time": "2023-08-30T07:48:20.107732285Z",
     "start_time": "2023-08-30T07:48:17.787530947Z"
    }
   }
  },
  {
   "cell_type": "markdown",
   "source": [
    "## Load Metadata and Embedding"
   ],
   "metadata": {
    "collapsed": false
   }
  },
  {
   "cell_type": "code",
   "execution_count": 9,
   "outputs": [
    {
     "name": "stdout",
     "output_type": "stream",
     "text": [
      "DATASET SIZES: TRAIN 181342 | VAL 1413 | TEST 3041\n"
     ]
    }
   ],
   "source": [
    "from src.utils import get_mimic_meta_data, get_chexpert_meta_data\n",
    "\n",
    "if DATASET == 'mimic':\n",
    "    train_df, val_df, test_df = get_mimic_meta_data(os.path.join(DATA_DIR, META_FILE))\n",
    "else:\n",
    "    train_df, val_df, test_df = get_chexpert_meta_data(DATA_DIR)\n",
    "print(f'DATASET SIZES: TRAIN {len(train_df)} | VAL {len(val_df)} | TEST {len(test_df)}')\n",
    "\n",
    "emb = np.load(os.path.join(DATA_DIR, EMBEDDING_FILE))\n",
    "emb = np.nan_to_num(emb)\n",
    "train_emb = emb[train_df['idx']]\n",
    "test_emb = emb[test_df['idx']]"
   ],
   "metadata": {
    "collapsed": false,
    "ExecuteTime": {
     "end_time": "2023-08-30T07:48:31.023832278Z",
     "start_time": "2023-08-30T07:48:20.449697910Z"
    }
   }
  },
  {
   "cell_type": "code",
   "execution_count": 10,
   "outputs": [],
   "source": [
    "evaluator = EmbeddingEvaluator(train_df, test_df, train_emb, test_emb, n_components=N_COMPONENTS)"
   ],
   "metadata": {
    "collapsed": false,
    "ExecuteTime": {
     "end_time": "2023-08-30T07:48:38.520986438Z",
     "start_time": "2023-08-30T07:48:31.022252890Z"
    }
   }
  },
  {
   "cell_type": "code",
   "execution_count": 11,
   "outputs": [
    {
     "name": "stdout",
     "output_type": "stream",
     "text": [
      "1\t|\tDisease.ENLARGED_CARDIOMEDIASTINUM\n"
     ]
    },
    {
     "name": "stderr",
     "output_type": "stream",
     "text": [
      "GPU available: False, used: False\n",
      "TPU available: False, using: 0 TPU cores\n",
      "IPU available: False, using: 0 IPUs\n",
      "HPU available: False, using: 0 HPUs\n",
      "`Trainer.fit` stopped: `max_epochs=10` reached.\n",
      "GPU available: False, used: False\n",
      "TPU available: False, using: 0 TPU cores\n",
      "IPU available: False, using: 0 IPUs\n",
      "HPU available: False, using: 0 HPUs\n",
      "`Trainer.fit` stopped: `max_epochs=10` reached.\n"
     ]
    },
    {
     "name": "stdout",
     "output_type": "stream",
     "text": [
      "0.637 & 0.643\n",
      "2\t|\tDisease.CARDIOMEGALY\n"
     ]
    },
    {
     "name": "stderr",
     "output_type": "stream",
     "text": [
      "GPU available: False, used: False\n",
      "TPU available: False, using: 0 TPU cores\n",
      "IPU available: False, using: 0 IPUs\n",
      "HPU available: False, using: 0 HPUs\n",
      "`Trainer.fit` stopped: `max_epochs=10` reached.\n",
      "GPU available: False, used: False\n",
      "TPU available: False, using: 0 TPU cores\n",
      "IPU available: False, using: 0 IPUs\n",
      "HPU available: False, using: 0 HPUs\n",
      "`Trainer.fit` stopped: `max_epochs=10` reached.\n"
     ]
    },
    {
     "name": "stdout",
     "output_type": "stream",
     "text": [
      "0.751 & 0.751\n",
      "3\t|\tDisease.LUNG_OPACITY\n"
     ]
    },
    {
     "name": "stderr",
     "output_type": "stream",
     "text": [
      "GPU available: False, used: False\n",
      "TPU available: False, using: 0 TPU cores\n",
      "IPU available: False, using: 0 IPUs\n",
      "HPU available: False, using: 0 HPUs\n",
      "`Trainer.fit` stopped: `max_epochs=10` reached.\n",
      "GPU available: False, used: False\n",
      "TPU available: False, using: 0 TPU cores\n",
      "IPU available: False, using: 0 IPUs\n",
      "HPU available: False, using: 0 HPUs\n",
      "`Trainer.fit` stopped: `max_epochs=10` reached.\n"
     ]
    },
    {
     "name": "stdout",
     "output_type": "stream",
     "text": [
      "0.627 & 0.636\n",
      "4\t|\tDisease.LUNG_LESION\n"
     ]
    },
    {
     "name": "stderr",
     "output_type": "stream",
     "text": [
      "GPU available: False, used: False\n",
      "TPU available: False, using: 0 TPU cores\n",
      "IPU available: False, using: 0 IPUs\n",
      "HPU available: False, using: 0 HPUs\n",
      "`Trainer.fit` stopped: `max_epochs=10` reached.\n",
      "GPU available: False, used: False\n",
      "TPU available: False, using: 0 TPU cores\n",
      "IPU available: False, using: 0 IPUs\n",
      "HPU available: False, using: 0 HPUs\n",
      "`Trainer.fit` stopped: `max_epochs=10` reached.\n"
     ]
    },
    {
     "name": "stdout",
     "output_type": "stream",
     "text": [
      "0.626 & 0.634\n",
      "5\t|\tDisease.EDEMA\n"
     ]
    },
    {
     "name": "stderr",
     "output_type": "stream",
     "text": [
      "GPU available: False, used: False\n",
      "TPU available: False, using: 0 TPU cores\n",
      "IPU available: False, using: 0 IPUs\n",
      "HPU available: False, using: 0 HPUs\n",
      "`Trainer.fit` stopped: `max_epochs=10` reached.\n",
      "GPU available: False, used: False\n",
      "TPU available: False, using: 0 TPU cores\n",
      "IPU available: False, using: 0 IPUs\n",
      "HPU available: False, using: 0 HPUs\n",
      "`Trainer.fit` stopped: `max_epochs=10` reached.\n"
     ]
    },
    {
     "name": "stdout",
     "output_type": "stream",
     "text": [
      "0.803 & 0.798\n",
      "6\t|\tDisease.CONSOLIDATION\n"
     ]
    },
    {
     "name": "stderr",
     "output_type": "stream",
     "text": [
      "GPU available: False, used: False\n",
      "TPU available: False, using: 0 TPU cores\n",
      "IPU available: False, using: 0 IPUs\n",
      "HPU available: False, using: 0 HPUs\n",
      "`Trainer.fit` stopped: `max_epochs=10` reached.\n",
      "GPU available: False, used: False\n",
      "TPU available: False, using: 0 TPU cores\n",
      "IPU available: False, using: 0 IPUs\n",
      "HPU available: False, using: 0 HPUs\n",
      "`Trainer.fit` stopped: `max_epochs=10` reached.\n"
     ]
    },
    {
     "name": "stdout",
     "output_type": "stream",
     "text": [
      "0.650 & 0.655\n",
      "7\t|\tDisease.PNEUMONIA\n"
     ]
    },
    {
     "name": "stderr",
     "output_type": "stream",
     "text": [
      "GPU available: False, used: False\n",
      "TPU available: False, using: 0 TPU cores\n",
      "IPU available: False, using: 0 IPUs\n",
      "HPU available: False, using: 0 HPUs\n",
      "`Trainer.fit` stopped: `max_epochs=10` reached.\n",
      "GPU available: False, used: False\n",
      "TPU available: False, using: 0 TPU cores\n",
      "IPU available: False, using: 0 IPUs\n",
      "HPU available: False, using: 0 HPUs\n",
      "`Trainer.fit` stopped: `max_epochs=10` reached.\n"
     ]
    },
    {
     "name": "stdout",
     "output_type": "stream",
     "text": [
      "0.591 & 0.608\n",
      "8\t|\tDisease.ATELECTASIS\n"
     ]
    },
    {
     "name": "stderr",
     "output_type": "stream",
     "text": [
      "GPU available: False, used: False\n",
      "TPU available: False, using: 0 TPU cores\n",
      "IPU available: False, using: 0 IPUs\n",
      "HPU available: False, using: 0 HPUs\n",
      "`Trainer.fit` stopped: `max_epochs=10` reached.\n",
      "GPU available: False, used: False\n",
      "TPU available: False, using: 0 TPU cores\n",
      "IPU available: False, using: 0 IPUs\n",
      "HPU available: False, using: 0 HPUs\n",
      "`Trainer.fit` stopped: `max_epochs=10` reached.\n"
     ]
    },
    {
     "name": "stdout",
     "output_type": "stream",
     "text": [
      "0.702 & 0.695\n",
      "9\t|\tDisease.PNEUMOTHORAX\n"
     ]
    },
    {
     "name": "stderr",
     "output_type": "stream",
     "text": [
      "GPU available: False, used: False\n",
      "TPU available: False, using: 0 TPU cores\n",
      "IPU available: False, using: 0 IPUs\n",
      "HPU available: False, using: 0 HPUs\n",
      "`Trainer.fit` stopped: `max_epochs=10` reached.\n",
      "GPU available: False, used: False\n",
      "TPU available: False, using: 0 TPU cores\n",
      "IPU available: False, using: 0 IPUs\n",
      "HPU available: False, using: 0 HPUs\n",
      "`Trainer.fit` stopped: `max_epochs=10` reached.\n"
     ]
    },
    {
     "name": "stdout",
     "output_type": "stream",
     "text": [
      "0.649 & 0.649\n",
      "10\t|\tDisease.PLEURAL_EFFUSION\n"
     ]
    },
    {
     "name": "stderr",
     "output_type": "stream",
     "text": [
      "GPU available: False, used: False\n",
      "TPU available: False, using: 0 TPU cores\n",
      "IPU available: False, using: 0 IPUs\n",
      "HPU available: False, using: 0 HPUs\n",
      "`Trainer.fit` stopped: `max_epochs=10` reached.\n",
      "GPU available: False, used: False\n",
      "TPU available: False, using: 0 TPU cores\n",
      "IPU available: False, using: 0 IPUs\n",
      "HPU available: False, using: 0 HPUs\n",
      "`Trainer.fit` stopped: `max_epochs=10` reached.\n"
     ]
    },
    {
     "name": "stdout",
     "output_type": "stream",
     "text": [
      "0.802 & 0.790\n",
      "11\t|\tDisease.PLEURAL_OTHER\n"
     ]
    },
    {
     "name": "stderr",
     "output_type": "stream",
     "text": [
      "GPU available: False, used: False\n",
      "TPU available: False, using: 0 TPU cores\n",
      "IPU available: False, using: 0 IPUs\n",
      "HPU available: False, using: 0 HPUs\n",
      "`Trainer.fit` stopped: `max_epochs=10` reached.\n",
      "GPU available: False, used: False\n",
      "TPU available: False, using: 0 TPU cores\n",
      "IPU available: False, using: 0 IPUs\n",
      "HPU available: False, using: 0 HPUs\n",
      "`Trainer.fit` stopped: `max_epochs=10` reached.\n"
     ]
    },
    {
     "name": "stdout",
     "output_type": "stream",
     "text": [
      "0.721 & 0.720\n",
      "12\t|\tDisease.FRACTURE\n"
     ]
    },
    {
     "name": "stderr",
     "output_type": "stream",
     "text": [
      "GPU available: False, used: False\n",
      "TPU available: False, using: 0 TPU cores\n",
      "IPU available: False, using: 0 IPUs\n",
      "HPU available: False, using: 0 HPUs\n",
      "`Trainer.fit` stopped: `max_epochs=10` reached.\n",
      "GPU available: False, used: False\n",
      "TPU available: False, using: 0 TPU cores\n",
      "IPU available: False, using: 0 IPUs\n",
      "HPU available: False, using: 0 HPUs\n",
      "`Trainer.fit` stopped: `max_epochs=10` reached.\n"
     ]
    },
    {
     "name": "stdout",
     "output_type": "stream",
     "text": [
      "0.642 & 0.635\n",
      "13\t|\tDisease.SUPPORT_DEVICES\n"
     ]
    },
    {
     "name": "stderr",
     "output_type": "stream",
     "text": [
      "GPU available: False, used: False\n",
      "TPU available: False, using: 0 TPU cores\n",
      "IPU available: False, using: 0 IPUs\n",
      "HPU available: False, using: 0 HPUs\n",
      "`Trainer.fit` stopped: `max_epochs=10` reached.\n",
      "GPU available: False, used: False\n",
      "TPU available: False, using: 0 TPU cores\n",
      "IPU available: False, using: 0 IPUs\n",
      "HPU available: False, using: 0 HPUs\n",
      "`Trainer.fit` stopped: `max_epochs=10` reached.\n"
     ]
    },
    {
     "name": "stdout",
     "output_type": "stream",
     "text": [
      "0.800 & 0.800\n",
      "14\t|\tDisease.NO_FINDING\n"
     ]
    },
    {
     "name": "stderr",
     "output_type": "stream",
     "text": [
      "GPU available: False, used: False\n",
      "TPU available: False, using: 0 TPU cores\n",
      "IPU available: False, using: 0 IPUs\n",
      "HPU available: False, using: 0 HPUs\n",
      "`Trainer.fit` stopped: `max_epochs=10` reached.\n",
      "GPU available: False, used: False\n",
      "TPU available: False, using: 0 TPU cores\n",
      "IPU available: False, using: 0 IPUs\n",
      "HPU available: False, using: 0 HPUs\n",
      "`Trainer.fit` stopped: `max_epochs=10` reached.\n"
     ]
    },
    {
     "name": "stdout",
     "output_type": "stream",
     "text": [
      "0.747 & 0.727\n"
     ]
    }
   ],
   "source": [
    "ms = []\n",
    "for i, disease in enumerate(Disease, start=1):\n",
    "    print('{}\\t|\\t{}'.format(i, disease))\n",
    "    m = evaluator.get_classifier_metrics(response=disease, clf_args={'max_epochs': 10})\n",
    "    ms.append(m)"
   ],
   "metadata": {
    "collapsed": false,
    "ExecuteTime": {
     "end_time": "2023-08-30T08:02:04.552413068Z",
     "start_time": "2023-08-30T07:48:38.484676370Z"
    }
   }
  },
  {
   "cell_type": "code",
   "execution_count": 12,
   "outputs": [
    {
     "name": "stdout",
     "output_type": "stream",
     "text": [
      "Disease.ENLARGED_CARDIOMEDIASTINUM \t 0.637 & 0.643\n",
      "Disease.CARDIOMEGALY \t 0.751 & 0.751\n",
      "Disease.LUNG_OPACITY \t 0.627 & 0.636\n",
      "Disease.LUNG_LESION \t 0.626 & 0.634\n",
      "Disease.EDEMA \t 0.803 & 0.798\n",
      "Disease.CONSOLIDATION \t 0.650 & 0.655\n",
      "Disease.PNEUMONIA \t 0.591 & 0.608\n",
      "Disease.ATELECTASIS \t 0.702 & 0.695\n",
      "Disease.PNEUMOTHORAX \t 0.649 & 0.649\n",
      "Disease.PLEURAL_EFFUSION \t 0.802 & 0.790\n",
      "Disease.PLEURAL_OTHER \t 0.721 & 0.720\n",
      "Disease.FRACTURE \t 0.642 & 0.635\n",
      "Disease.SUPPORT_DEVICES \t 0.800 & 0.800\n",
      "Disease.NO_FINDING \t 0.747 & 0.727\n"
     ]
    }
   ],
   "source": [
    "for m, disease in zip(ms, Disease):\n",
    "   print(disease, '\\t', m)"
   ],
   "metadata": {
    "collapsed": false,
    "ExecuteTime": {
     "end_time": "2023-08-30T08:02:04.597724734Z",
     "start_time": "2023-08-30T08:02:04.551135736Z"
    }
   }
  },
  {
   "cell_type": "markdown",
   "source": [
    "### WithOUT Orthogonalization"
   ],
   "metadata": {
    "collapsed": false
   }
  },
  {
   "cell_type": "code",
   "execution_count": 6,
   "outputs": [
    {
     "name": "stderr",
     "output_type": "stream",
     "text": [
      "GPU available: False, used: False\n",
      "TPU available: False, using: 0 TPU cores\n",
      "IPU available: False, using: 0 IPUs\n",
      "HPU available: False, using: 0 HPUs\n",
      "`Trainer.fit` stopped: `max_epochs=3` reached.\n"
     ]
    },
    {
     "name": "stdout",
     "output_type": "stream",
     "text": [
      "---------------------------------------------------------------------------\n",
      "TRAINING\n",
      "METRICS:\tAUC 0.7760 | ACC 0.7131 | SENS 0.5982 | SPEC 0.7920 | PREC 0.6637 | F1 0.6292\n",
      "---------------------------------------------------------------------------\n",
      "TESTING\n",
      "METRICS:\tAUC 0.7789 | ACC 0.7153 | SENS 0.6046 | SPEC 0.7908 | PREC 0.6636 | F1 0.6327\n",
      "---------------------------------------------------------------------------\n",
      "                            OLS Regression Results                            \n",
      "==============================================================================\n",
      "Dep. Variable:                 scores   R-squared:                       0.069\n",
      "Model:                            OLS   Adj. R-squared:                  0.069\n",
      "Method:                 Least Squares   F-statistic:                     1413.\n",
      "Date:                Wed, 30 Aug 2023   Prob (F-statistic):               0.00\n",
      "Time:                        09:39:19   Log-Likelihood:            -1.1496e+05\n",
      "No. Observations:               76205   AIC:                         2.299e+05\n",
      "Df Residuals:                   76200   BIC:                         2.300e+05\n",
      "Df Model:                           4                                         \n",
      "Covariance Type:            nonrobust                                         \n",
      "=================================================================================\n",
      "                    coef    std err          t      P>|t|      [0.025      0.975]\n",
      "---------------------------------------------------------------------------------\n",
      "Intercept        -1.5799      0.016   -101.296      0.000      -1.611      -1.549\n",
      "sex[T.F]          0.1784      0.008     22.118      0.000       0.163       0.194\n",
      "race[T.BLACK]    -0.0396      0.015     -2.562      0.010      -0.070      -0.009\n",
      "race[T.ASIAN]     0.0496      0.011      4.420      0.000       0.028       0.072\n",
      "age               1.6097      0.023     69.987      0.000       1.565       1.655\n",
      "==============================================================================\n",
      "Omnibus:                     1717.680   Durbin-Watson:                   1.216\n",
      "Prob(Omnibus):                  0.000   Jarque-Bera (JB):             1773.214\n",
      "Skew:                          -0.358   Prob(JB):                         0.00\n",
      "Kurtosis:                       2.784   Cond. No.                         8.90\n",
      "==============================================================================\n",
      "\n",
      "Notes:\n",
      "[1] Standard Errors assume that the covariance matrix of the errors is correctly specified.\n",
      "---------------------------------------------------------------------------\n",
      "ANOVA\n",
      "               df        sum_sq      mean_sq            F         PR(>F)\n",
      "sex           1.0    737.746356   737.746356   616.594341  1.429008e-135\n",
      "race          2.0    164.443528    82.221764    68.719383   1.522066e-30\n",
      "age           1.0   5860.543902  5860.543902  4898.130880   0.000000e+00\n",
      "Residual  76200.0  91172.215736     1.196486          NaN            NaN\n"
     ]
    }
   ],
   "source": [
    "evaluator.eval_classifier(response=TARGET_DISEASE, ortho=False)"
   ],
   "metadata": {
    "collapsed": false,
    "ExecuteTime": {
     "end_time": "2023-08-30T07:39:19.533285618Z",
     "start_time": "2023-08-30T07:39:14.601017799Z"
    }
   }
  },
  {
   "cell_type": "markdown",
   "source": [
    "### With Orthogonalization"
   ],
   "metadata": {
    "collapsed": false
   }
  },
  {
   "cell_type": "code",
   "execution_count": 7,
   "outputs": [
    {
     "name": "stderr",
     "output_type": "stream",
     "text": [
      "GPU available: False, used: False\n",
      "TPU available: False, using: 0 TPU cores\n",
      "IPU available: False, using: 0 IPUs\n",
      "HPU available: False, using: 0 HPUs\n",
      "`Trainer.fit` stopped: `max_epochs=3` reached.\n"
     ]
    },
    {
     "name": "stdout",
     "output_type": "stream",
     "text": [
      "---------------------------------------------------------------------------\n",
      "TRAINING\n",
      "METRICS:\tAUC 0.7804 | ACC 0.7145 | SENS 0.5943 | SPEC 0.7970 | PREC 0.6677 | F1 0.6288\n",
      "---------------------------------------------------------------------------\n",
      "TESTING\n",
      "METRICS:\tAUC 0.7827 | ACC 0.7194 | SENS 0.6008 | SPEC 0.8004 | PREC 0.6725 | F1 0.6347\n",
      "---------------------------------------------------------------------------\n",
      "                            OLS Regression Results                            \n",
      "==============================================================================\n",
      "Dep. Variable:                 scores   R-squared:                      -0.000\n",
      "Model:                            OLS   Adj. R-squared:                 -0.000\n",
      "Method:                 Least Squares   F-statistic:                -2.947e-12\n",
      "Date:                Wed, 30 Aug 2023   Prob (F-statistic):               1.00\n",
      "Time:                        09:39:24   Log-Likelihood:            -1.1616e+05\n",
      "No. Observations:               76205   AIC:                         2.323e+05\n",
      "Df Residuals:                   76200   BIC:                         2.324e+05\n",
      "Df Model:                           4                                         \n",
      "Covariance Type:            nonrobust                                         \n",
      "=================================================================================\n",
      "                    coef    std err          t      P>|t|      [0.025      0.975]\n",
      "---------------------------------------------------------------------------------\n",
      "Intercept        -0.4467      0.016    -28.194      0.000      -0.478      -0.416\n",
      "sex[T.F]       4.248e-10      0.008   5.18e-08      1.000      -0.016       0.016\n",
      "race[T.BLACK]  3.574e-10      0.016   2.28e-08      1.000      -0.031       0.031\n",
      "race[T.ASIAN] -2.641e-10      0.011  -2.32e-08      1.000      -0.022       0.022\n",
      "age            9.192e-09      0.023   3.93e-07      1.000      -0.046       0.046\n",
      "==============================================================================\n",
      "Omnibus:                     1060.271   Durbin-Watson:                   1.215\n",
      "Prob(Omnibus):                  0.000   Jarque-Bera (JB):              785.240\n",
      "Skew:                          -0.154   Prob(JB):                    3.07e-171\n",
      "Kurtosis:                       2.609   Cond. No.                         8.90\n",
      "==============================================================================\n",
      "\n",
      "Notes:\n",
      "[1] Standard Errors assume that the covariance matrix of the errors is correctly specified.\n",
      "---------------------------------------------------------------------------\n",
      "ANOVA\n",
      "               df        sum_sq       mean_sq             F  PR(>F)\n",
      "sex           1.0  5.632546e-15  5.632546e-15  4.562268e-15     1.0\n",
      "race          2.0  2.910698e-15  1.455349e-15  1.178808e-15     1.0\n",
      "age           1.0  1.910899e-13  1.910899e-13  1.547796e-13     1.0\n",
      "Residual  76200.0  9.407602e+04  1.234593e+00           NaN     NaN\n"
     ]
    }
   ],
   "source": [
    "evaluator.eval_classifier(response=TARGET_DISEASE, ortho=True)"
   ],
   "metadata": {
    "collapsed": false,
    "ExecuteTime": {
     "end_time": "2023-08-30T07:39:24.409378643Z",
     "start_time": "2023-08-30T07:39:19.529497180Z"
    }
   }
  }
 ],
 "metadata": {
  "kernelspec": {
   "display_name": "Python 3",
   "language": "python",
   "name": "python3"
  },
  "language_info": {
   "codemirror_mode": {
    "name": "ipython",
    "version": 2
   },
   "file_extension": ".py",
   "mimetype": "text/x-python",
   "name": "python",
   "nbconvert_exporter": "python",
   "pygments_lexer": "ipython2",
   "version": "2.7.6"
  }
 },
 "nbformat": 4,
 "nbformat_minor": 0
}
