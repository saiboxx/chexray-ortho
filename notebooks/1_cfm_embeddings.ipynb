{
 "cells": [
  {
   "cell_type": "markdown",
   "metadata": {},
   "source": [
    "# Embedding Orthogonalization\n"
   ]
  },
  {
   "cell_type": "code",
   "execution_count": 1,
   "metadata": {
    "ExecuteTime": {
     "end_time": "2023-08-29T14:03:54.511947929Z",
     "start_time": "2023-08-29T14:03:48.188291547Z"
    }
   },
   "outputs": [],
   "source": [
    "%load_ext autoreload\n",
    "%autoreload 2\n",
    "\n",
    "import os\n",
    "\n",
    "import numpy as np\n",
    "from src.eval import EmbeddingEvaluator, Disease\n",
    "\n",
    "DATA_DIR = '../data'\n",
    "EMBEDDING_FILE = 'mimic_cfm.npy'\n",
    "META_FILE = 'mimic_meta.csv'\n",
<<<<<<< HEAD
    "N_COMPONENTS = None\n",
    "TARGET_DISEASE = Disease.PLEURAL_EFFUSION"
   ]
=======
    "\n",
    "REDUCE_DIM = True\n",
    "N_COMPONENTS = 111\n",
    "TARGET_DISEASE = 'Pleural Effusion'"
   ],
   "metadata": {
    "collapsed": false,
    "ExecuteTime": {
     "end_time": "2023-07-31T13:23:15.321179055Z",
     "start_time": "2023-07-31T13:23:12.133248776Z"
    }
   }
>>>>>>> refs/remotes/origin/main
  },
  {
   "cell_type": "markdown",
   "metadata": {},
   "source": [
    "## Load Metadata and Embedding"
   ]
  },
  {
   "cell_type": "code",
   "execution_count": 2,
   "metadata": {
    "ExecuteTime": {
     "end_time": "2023-08-29T14:04:02.317962089Z",
     "start_time": "2023-08-29T14:03:54.516050755Z"
    }
   },
   "outputs": [
    {
     "name": "stdout",
     "output_type": "stream",
     "text": [
      "DATASET SIZES: TRAIN 181342 | VAL 1413 | TEST 3041\n"
     ]
    }
   ],
   "source": [
    "from src.utils import get_mimic_meta_data\n",
    "\n",
    "train_df, val_df, test_df = get_mimic_meta_data(os.path.join(DATA_DIR, META_FILE))\n",
    "print(f'DATASET SIZES: TRAIN {len(train_df)} | VAL {len(val_df)} | TEST {len(test_df)}')\n",
    "\n",
    "emb = np.load(os.path.join(DATA_DIR, EMBEDDING_FILE))\n",
    "train_emb = emb[train_df['idx']]\n",
    "test_emb = emb[test_df['idx']]"
<<<<<<< HEAD
   ]
=======
   ],
   "metadata": {
    "collapsed": false,
    "ExecuteTime": {
     "end_time": "2023-07-31T13:23:17.461313192Z",
     "start_time": "2023-07-31T13:23:15.322425275Z"
    }
   }
  },
  {
   "cell_type": "markdown",
   "source": [
    "## Apply Dimensionality Reduction"
   ],
   "metadata": {
    "collapsed": false
   }
>>>>>>> refs/remotes/origin/main
  },
  {
   "cell_type": "code",
   "execution_count": 3,
   "outputs": [],
   "source": [
    "evaluator = EmbeddingEvaluator(train_df, test_df, train_emb, test_emb, n_components=N_COMPONENTS)"
   ],
   "metadata": {
    "collapsed": false,
    "ExecuteTime": {
     "end_time": "2023-08-29T14:04:16.757804656Z",
     "start_time": "2023-08-29T14:04:02.323668631Z"
    }
   }
  },
  {
   "cell_type": "code",
   "execution_count": 4,
   "outputs": [
    {
     "name": "stderr",
     "output_type": "stream",
     "text": [
      "GPU available: True (cuda), used: True\n",
      "TPU available: False, using: 0 TPU cores\n",
      "IPU available: False, using: 0 IPUs\n",
      "HPU available: False, using: 0 HPUs\n",
      "LOCAL_RANK: 0 - CUDA_VISIBLE_DEVICES: [0]\n",
      "`Trainer.fit` stopped: `max_epochs=10` reached.\n",
      "GPU available: True (cuda), used: True\n",
      "TPU available: False, using: 0 TPU cores\n",
      "IPU available: False, using: 0 IPUs\n",
      "HPU available: False, using: 0 HPUs\n",
      "LOCAL_RANK: 0 - CUDA_VISIBLE_DEVICES: [0]\n",
      "`Trainer.fit` stopped: `max_epochs=10` reached.\n"
     ]
    },
    {
     "name": "stdout",
     "output_type": "stream",
     "text": [
      "0.732 & 0.725\n"
     ]
    },
    {
     "name": "stderr",
     "output_type": "stream",
     "text": [
      "GPU available: True (cuda), used: True\n",
      "TPU available: False, using: 0 TPU cores\n",
      "IPU available: False, using: 0 IPUs\n",
      "HPU available: False, using: 0 HPUs\n",
      "LOCAL_RANK: 0 - CUDA_VISIBLE_DEVICES: [0]\n",
      "`Trainer.fit` stopped: `max_epochs=10` reached.\n",
      "GPU available: True (cuda), used: True\n",
      "TPU available: False, using: 0 TPU cores\n",
      "IPU available: False, using: 0 IPUs\n",
      "HPU available: False, using: 0 HPUs\n",
      "LOCAL_RANK: 0 - CUDA_VISIBLE_DEVICES: [0]\n",
      "`Trainer.fit` stopped: `max_epochs=10` reached.\n",
      "GPU available: True (cuda), used: True\n",
      "TPU available: False, using: 0 TPU cores\n",
      "IPU available: False, using: 0 IPUs\n",
      "HPU available: False, using: 0 HPUs\n",
      "LOCAL_RANK: 0 - CUDA_VISIBLE_DEVICES: [0]\n"
     ]
    },
    {
     "name": "stdout",
     "output_type": "stream",
     "text": [
      "0.780 & 0.776\n"
     ]
    },
    {
     "name": "stderr",
     "output_type": "stream",
     "text": [
      "`Trainer.fit` stopped: `max_epochs=10` reached.\n",
      "GPU available: True (cuda), used: True\n",
      "TPU available: False, using: 0 TPU cores\n",
      "IPU available: False, using: 0 IPUs\n",
      "HPU available: False, using: 0 HPUs\n",
      "LOCAL_RANK: 0 - CUDA_VISIBLE_DEVICES: [0]\n",
      "`Trainer.fit` stopped: `max_epochs=10` reached.\n",
      "GPU available: True (cuda), used: True\n",
      "TPU available: False, using: 0 TPU cores\n",
      "IPU available: False, using: 0 IPUs\n",
      "HPU available: False, using: 0 HPUs\n"
     ]
    },
    {
     "name": "stdout",
     "output_type": "stream",
     "text": [
      "0.694 & 0.686\n"
     ]
    },
    {
     "name": "stderr",
     "output_type": "stream",
     "text": [
      "LOCAL_RANK: 0 - CUDA_VISIBLE_DEVICES: [0]\n",
      "`Trainer.fit` stopped: `max_epochs=10` reached.\n",
      "GPU available: True (cuda), used: True\n",
      "TPU available: False, using: 0 TPU cores\n",
      "IPU available: False, using: 0 IPUs\n",
      "HPU available: False, using: 0 HPUs\n",
      "LOCAL_RANK: 0 - CUDA_VISIBLE_DEVICES: [0]\n",
      "`Trainer.fit` stopped: `max_epochs=10` reached.\n",
      "GPU available: True (cuda), used: True\n",
      "TPU available: False, using: 0 TPU cores\n",
      "IPU available: False, using: 0 IPUs\n",
      "HPU available: False, using: 0 HPUs\n",
      "LOCAL_RANK: 0 - CUDA_VISIBLE_DEVICES: [0]\n"
     ]
    },
    {
     "name": "stdout",
     "output_type": "stream",
     "text": [
      "0.740 & 0.721\n"
     ]
    },
    {
     "name": "stderr",
     "output_type": "stream",
     "text": [
      "`Trainer.fit` stopped: `max_epochs=10` reached.\n",
      "GPU available: True (cuda), used: True\n",
      "TPU available: False, using: 0 TPU cores\n",
      "IPU available: False, using: 0 IPUs\n",
      "HPU available: False, using: 0 HPUs\n",
      "LOCAL_RANK: 0 - CUDA_VISIBLE_DEVICES: [0]\n",
      "`Trainer.fit` stopped: `max_epochs=10` reached.\n"
     ]
    },
    {
     "name": "stdout",
     "output_type": "stream",
     "text": [
      "0.843 & 0.837\n"
     ]
    },
    {
     "name": "stderr",
     "output_type": "stream",
     "text": [
      "GPU available: True (cuda), used: True\n",
      "TPU available: False, using: 0 TPU cores\n",
      "IPU available: False, using: 0 IPUs\n",
      "HPU available: False, using: 0 HPUs\n",
      "LOCAL_RANK: 0 - CUDA_VISIBLE_DEVICES: [0]\n",
      "`Trainer.fit` stopped: `max_epochs=10` reached.\n",
      "GPU available: True (cuda), used: True\n",
      "TPU available: False, using: 0 TPU cores\n",
      "IPU available: False, using: 0 IPUs\n",
      "HPU available: False, using: 0 HPUs\n",
      "LOCAL_RANK: 0 - CUDA_VISIBLE_DEVICES: [0]\n",
      "`Trainer.fit` stopped: `max_epochs=10` reached.\n",
      "GPU available: True (cuda), used: True\n",
      "TPU available: False, using: 0 TPU cores\n",
      "IPU available: False, using: 0 IPUs\n",
      "HPU available: False, using: 0 HPUs\n"
     ]
    },
    {
     "name": "stdout",
     "output_type": "stream",
     "text": [
      "0.752 & 0.749\n"
     ]
    },
    {
     "name": "stderr",
     "output_type": "stream",
     "text": [
      "LOCAL_RANK: 0 - CUDA_VISIBLE_DEVICES: [0]\n",
      "`Trainer.fit` stopped: `max_epochs=10` reached.\n",
      "GPU available: True (cuda), used: True\n",
      "TPU available: False, using: 0 TPU cores\n",
      "IPU available: False, using: 0 IPUs\n",
      "HPU available: False, using: 0 HPUs\n",
      "LOCAL_RANK: 0 - CUDA_VISIBLE_DEVICES: [0]\n",
      "`Trainer.fit` stopped: `max_epochs=10` reached.\n",
      "GPU available: True (cuda), used: True\n",
      "TPU available: False, using: 0 TPU cores\n",
      "IPU available: False, using: 0 IPUs\n",
      "HPU available: False, using: 0 HPUs\n",
      "LOCAL_RANK: 0 - CUDA_VISIBLE_DEVICES: [0]\n"
     ]
    },
    {
     "name": "stdout",
     "output_type": "stream",
     "text": [
      "0.701 & 0.705\n"
     ]
    },
    {
     "name": "stderr",
     "output_type": "stream",
     "text": [
      "`Trainer.fit` stopped: `max_epochs=10` reached.\n",
      "GPU available: True (cuda), used: True\n",
      "TPU available: False, using: 0 TPU cores\n",
      "IPU available: False, using: 0 IPUs\n",
      "HPU available: False, using: 0 HPUs\n",
      "LOCAL_RANK: 0 - CUDA_VISIBLE_DEVICES: [0]\n",
      "`Trainer.fit` stopped: `max_epochs=10` reached.\n"
     ]
    },
    {
     "name": "stdout",
     "output_type": "stream",
     "text": [
      "0.749 & 0.735\n"
     ]
    },
    {
     "name": "stderr",
     "output_type": "stream",
     "text": [
      "GPU available: True (cuda), used: True\n",
      "TPU available: False, using: 0 TPU cores\n",
      "IPU available: False, using: 0 IPUs\n",
      "HPU available: False, using: 0 HPUs\n",
      "LOCAL_RANK: 0 - CUDA_VISIBLE_DEVICES: [0]\n",
      "`Trainer.fit` stopped: `max_epochs=10` reached.\n",
      "GPU available: True (cuda), used: True\n",
      "TPU available: False, using: 0 TPU cores\n",
      "IPU available: False, using: 0 IPUs\n",
      "HPU available: False, using: 0 HPUs\n",
      "LOCAL_RANK: 0 - CUDA_VISIBLE_DEVICES: [0]\n",
      "`Trainer.fit` stopped: `max_epochs=10` reached.\n",
      "GPU available: True (cuda), used: True\n",
      "TPU available: False, using: 0 TPU cores\n",
      "IPU available: False, using: 0 IPUs\n",
      "HPU available: False, using: 0 HPUs\n",
      "LOCAL_RANK: 0 - CUDA_VISIBLE_DEVICES: [0]\n"
     ]
    },
    {
     "name": "stdout",
     "output_type": "stream",
     "text": [
      "0.844 & 0.829\n"
     ]
    },
    {
     "name": "stderr",
     "output_type": "stream",
     "text": [
      "`Trainer.fit` stopped: `max_epochs=10` reached.\n",
      "GPU available: True (cuda), used: True\n",
      "TPU available: False, using: 0 TPU cores\n",
      "IPU available: False, using: 0 IPUs\n",
      "HPU available: False, using: 0 HPUs\n",
      "LOCAL_RANK: 0 - CUDA_VISIBLE_DEVICES: [0]\n",
      "`Trainer.fit` stopped: `max_epochs=10` reached.\n",
      "GPU available: True (cuda), used: True\n",
      "TPU available: False, using: 0 TPU cores\n",
      "IPU available: False, using: 0 IPUs\n",
      "HPU available: False, using: 0 HPUs\n",
      "LOCAL_RANK: 0 - CUDA_VISIBLE_DEVICES: [0]\n"
     ]
    },
    {
     "name": "stdout",
     "output_type": "stream",
     "text": [
      "0.871 & 0.859\n"
     ]
    },
    {
     "name": "stderr",
     "output_type": "stream",
     "text": [
      "`Trainer.fit` stopped: `max_epochs=10` reached.\n",
      "GPU available: True (cuda), used: True\n",
      "TPU available: False, using: 0 TPU cores\n",
      "IPU available: False, using: 0 IPUs\n",
      "HPU available: False, using: 0 HPUs\n",
      "LOCAL_RANK: 0 - CUDA_VISIBLE_DEVICES: [0]\n",
      "`Trainer.fit` stopped: `max_epochs=10` reached.\n",
      "GPU available: True (cuda), used: True\n",
      "TPU available: False, using: 0 TPU cores\n",
      "IPU available: False, using: 0 IPUs\n",
      "HPU available: False, using: 0 HPUs\n",
      "LOCAL_RANK: 0 - CUDA_VISIBLE_DEVICES: [0]\n"
     ]
    },
    {
     "name": "stdout",
     "output_type": "stream",
     "text": [
      "0.896 & 0.867\n"
     ]
    },
    {
     "name": "stderr",
     "output_type": "stream",
     "text": [
      "`Trainer.fit` stopped: `max_epochs=10` reached.\n",
      "GPU available: True (cuda), used: True\n",
      "TPU available: False, using: 0 TPU cores\n",
      "IPU available: False, using: 0 IPUs\n",
      "HPU available: False, using: 0 HPUs\n",
      "LOCAL_RANK: 0 - CUDA_VISIBLE_DEVICES: [0]\n",
      "`Trainer.fit` stopped: `max_epochs=10` reached.\n",
      "GPU available: True (cuda), used: True\n",
      "TPU available: False, using: 0 TPU cores\n",
      "IPU available: False, using: 0 IPUs\n",
      "HPU available: False, using: 0 HPUs\n"
     ]
    },
    {
     "name": "stdout",
     "output_type": "stream",
     "text": [
      "0.747 & 0.732\n"
     ]
    },
    {
     "name": "stderr",
     "output_type": "stream",
     "text": [
      "LOCAL_RANK: 0 - CUDA_VISIBLE_DEVICES: [0]\n",
      "`Trainer.fit` stopped: `max_epochs=10` reached.\n",
      "GPU available: True (cuda), used: True\n",
      "TPU available: False, using: 0 TPU cores\n",
      "IPU available: False, using: 0 IPUs\n",
      "HPU available: False, using: 0 HPUs\n",
      "LOCAL_RANK: 0 - CUDA_VISIBLE_DEVICES: [0]\n",
      "`Trainer.fit` stopped: `max_epochs=10` reached.\n",
      "GPU available: True (cuda), used: True\n",
      "TPU available: False, using: 0 TPU cores\n",
      "IPU available: False, using: 0 IPUs\n",
      "HPU available: False, using: 0 HPUs\n",
      "LOCAL_RANK: 0 - CUDA_VISIBLE_DEVICES: [0]\n"
     ]
    },
    {
     "name": "stdout",
     "output_type": "stream",
     "text": [
      "0.908 & 0.905\n"
     ]
    },
    {
     "name": "stderr",
     "output_type": "stream",
     "text": [
      "`Trainer.fit` stopped: `max_epochs=10` reached.\n",
      "GPU available: True (cuda), used: True\n",
      "TPU available: False, using: 0 TPU cores\n",
      "IPU available: False, using: 0 IPUs\n",
      "HPU available: False, using: 0 HPUs\n",
      "LOCAL_RANK: 0 - CUDA_VISIBLE_DEVICES: [0]\n",
      "`Trainer.fit` stopped: `max_epochs=10` reached.\n"
     ]
    },
    {
     "name": "stdout",
     "output_type": "stream",
     "text": [
      "0.801 & 0.772\n"
     ]
    }
   ],
   "source": [
    "ms = []\n",
    "for disease in Disease:\n",
    "    m = evaluator.get_classifier_metrics(response=disease, clf_args={'max_epochs': 10})\n",
    "    ms.append(m)"
   ],
   "metadata": {
    "collapsed": false,
    "ExecuteTime": {
     "end_time": "2023-08-29T14:23:34.953543064Z",
     "start_time": "2023-08-29T14:04:26.269118425Z"
    }
   }
  },
  {
   "cell_type": "code",
   "execution_count": 5,
   "outputs": [
    {
     "name": "stdout",
     "output_type": "stream",
     "text": [
      "Disease.ENLARGED_CARDIOMEDIASTINUM \t 0.732 & 0.725\n",
      "Disease.CARDIOMEGALY \t 0.780 & 0.776\n",
      "Disease.LUNG_OPACITY \t 0.694 & 0.686\n",
      "Disease.LUNG_LESION \t 0.740 & 0.721\n",
      "Disease.EDEMA \t 0.843 & 0.837\n",
      "Disease.CONSOLIDATION \t 0.752 & 0.749\n",
      "Disease.PNEUMONIA \t 0.701 & 0.705\n",
      "Disease.ATELECTASIS \t 0.749 & 0.735\n",
      "Disease.PNEUMOTHORAX \t 0.844 & 0.829\n",
      "Disease.PLEURAL_EFFUSION \t 0.871 & 0.859\n",
      "Disease.PLEURAL_OTHER \t 0.896 & 0.867\n",
      "Disease.FRACTURE \t 0.747 & 0.732\n",
      "Disease.SUPPORT_DEVICES \t 0.908 & 0.905\n",
      "Disease.NO_FINDING \t 0.801 & 0.772\n"
     ]
    }
   ],
   "source": [
    "for m, disease in zip(ms, Disease):\n",
    "   print(disease, '\\t', m)"
   ],
   "metadata": {
    "collapsed": false,
    "ExecuteTime": {
<<<<<<< HEAD
     "end_time": "2023-08-29T14:23:35.159704934Z",
     "start_time": "2023-08-29T14:23:34.949987333Z"
=======
     "end_time": "2023-07-31T13:23:49.920280586Z",
     "start_time": "2023-07-31T13:23:17.465953556Z"
>>>>>>> refs/remotes/origin/main
    }
   }
  },
  {
   "cell_type": "markdown",
   "source": [
    "### WithOUT Orthogonalization"
   ],
   "metadata": {
    "collapsed": false
   }
  },
  {
   "cell_type": "code",
   "execution_count": 4,
<<<<<<< HEAD
=======
   "outputs": [],
   "source": [
    "# Follow U-zeros strategy for now\n",
    "train_df['response'] = (train_df[TARGET_DISEASE] == 1).astype(int)\n",
    "test_df['response'] = (test_df[TARGET_DISEASE] == 1).astype(int)"
   ],
   "metadata": {
    "collapsed": false,
    "ExecuteTime": {
     "end_time": "2023-07-31T13:23:50.033758531Z",
     "start_time": "2023-07-31T13:23:49.925203637Z"
    }
   }
  },
  {
   "cell_type": "markdown",
   "source": [
    "## Train Base Classifier"
   ],
   "metadata": {
    "collapsed": false
   }
  },
  {
   "cell_type": "code",
   "execution_count": 5,
   "outputs": [],
   "source": [
    "from src.utils import eval_predictions\n",
    "from src.classifier import get_classifier\n",
    "\n",
    "def eval_classifier(x_train, train_df, x_test, test_df):\n",
    "    model = get_classifier('nn')\n",
    "    model.fit(x_train, train_df['response'].tolist())\n",
    "    \n",
    "    train_df['preds'] = model.predict_proba(x_train)[:, 1]\n",
    "    test_df['preds'] = model.predict_proba(x_test)[:, 1]\n",
    "    \n",
    "    print('-'*75 + '\\nTRAINING')\n",
    "    eval_predictions(train_df['response'], train_df['preds'])\n",
    "    print('-'*75 + '\\nTESTING')\n",
    "    eval_predictions(test_df['response'], test_df['preds'])"
   ],
   "metadata": {
    "collapsed": false,
    "ExecuteTime": {
     "end_time": "2023-07-31T13:23:51.550892531Z",
     "start_time": "2023-07-31T13:23:49.991961001Z"
    }
   }
  },
  {
   "cell_type": "code",
   "execution_count": 6,
   "outputs": [
    {
     "name": "stderr",
     "output_type": "stream",
     "text": [
      "/home/tobias/Projects/chexray-ortho/.venv/lib/python3.11/site-packages/torch/nn/modules/lazy.py:180: UserWarning: Lazy modules are a new feature under heavy development so changes to the API or functionality can happen at any moment.\n",
      "  warnings.warn('Lazy modules are a new feature under heavy development '\n",
      "GPU available: False, used: False\n",
      "TPU available: False, using: 0 TPU cores\n",
      "IPU available: False, using: 0 IPUs\n",
      "HPU available: False, using: 0 HPUs\n"
     ]
    },
    {
     "data": {
      "text/plain": "Training: 0it [00:00, ?it/s]",
      "application/vnd.jupyter.widget-view+json": {
       "version_major": 2,
       "version_minor": 0,
       "model_id": "f47662926cbf4de885b9c218778b9e5e"
      }
     },
     "metadata": {},
     "output_type": "display_data"
    },
    {
     "name": "stderr",
     "output_type": "stream",
     "text": [
      "`Trainer.fit` stopped: `max_epochs=3` reached.\n"
     ]
    },
    {
     "name": "stdout",
     "output_type": "stream",
     "text": [
      "---------------------------------------------------------------------------\n",
      "TRAINING\n",
      "METRICS:\tAUC 0.9016 | ACC 0.8461 | SENS 0.6817 | SPEC 0.9017 | PREC 0.7014 | F1 0.6914\n",
      "---------------------------------------------------------------------------\n",
      "TESTING\n",
      "METRICS:\tAUC 0.8691 | ACC 0.7988 | SENS 0.6865 | SPEC 0.8531 | PREC 0.6935 | F1 0.6900\n"
     ]
    }
   ],
   "source": [
    "eval_classifier(\n",
    "    train_emb, train_df, test_emb, test_df\n",
    ")"
   ],
   "metadata": {
    "collapsed": false,
    "ExecuteTime": {
     "end_time": "2023-07-31T13:24:12.289256448Z",
     "start_time": "2023-07-31T13:23:51.551131895Z"
    }
   }
  },
  {
   "cell_type": "markdown",
   "source": [
    "## Explain Predictions with Protected Features"
   ],
   "metadata": {
    "collapsed": false
   }
  },
  {
   "cell_type": "code",
   "execution_count": 7,
   "outputs": [
    {
     "name": "stdout",
     "output_type": "stream",
     "text": [
      "                            OLS Regression Results                            \n",
      "==============================================================================\n",
      "Dep. Variable:                  preds   R-squared:                       0.068\n",
      "Model:                            OLS   Adj. R-squared:                  0.068\n",
      "Method:                 Least Squares   F-statistic:                     3290.\n",
      "Date:                Mon, 31 Jul 2023   Prob (F-statistic):               0.00\n",
      "Time:                        15:24:13   Log-Likelihood:                -23799.\n",
      "No. Observations:              181342   AIC:                         4.761e+04\n",
      "Df Residuals:                  181337   BIC:                         4.766e+04\n",
      "Df Model:                           4                                         \n",
      "Covariance Type:            nonrobust                                         \n",
      "=================================================================================\n",
      "                    coef    std err          t      P>|t|      [0.025      0.975]\n",
      "---------------------------------------------------------------------------------\n",
      "Intercept         0.0623      0.004     14.873      0.000       0.054       0.071\n",
      "sex[T.M]          0.0116      0.001      8.868      0.000       0.009       0.014\n",
      "race[T.BLACK]    -0.0852      0.004    -23.462      0.000      -0.092      -0.078\n",
      "race[T.WHITE]    -0.0129      0.003     -3.812      0.000      -0.020      -0.006\n",
      "age               0.3874      0.004     98.131      0.000       0.380       0.395\n",
      "==============================================================================\n",
      "Omnibus:                    19767.623   Durbin-Watson:                   0.929\n",
      "Prob(Omnibus):                  0.000   Jarque-Bera (JB):            24379.917\n",
      "Skew:                           0.871   Prob(JB):                         0.00\n",
      "Kurtosis:                       2.563   Cond. No.                         14.8\n",
      "==============================================================================\n",
      "\n",
      "Notes:\n",
      "[1] Standard Errors assume that the covariance matrix of the errors is correctly specified.\n",
      "                df        sum_sq     mean_sq            F        PR(>F)\n",
      "sex            1.0     11.215833   11.215833   147.332848  6.841243e-34\n",
      "race           2.0    257.412362  128.706181  1690.703571  0.000000e+00\n",
      "age            1.0    733.074251  733.074251  9629.772612  0.000000e+00\n",
      "Residual  181337.0  13804.426217    0.076126          NaN           NaN\n"
     ]
    }
   ],
   "source": [
    "formula = 'preds ~ 1 + age + sex + race'\n",
    "mod = sm.OLS.from_formula(formula, data=train_df).fit()\n",
    "print(mod.summary())\n",
    "print(sm.stats.anova_lm(mod))"
   ],
   "metadata": {
    "collapsed": false,
    "ExecuteTime": {
     "end_time": "2023-07-31T13:24:13.511629090Z",
     "start_time": "2023-07-31T13:24:12.267856401Z"
    }
   }
  },
  {
   "cell_type": "markdown",
   "source": [
    "## Remove Protected Features from Result Prediction\n",
    "\n",
    "Residuals = part of predictions that can't be explained by protected features"
   ],
   "metadata": {
    "collapsed": false
   }
  },
  {
   "cell_type": "code",
   "execution_count": 8,
   "outputs": [
    {
     "name": "stdout",
     "output_type": "stream",
     "text": [
      "                            OLS Regression Results                            \n",
      "==============================================================================\n",
      "Dep. Variable:         preds_adjusted   R-squared:                      -0.000\n",
      "Model:                            OLS   Adj. R-squared:                 -0.000\n",
      "Method:                 Least Squares   F-statistic:                -5.974e-12\n",
      "Date:                Mon, 31 Jul 2023   Prob (F-statistic):               1.00\n",
      "Time:                        15:24:14   Log-Likelihood:                -23799.\n",
      "No. Observations:              181342   AIC:                         4.761e+04\n",
      "Df Residuals:                  181337   BIC:                         4.766e+04\n",
      "Df Model:                           4                                         \n",
      "Covariance Type:            nonrobust                                         \n",
      "=================================================================================\n",
      "                    coef    std err          t      P>|t|      [0.025      0.975]\n",
      "---------------------------------------------------------------------------------\n",
      "Intercept      2.969e-16      0.004   7.09e-14      1.000      -0.008       0.008\n",
      "sex[T.M]      -2.765e-17      0.001  -2.11e-14      1.000      -0.003       0.003\n",
      "race[T.BLACK] -1.733e-16      0.004  -4.77e-14      1.000      -0.007       0.007\n",
      "race[T.WHITE] -4.709e-17      0.003  -1.39e-14      1.000      -0.007       0.007\n",
      "age           -2.947e-16      0.004  -7.46e-14      1.000      -0.008       0.008\n",
      "==============================================================================\n",
      "Omnibus:                    19767.623   Durbin-Watson:                   0.929\n",
      "Prob(Omnibus):                  0.000   Jarque-Bera (JB):            24379.917\n",
      "Skew:                           0.871   Prob(JB):                         0.00\n",
      "Kurtosis:                       2.563   Cond. No.                         14.8\n",
      "==============================================================================\n",
      "\n",
      "Notes:\n",
      "[1] Standard Errors assume that the covariance matrix of the errors is correctly specified.\n"
     ]
    }
   ],
   "source": [
    "train_df['preds_adjusted'] = mod.resid\n",
    "\n",
    "# Check: p-vals should all be one\n",
    "formula = 'preds_adjusted ~ 1 + age + sex + race'\n",
    "mod_check = sm.OLS.from_formula(formula, data=train_df).fit()\n",
    "print(mod_check.summary())"
   ],
   "metadata": {
    "collapsed": false,
    "ExecuteTime": {
     "end_time": "2023-07-31T13:24:14.910578344Z",
     "start_time": "2023-07-31T13:24:13.511368202Z"
    }
   }
  },
  {
   "cell_type": "markdown",
   "source": [
    "## Adjust Embedding"
   ],
   "metadata": {
    "collapsed": false
   }
  },
  {
   "cell_type": "code",
   "execution_count": 9,
   "outputs": [
    {
     "name": "stdout",
     "output_type": "stream",
     "text": [
      "(181342, 5)\n"
     ]
    }
   ],
   "source": [
    "# Create the design matrix\n",
    "formula = '1 ~ age + sex + race'\n",
    "_, x_train = dmatrices(formula, data=train_df)\n",
    "_, x_test = dmatrices(formula, data=test_df)\n",
    "\n",
    "print(x_train.shape)"
   ],
   "metadata": {
    "collapsed": false,
    "ExecuteTime": {
     "end_time": "2023-07-31T13:24:16.415479329Z",
     "start_time": "2023-07-31T13:24:14.896023137Z"
    }
   }
  },
  {
   "cell_type": "code",
   "execution_count": 10,
   "outputs": [],
   "source": [
    "from src.ortho import Orthogonalizator\n",
    "\n",
    "ortho = Orthogonalizator()\n",
    "train_emb_proj = ortho.fit_transform(x_train, train_emb)\n",
    "test_emb_proj = ortho.transform(x_test, test_emb)"
   ],
   "metadata": {
    "collapsed": false,
    "ExecuteTime": {
     "end_time": "2023-07-31T13:24:17.097802230Z",
     "start_time": "2023-07-31T13:24:16.419232694Z"
    }
   }
  },
  {
   "cell_type": "markdown",
   "source": [
    "## Check classifier performance on adjusted embedding"
   ],
   "metadata": {
    "collapsed": false
   }
  },
  {
   "cell_type": "code",
   "execution_count": 18,
   "outputs": [
    {
     "name": "stderr",
     "output_type": "stream",
     "text": [
      "/home/tobias/Projects/chexray-ortho/.venv/lib/python3.11/site-packages/torch/nn/modules/lazy.py:180: UserWarning: Lazy modules are a new feature under heavy development so changes to the API or functionality can happen at any moment.\n",
      "  warnings.warn('Lazy modules are a new feature under heavy development '\n",
      "GPU available: False, used: False\n",
      "TPU available: False, using: 0 TPU cores\n",
      "IPU available: False, using: 0 IPUs\n",
      "HPU available: False, using: 0 HPUs\n"
     ]
    },
    {
     "data": {
      "text/plain": "Training: 0it [00:00, ?it/s]",
      "application/vnd.jupyter.widget-view+json": {
       "version_major": 2,
       "version_minor": 0,
       "model_id": "842b4e98f863420c9e361a10c044a902"
      }
     },
     "metadata": {},
     "output_type": "display_data"
    },
    {
     "name": "stderr",
     "output_type": "stream",
     "text": [
      "`Trainer.fit` stopped: `max_epochs=3` reached.\n"
     ]
    },
    {
     "name": "stdout",
     "output_type": "stream",
     "text": [
      "---------------------------------------------------------------------------\n",
      "TRAINING\n",
      "METRICS:\tAUC 0.5007 | ACC 0.5329 | SENS 0.9731 | SPEC 0.0224 | PREC 0.5358 | F1 0.6911\n",
      "---------------------------------------------------------------------------\n",
      "TESTING\n",
      "METRICS:\tAUC 0.4696 | ACC 0.5465 | SENS 0.8655 | SPEC 0.1641 | PREC 0.5538 | F1 0.6755\n"
     ]
    }
   ],
   "source": [
    "eval_classifier(\n",
    "    train_emb_proj, train_df, test_emb_proj, test_df\n",
    ")"
   ],
   "metadata": {
    "collapsed": false,
    "ExecuteTime": {
     "end_time": "2023-07-31T13:55:55.059756251Z",
     "start_time": "2023-07-31T13:55:41.536902783Z"
    }
   }
  },
  {
   "cell_type": "code",
   "execution_count": 19,
   "outputs": [
    {
     "name": "stdout",
     "output_type": "stream",
     "text": [
      "                            OLS Regression Results                            \n",
      "==============================================================================\n",
      "Dep. Variable:                  preds   R-squared:                       0.000\n",
      "Model:                            OLS   Adj. R-squared:                 -0.000\n",
      "Method:                 Least Squares   F-statistic:                 0.0005923\n",
      "Date:                Mon, 31 Jul 2023   Prob (F-statistic):               1.00\n",
      "Time:                        15:55:59   Log-Likelihood:             4.6828e+05\n",
      "No. Observations:              181342   AIC:                        -9.366e+05\n",
      "Df Residuals:                  181337   BIC:                        -9.365e+05\n",
      "Df Model:                           4                                         \n",
      "Covariance Type:            nonrobust                                         \n",
      "=================================================================================\n",
      "                    coef    std err          t      P>|t|      [0.025      0.975]\n",
      "---------------------------------------------------------------------------------\n",
      "Intercept         0.5373      0.000   1934.288      0.000       0.537       0.538\n",
      "sex[T.M]       -3.59e-06   8.68e-05     -0.041      0.967      -0.000       0.000\n",
      "race[T.BLACK] -3.712e-06      0.000     -0.015      0.988      -0.000       0.000\n",
      "race[T.WHITE] -4.815e-06      0.000     -0.021      0.983      -0.000       0.000\n",
      "age           -1.075e-06      0.000     -0.004      0.997      -0.001       0.001\n",
      "==============================================================================\n",
      "Omnibus:                      897.362   Durbin-Watson:                   1.330\n",
      "Prob(Omnibus):                  0.000   Jarque-Bera (JB):              912.347\n",
      "Skew:                          -0.170   Prob(JB):                    7.70e-199\n",
      "Kurtosis:                       3.074   Cond. No.                         14.8\n",
      "==============================================================================\n",
      "\n",
      "Notes:\n",
      "[1] Standard Errors assume that the covariance matrix of the errors is correctly specified.\n",
      "                df        sum_sq       mean_sq         F    PR(>F)\n",
      "sex            1.0  6.075118e-07  6.075118e-07  0.001815  0.966014\n",
      "race           2.0  1.797207e-07  8.986034e-08  0.000269  0.999732\n",
      "age            1.0  5.639901e-09  5.639901e-09  0.000017  0.996724\n",
      "Residual  181337.0  6.068181e+01  3.346356e-04       NaN       NaN\n"
     ]
    }
   ],
   "source": [
    "formula = 'preds ~ 1 + age + sex + race'\n",
    "mod_fixed = sm.OLS.from_formula(formula, data=train_df).fit()\n",
    "print(mod_fixed.summary())\n",
    "print(sm.stats.anova_lm(mod_fixed))"
   ],
   "metadata": {
    "collapsed": false,
    "ExecuteTime": {
     "end_time": "2023-07-31T13:55:59.983203335Z",
     "start_time": "2023-07-31T13:55:58.951173939Z"
    }
   }
  },
  {
   "cell_type": "markdown",
   "source": [
    "## Add Protected Features to classifier"
   ],
   "metadata": {
    "collapsed": false
   }
  },
  {
   "cell_type": "code",
   "execution_count": 13,
   "outputs": [
    {
     "name": "stderr",
     "output_type": "stream",
     "text": [
      "/home/tobias/Projects/chexray-ortho/.venv/lib/python3.11/site-packages/torch/nn/modules/lazy.py:180: UserWarning: Lazy modules are a new feature under heavy development so changes to the API or functionality can happen at any moment.\n",
      "  warnings.warn('Lazy modules are a new feature under heavy development '\n",
      "GPU available: False, used: False\n",
      "TPU available: False, using: 0 TPU cores\n",
      "IPU available: False, using: 0 IPUs\n",
      "HPU available: False, using: 0 HPUs\n"
     ]
    },
    {
     "data": {
      "text/plain": "Training: 0it [00:00, ?it/s]",
      "application/vnd.jupyter.widget-view+json": {
       "version_major": 2,
       "version_minor": 0,
       "model_id": "9cfc5508f8c346d2ad1cc87567dd3776"
      }
     },
     "metadata": {},
     "output_type": "display_data"
    },
    {
     "name": "stderr",
     "output_type": "stream",
     "text": [
      "`Trainer.fit` stopped: `max_epochs=3` reached.\n"
     ]
    },
    {
     "name": "stdout",
     "output_type": "stream",
     "text": [
      "---------------------------------------------------------------------------\n",
      "TRAINING\n",
      "METRICS:\tAUC 0.8901 | ACC 0.8408 | SENS 0.6186 | SPEC 0.9161 | PREC 0.7140 | F1 0.6629\n",
      "---------------------------------------------------------------------------\n",
      "TESTING\n",
      "METRICS:\tAUC 0.7405 | ACC 0.6968 | SENS 0.6179 | SPEC 0.7350 | PREC 0.5303 | F1 0.5708\n"
     ]
    }
   ],
   "source": [
    "train_mat = np.concatenate([train_emb_proj, x_train], axis=1)\n",
    "test_mat = np.concatenate([test_emb_proj, x_test], axis=1)\n",
    "\n",
    "eval_classifier(\n",
    "    train_mat, train_df, test_mat, test_df\n",
    ")"
   ],
   "metadata": {
    "collapsed": false,
    "ExecuteTime": {
     "end_time": "2023-07-31T13:24:58.001610348Z",
     "start_time": "2023-07-31T13:24:38.541232467Z"
    }
   }
  },
  {
   "cell_type": "markdown",
   "source": [
    "## Classify protected features"
   ],
   "metadata": {
    "collapsed": false
   }
  },
  {
   "cell_type": "code",
   "execution_count": 14,
>>>>>>> refs/remotes/origin/main
   "outputs": [
    {
     "name": "stderr",
     "output_type": "stream",
     "text": [
      "/home/tobias/Projects/chexray-ortho/.venv/lib/python3.11/site-packages/torch/nn/modules/lazy.py:180: UserWarning: Lazy modules are a new feature under heavy development so changes to the API or functionality can happen at any moment.\n",
      "  warnings.warn('Lazy modules are a new feature under heavy development '\n",
      "GPU available: False, used: False\n",
      "TPU available: False, using: 0 TPU cores\n",
      "IPU available: False, using: 0 IPUs\n",
      "HPU available: False, using: 0 HPUs\n"
     ]
    },
    {
     "data": {
      "text/plain": "Training: 0it [00:00, ?it/s]",
      "application/vnd.jupyter.widget-view+json": {
       "version_major": 2,
       "version_minor": 0,
<<<<<<< HEAD
       "model_id": "70da4602e9b1400da2f3c20c62306743"
=======
       "model_id": "a422740da6334c188cb7fd3756d7d5ff"
>>>>>>> refs/remotes/origin/main
      }
     },
     "metadata": {},
     "output_type": "display_data"
    },
    {
     "name": "stderr",
     "output_type": "stream",
     "text": [
      "`Trainer.fit` stopped: `max_epochs=3` reached.\n"
     ]
    },
    {
     "name": "stdout",
     "output_type": "stream",
     "text": [
      "---------------------------------------------------------------------------\n",
      "TRAINING\n",
<<<<<<< HEAD
      "METRICS:\tAUC 0.9051 | ACC 0.8402 | SENS 0.5167 | SPEC 0.9497 | PREC 0.7769 | F1 0.6206\n",
      "---------------------------------------------------------------------------\n",
      "TESTING\n",
      "METRICS:\tAUC 0.8697 | ACC 0.7945 | SENS 0.5292 | SPEC 0.9229 | PREC 0.7687 | F1 0.6269\n",
      "---------------------------------------------------------------------------\n",
      "                            OLS Regression Results                            \n",
      "==============================================================================\n",
      "Dep. Variable:                 scores   R-squared:                       0.111\n",
      "Model:                            OLS   Adj. R-squared:                  0.111\n",
      "Method:                 Least Squares   F-statistic:                     5669.\n",
      "Date:                Tue, 29 Aug 2023   Prob (F-statistic):               0.00\n",
      "Time:                        11:11:15   Log-Likelihood:            -3.9389e+05\n",
      "No. Observations:              181342   AIC:                         7.878e+05\n",
      "Df Residuals:                  181337   BIC:                         7.878e+05\n",
      "Df Model:                           4                                         \n",
      "Covariance Type:            nonrobust                                         \n",
      "=================================================================================\n",
      "                    coef    std err          t      P>|t|      [0.025      0.975]\n",
      "---------------------------------------------------------------------------------\n",
      "Intercept        -4.8037      0.021   -234.016      0.000      -4.844      -4.763\n",
      "sex[T.F]         -0.1585      0.010    -15.726      0.000      -0.178      -0.139\n",
      "race[T.BLACK]    -0.6106      0.013    -46.667      0.000      -0.636      -0.585\n",
      "race[T.ASIAN]     0.0263      0.026      1.012      0.312      -0.025       0.077\n",
      "age               4.0536      0.030    133.400      0.000       3.994       4.113\n",
      "==============================================================================\n",
      "Omnibus:                     8393.166   Durbin-Watson:                   0.925\n",
      "Prob(Omnibus):                  0.000   Jarque-Bera (JB):             4186.887\n",
      "Skew:                           0.185   Prob(JB):                         0.00\n",
      "Kurtosis:                       2.354   Cond. No.                         9.47\n",
      "==============================================================================\n",
      "\n",
      "Notes:\n",
      "[1] Standard Errors assume that the covariance matrix of the errors is correctly specified.\n",
      "---------------------------------------------------------------------------\n",
      "ANOVA\n",
      "                df         sum_sq       mean_sq             F        PR(>F)\n",
      "sex            1.0    1596.568992   1596.568992    353.990785  6.814857e-79\n",
      "race           2.0   20406.701706  10203.350853   2262.283805  0.000000e+00\n",
      "age            1.0   80261.488902  80261.488902  17795.552570  0.000000e+00\n",
      "Residual  181337.0  817866.012074      4.510199           NaN           NaN\n"
=======
      "METRICS:\tAUC 0.9648 | ACC 0.9003 | SENS 0.9100 | SPEC 0.8891 | PREC 0.9049 | F1 0.9074\n",
      "---------------------------------------------------------------------------\n",
      "TESTING\n",
      "METRICS:\tAUC 0.9427 | ACC 0.8721 | SENS 0.8945 | SPEC 0.8453 | PREC 0.8739 | F1 0.8841\n"
     ]
    }
   ],
   "source": [
    "train_df['response'] = (train_df['sex'] == 'M').astype(int)\n",
    "test_df['response'] = (test_df['sex'] == 'M').astype(int)\n",
    "\n",
    "eval_classifier(\n",
    "    train_emb, train_df, test_emb, test_df\n",
    ")"
   ],
   "metadata": {
    "collapsed": false,
    "ExecuteTime": {
     "end_time": "2023-07-31T13:25:17.810739974Z",
     "start_time": "2023-07-31T13:24:58.002461795Z"
    }
   }
  },
  {
   "cell_type": "code",
   "execution_count": 15,
   "outputs": [
    {
     "name": "stderr",
     "output_type": "stream",
     "text": [
      "/home/tobias/Projects/chexray-ortho/.venv/lib/python3.11/site-packages/torch/nn/modules/lazy.py:180: UserWarning: Lazy modules are a new feature under heavy development so changes to the API or functionality can happen at any moment.\n",
      "  warnings.warn('Lazy modules are a new feature under heavy development '\n",
      "GPU available: False, used: False\n",
      "TPU available: False, using: 0 TPU cores\n",
      "IPU available: False, using: 0 IPUs\n",
      "HPU available: False, using: 0 HPUs\n"
     ]
    },
    {
     "data": {
      "text/plain": "Training: 0it [00:00, ?it/s]",
      "application/vnd.jupyter.widget-view+json": {
       "version_major": 2,
       "version_minor": 0,
       "model_id": "b63d2b994d914f8b92c48e2c6338c6b7"
      }
     },
     "metadata": {},
     "output_type": "display_data"
    },
    {
     "name": "stderr",
     "output_type": "stream",
     "text": [
      "`Trainer.fit` stopped: `max_epochs=3` reached.\n"
     ]
    },
    {
     "name": "stdout",
     "output_type": "stream",
     "text": [
      "---------------------------------------------------------------------------\n",
      "TRAINING\n",
      "METRICS:\tAUC 0.5005 | ACC 0.5301 | SENS 0.9404 | SPEC 0.0544 | PREC 0.5355 | F1 0.6824\n",
      "---------------------------------------------------------------------------\n",
      "TESTING\n",
      "METRICS:\tAUC 0.5975 | ACC 0.5587 | SENS 0.9499 | SPEC 0.0897 | PREC 0.5558 | F1 0.7012\n"
     ]
    }
   ],
   "source": [
    "eval_classifier(\n",
    "    train_emb_proj, train_df, test_emb_proj, test_df\n",
    ")"
   ],
   "metadata": {
    "collapsed": false,
    "ExecuteTime": {
     "end_time": "2023-07-31T13:25:35.943963264Z",
     "start_time": "2023-07-31T13:25:17.777049802Z"
    }
   }
  },
  {
   "cell_type": "code",
   "execution_count": 16,
   "outputs": [
    {
     "name": "stderr",
     "output_type": "stream",
     "text": [
      "/home/tobias/Projects/chexray-ortho/.venv/lib/python3.11/site-packages/torch/nn/modules/lazy.py:180: UserWarning: Lazy modules are a new feature under heavy development so changes to the API or functionality can happen at any moment.\n",
      "  warnings.warn('Lazy modules are a new feature under heavy development '\n",
      "GPU available: False, used: False\n",
      "TPU available: False, using: 0 TPU cores\n",
      "IPU available: False, using: 0 IPUs\n",
      "HPU available: False, using: 0 HPUs\n"
     ]
    },
    {
     "data": {
      "text/plain": "Training: 0it [00:00, ?it/s]",
      "application/vnd.jupyter.widget-view+json": {
       "version_major": 2,
       "version_minor": 0,
       "model_id": "e326cce2853642adbc95677f4962c066"
      }
     },
     "metadata": {},
     "output_type": "display_data"
    },
    {
     "name": "stderr",
     "output_type": "stream",
     "text": [
      "`Trainer.fit` stopped: `max_epochs=3` reached.\n"
     ]
    },
    {
     "name": "stdout",
     "output_type": "stream",
     "text": [
      "---------------------------------------------------------------------------\n",
      "TRAINING\n",
      "METRICS:\tAUC 0.9941 | ACC 0.9619 | SENS 0.9604 | SPEC 0.9637 | PREC 0.9684 | F1 0.9644\n",
      "---------------------------------------------------------------------------\n",
      "TESTING\n",
      "METRICS:\tAUC 0.0000 | ACC 0.0026 | SENS 0.0048 | SPEC 0.0000 | PREC 0.0058 | F1 0.0052\n"
>>>>>>> refs/remotes/origin/main
     ]
    }
   ],
   "source": [
    "evaluator.eval_classifier(response=TARGET_DISEASE, ortho=False)"
   ],
   "metadata": {
    "collapsed": false,
    "ExecuteTime": {
<<<<<<< HEAD
     "end_time": "2023-08-29T09:11:16.065454972Z",
     "start_time": "2023-08-29T09:10:56.721788970Z"
=======
     "end_time": "2023-07-31T13:26:16.381351516Z",
     "start_time": "2023-07-31T13:25:35.938656325Z"
>>>>>>> refs/remotes/origin/main
    }
   }
  },
  {
   "cell_type": "markdown",
   "source": [
    "### With Orthogonalization"
   ],
   "metadata": {
    "collapsed": false
   }
  },
  {
   "cell_type": "code",
   "execution_count": 5,
   "outputs": [
    {
     "name": "stderr",
     "output_type": "stream",
     "text": [
      "/home/tobias/Projects/chexray-ortho/.venv/lib/python3.11/site-packages/torch/nn/modules/lazy.py:180: UserWarning: Lazy modules are a new feature under heavy development so changes to the API or functionality can happen at any moment.\n",
      "  warnings.warn('Lazy modules are a new feature under heavy development '\n",
<<<<<<< HEAD
      "GPU available: True (cuda), used: True\n",
      "TPU available: False, using: 0 TPU cores\n",
      "IPU available: False, using: 0 IPUs\n",
      "HPU available: False, using: 0 HPUs\n",
      "LOCAL_RANK: 0 - CUDA_VISIBLE_DEVICES: [0]\n"
=======
      "GPU available: False, used: False\n",
      "TPU available: False, using: 0 TPU cores\n",
      "IPU available: False, using: 0 IPUs\n",
      "HPU available: False, using: 0 HPUs\n"
>>>>>>> refs/remotes/origin/main
     ]
    },
    {
     "data": {
      "text/plain": "Training: 0it [00:00, ?it/s]",
      "application/vnd.jupyter.widget-view+json": {
       "version_major": 2,
       "version_minor": 0,
<<<<<<< HEAD
       "model_id": "e72af1715ab9455287bcd0d6e2e4e371"
=======
       "model_id": "f5b5d49b97b24a8c8ddecc60cb7f3650"
>>>>>>> refs/remotes/origin/main
      }
     },
     "metadata": {},
     "output_type": "display_data"
    },
    {
     "name": "stderr",
     "output_type": "stream",
     "text": [
      "`Trainer.fit` stopped: `max_epochs=3` reached.\n"
     ]
    },
    {
     "name": "stdout",
     "output_type": "stream",
     "text": [
      "---------------------------------------------------------------------------\n",
      "TRAINING\n",
<<<<<<< HEAD
      "METRICS:\tAUC 0.8922 | ACC 0.8444 | SENS 0.6335 | SPEC 0.9159 | PREC 0.7183 | F1 0.6733\n",
      "---------------------------------------------------------------------------\n",
      "TESTING\n",
      "METRICS:\tAUC 0.8629 | ACC 0.7974 | SENS 0.6532 | SPEC 0.8673 | PREC 0.7043 | F1 0.6778\n",
      "---------------------------------------------------------------------------\n",
      "                            OLS Regression Results                            \n",
      "==============================================================================\n",
      "Dep. Variable:                 scores   R-squared:                      -0.000\n",
      "Model:                            OLS   Adj. R-squared:                 -0.000\n",
      "Method:                 Least Squares   F-statistic:                -1.026e-11\n",
      "Date:                Tue, 29 Aug 2023   Prob (F-statistic):               1.00\n",
      "Time:                        11:11:36   Log-Likelihood:            -3.5180e+05\n",
      "No. Observations:              181342   AIC:                         7.036e+05\n",
      "Df Residuals:                  181337   BIC:                         7.037e+05\n",
      "Df Model:                           4                                         \n",
      "Covariance Type:            nonrobust                                         \n",
      "=================================================================================\n",
      "                    coef    std err          t      P>|t|      [0.025      0.975]\n",
      "---------------------------------------------------------------------------------\n",
      "Intercept        -1.3568      0.016    -83.365      0.000      -1.389      -1.325\n",
      "sex[T.F]       1.236e-09      0.008   1.55e-07      1.000      -0.016       0.016\n",
      "race[T.BLACK] -2.877e-09      0.010  -2.77e-07      1.000      -0.020       0.020\n",
      "race[T.ASIAN]  4.035e-10      0.021   1.96e-08      1.000      -0.040       0.040\n",
      "age            3.828e-09      0.024   1.59e-07      1.000      -0.047       0.047\n",
      "==============================================================================\n",
      "Omnibus:                    10655.693   Durbin-Watson:                   0.951\n",
      "Prob(Omnibus):                  0.000   Jarque-Bera (JB):            12024.710\n",
      "Skew:                           0.612   Prob(JB):                         0.00\n",
      "Kurtosis:                       2.696   Cond. No.                         9.47\n",
      "==============================================================================\n",
      "\n",
      "Notes:\n",
      "[1] Standard Errors assume that the covariance matrix of the errors is correctly specified.\n",
      "---------------------------------------------------------------------------\n",
      "ANOVA\n",
      "                df        sum_sq       mean_sq             F  PR(>F)\n",
      "sex            1.0  4.454798e-14  4.454798e-14  1.571219e-14     1.0\n",
      "race           2.0  2.681591e-13  1.340795e-13  4.729021e-14     1.0\n",
      "age            1.0  7.156397e-14  7.156397e-14  2.524080e-14     1.0\n",
      "Residual  181337.0  5.141356e+05  2.835249e+00           NaN     NaN\n"
=======
      "METRICS:\tAUC 0.4977 | ACC 0.5369 | SENS 1.0000 | SPEC 0.0000 | PREC 0.5369 | F1 0.6987\n",
      "---------------------------------------------------------------------------\n",
      "TESTING\n",
      "METRICS:\tAUC 0.6046 | ACC 0.5478 | SENS 0.9891 | SPEC 0.0188 | PREC 0.5472 | F1 0.7046\n"
>>>>>>> refs/remotes/origin/main
     ]
    }
   ],
   "source": [
    "evaluator.eval_classifier(response=TARGET_DISEASE, ortho=True)"
   ],
   "metadata": {
    "collapsed": false,
    "ExecuteTime": {
<<<<<<< HEAD
     "end_time": "2023-08-29T09:11:36.321359660Z",
     "start_time": "2023-08-29T09:11:16.056421314Z"
=======
     "end_time": "2023-07-31T13:26:42.110338219Z",
     "start_time": "2023-07-31T13:26:16.381184769Z"
>>>>>>> refs/remotes/origin/main
    }
   }
  }
 ],
 "metadata": {
  "kernelspec": {
   "display_name": "Python 3 (ipykernel)",
   "language": "python",
   "name": "python3"
  },
  "language_info": {
   "codemirror_mode": {
    "name": "ipython",
    "version": 3
   },
   "file_extension": ".py",
   "mimetype": "text/x-python",
   "name": "python",
   "nbconvert_exporter": "python",
   "pygments_lexer": "ipython3",
   "version": "3.11.3"
  }
 },
 "nbformat": 4,
 "nbformat_minor": 1
}
