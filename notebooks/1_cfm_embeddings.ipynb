{
 "cells": [
  {
   "cell_type": "markdown",
   "source": [
    "# Embedding Orthogonalization\n"
   ],
   "metadata": {
    "collapsed": false
   }
  },
  {
   "cell_type": "code",
   "execution_count": 1,
   "outputs": [],
   "source": [
    "import torch\n",
    "%load_ext autoreload\n",
    "%autoreload 2\n",
    "\n",
    "import os\n",
    "\n",
    "import numpy as np\n",
    "import statsmodels.api as sm\n",
    "from patsy import dmatrices\n",
    "\n",
    "DATA_DIR = '../data'\n",
    "EMBEDDING_FILE = 'cfm/embeddings.npy'\n",
    "META_FILE = 'mimic_meta.csv'\n",
    "\n",
    "REDUCE_DIM = True\n",
    "N_COMPONENTS = 111\n",
    "TARGET_DISEASE = 'Pleural Effusion'"
   ],
   "metadata": {
    "collapsed": false,
    "ExecuteTime": {
     "end_time": "2023-07-28T09:05:47.135903213Z",
     "start_time": "2023-07-28T09:05:43.499001217Z"
    }
   }
  },
  {
   "cell_type": "markdown",
   "source": [
    "## Load Metadata and Embedding"
   ],
   "metadata": {
    "collapsed": false
   }
  },
  {
   "cell_type": "code",
   "execution_count": 2,
   "outputs": [
    {
     "name": "stdout",
     "output_type": "stream",
     "text": [
      "DATASET SIZES: TRAIN 181342 | VAL 1413 | TEST 3041\n"
     ]
    }
   ],
   "source": [
    "from src.utils import get_mimic_meta_data\n",
    "\n",
    "train_df, val_df, test_df = get_mimic_meta_data(os.path.join(DATA_DIR, META_FILE))\n",
    "print(f'DATASET SIZES: TRAIN {len(train_df)} | VAL {len(val_df)} | TEST {len(test_df)}')\n",
    "\n",
    "emb = np.load(os.path.join(DATA_DIR, EMBEDDING_FILE))\n",
    "train_emb = emb[train_df['idx']]\n",
    "test_emb = emb[test_df['idx']]"
   ],
   "metadata": {
    "collapsed": false,
    "ExecuteTime": {
     "end_time": "2023-07-28T09:05:50.923890653Z",
     "start_time": "2023-07-28T09:05:47.138783334Z"
    }
   }
  },
  {
   "cell_type": "markdown",
   "source": [
    "## Apply Dimensionality Reduction"
   ],
   "metadata": {
    "collapsed": false
   }
  },
  {
   "cell_type": "code",
   "execution_count": 3,
   "outputs": [
    {
     "name": "stdout",
     "output_type": "stream",
     "text": [
      "Explained variance: 0.865\n"
     ]
    }
   ],
   "source": [
    "from src.svd import PCA\n",
    "\n",
    "if REDUCE_DIM:\n",
    "    pca = PCA()\n",
    "    pca.fit(train_emb)\n",
    "    print(f'Explained variance: {pca.get_total_variance(N_COMPONENTS):.3f}')\n",
    "\n",
    "    train_emb = pca.transform(train_emb, num_components=N_COMPONENTS)\n",
    "    test_emb = pca.transform(test_emb, num_components=N_COMPONENTS)\n",
    "else:\n",
    "    print('No dimensionality reduction was applied.')"
   ],
   "metadata": {
    "collapsed": false,
    "ExecuteTime": {
     "end_time": "2023-07-28T09:06:14.593051923Z",
     "start_time": "2023-07-28T09:05:50.927747Z"
    }
   }
  },
  {
   "cell_type": "markdown",
   "source": [
    "## Create Response"
   ],
   "metadata": {
    "collapsed": false
   }
  },
  {
   "cell_type": "code",
   "execution_count": 4,
   "outputs": [],
   "source": [
    "# Follow U-zeros strategy for now\n",
    "train_df['response'] = (train_df[TARGET_DISEASE] == 1).astype(int)\n",
    "test_df['response'] = (test_df[TARGET_DISEASE] == 1).astype(int)"
   ],
   "metadata": {
    "collapsed": false,
    "ExecuteTime": {
     "end_time": "2023-07-28T09:06:14.646504773Z",
     "start_time": "2023-07-28T09:06:14.594451106Z"
    }
   }
  },
  {
   "cell_type": "markdown",
   "source": [
    "## Train Base Classifier"
   ],
   "metadata": {
    "collapsed": false
   }
  },
  {
   "cell_type": "code",
   "execution_count": 5,
   "outputs": [],
   "source": [
    "from src.utils import eval_predictions\n",
    "from src.classifier import get_classifier\n",
    "\n",
    "def eval_classifier(x_train, train_df, x_test, test_df):\n",
    "    model = get_classifier('log_reg')\n",
    "    model.fit(x_train, train_df['response'].tolist())\n",
    "    \n",
    "    train_df['preds'] = model.predict_proba(x_train)[:, 1]\n",
    "    test_df['preds'] = model.predict_proba(x_test)[:, 1]\n",
    "    \n",
    "    print('-'*75 + '\\nTRAINING')\n",
    "    eval_predictions(train_df['response'], train_df['preds'])\n",
    "    print('-'*75 + '\\nTESTING')\n",
    "    eval_predictions(test_df['response'], test_df['preds'])"
   ],
   "metadata": {
    "collapsed": false,
    "ExecuteTime": {
     "end_time": "2023-07-28T09:06:16.044067906Z",
     "start_time": "2023-07-28T09:06:14.650582587Z"
    }
   }
  },
  {
   "cell_type": "code",
   "execution_count": 6,
   "outputs": [
    {
     "name": "stderr",
     "output_type": "stream",
     "text": [
      "[Parallel(n_jobs=-1)]: Using backend ThreadingBackend with 4 concurrent workers.\n"
     ]
    },
    {
     "name": "stdout",
     "output_type": "stream",
     "text": [
      "convergence after 15 epochs took 5 seconds\n",
      "---------------------------------------------------------------------------\n",
      "TRAINING\n",
      "METRICS:\tAUC 0.9024 | ACC 0.8468 | SENS 0.6444 | SPEC 0.9153 | PREC 0.7205 | F1 0.6804\n",
      "---------------------------------------------------------------------------\n",
      "TESTING\n",
      "METRICS:\tAUC 0.8687 | ACC 0.8020 | SENS 0.6482 | SPEC 0.8765 | PREC 0.7176 | F1 0.6811\n"
     ]
    }
   ],
   "source": [
    "eval_classifier(\n",
    "    train_emb, train_df, test_emb, test_df\n",
    ")"
   ],
   "metadata": {
    "collapsed": false,
    "ExecuteTime": {
     "end_time": "2023-07-28T09:06:21.585175687Z",
     "start_time": "2023-07-28T09:06:16.045444054Z"
    }
   }
  },
  {
   "cell_type": "markdown",
   "source": [
    "## Explain Predictions with Protected Features"
   ],
   "metadata": {
    "collapsed": false
   }
  },
  {
   "cell_type": "code",
   "execution_count": 7,
   "outputs": [
    {
     "name": "stdout",
     "output_type": "stream",
     "text": [
      "                            OLS Regression Results                            \n",
      "==============================================================================\n",
      "Dep. Variable:                  preds   R-squared:                       0.067\n",
      "Model:                            OLS   Adj. R-squared:                  0.067\n",
      "Method:                 Least Squares   F-statistic:                     3273.\n",
      "Date:                Fri, 28 Jul 2023   Prob (F-statistic):               0.00\n",
      "Time:                        11:06:22   Log-Likelihood:                -25002.\n",
      "No. Observations:              181342   AIC:                         5.001e+04\n",
      "Df Residuals:                  181337   BIC:                         5.006e+04\n",
      "Df Model:                           4                                         \n",
      "Covariance Type:            nonrobust                                         \n",
      "=================================================================================\n",
      "                    coef    std err          t      P>|t|      [0.025      0.975]\n",
      "---------------------------------------------------------------------------------\n",
      "Intercept         0.0251      0.004      5.961      0.000       0.017       0.033\n",
      "sex[T.M]          0.0100      0.001      7.561      0.000       0.007       0.013\n",
      "race[T.BLACK]    -0.0811      0.004    -22.160      0.000      -0.088      -0.074\n",
      "race[T.WHITE]    -0.0099      0.003     -2.894      0.004      -0.017      -0.003\n",
      "age               0.3917      0.004     98.558      0.000       0.384       0.399\n",
      "==============================================================================\n",
      "Omnibus:                    20602.341   Durbin-Watson:                   0.945\n",
      "Prob(Omnibus):                  0.000   Jarque-Bera (JB):            27562.733\n",
      "Skew:                           0.943   Prob(JB):                         0.00\n",
      "Kurtosis:                       2.695   Cond. No.                         14.8\n",
      "==============================================================================\n",
      "\n",
      "Notes:\n",
      "[1] Standard Errors assume that the covariance matrix of the errors is correctly specified.\n",
      "                df        sum_sq     mean_sq            F        PR(>F)\n",
      "sex            1.0      8.814969    8.814969   114.269245  1.158655e-26\n",
      "race           2.0    251.800646  125.900323  1632.057325  0.000000e+00\n",
      "age            1.0    749.329367  749.329367  9713.624653  0.000000e+00\n",
      "Residual  181337.0  13988.716300    0.077142          NaN           NaN\n"
     ]
    }
   ],
   "source": [
    "formula = 'preds ~ 1 + age + sex + race'\n",
    "mod = sm.OLS.from_formula(formula, data=train_df).fit()\n",
    "print(mod.summary())\n",
    "print(sm.stats.anova_lm(mod))"
   ],
   "metadata": {
    "collapsed": false,
    "ExecuteTime": {
     "end_time": "2023-07-28T09:06:22.911188213Z",
     "start_time": "2023-07-28T09:06:21.558887476Z"
    }
   }
  },
  {
   "cell_type": "markdown",
   "source": [
    "## Remove Protected Features from Result Prediction\n",
    "\n",
    "Residuals = part of predictions that can't be explained by protected features"
   ],
   "metadata": {
    "collapsed": false
   }
  },
  {
   "cell_type": "code",
   "execution_count": 8,
   "outputs": [
    {
     "name": "stdout",
     "output_type": "stream",
     "text": [
      "                            OLS Regression Results                            \n",
      "==============================================================================\n",
      "Dep. Variable:         preds_adjusted   R-squared:                       0.000\n",
      "Model:                            OLS   Adj. R-squared:                 -0.000\n",
      "Method:                 Least Squares   F-statistic:                 5.895e-12\n",
      "Date:                Fri, 28 Jul 2023   Prob (F-statistic):               1.00\n",
      "Time:                        11:06:24   Log-Likelihood:                -25002.\n",
      "No. Observations:              181342   AIC:                         5.001e+04\n",
      "Df Residuals:                  181337   BIC:                         5.006e+04\n",
      "Df Model:                           4                                         \n",
      "Covariance Type:            nonrobust                                         \n",
      "=================================================================================\n",
      "                    coef    std err          t      P>|t|      [0.025      0.975]\n",
      "---------------------------------------------------------------------------------\n",
      "Intercept      1.939e-15      0.004    4.6e-13      1.000      -0.008       0.008\n",
      "sex[T.M]      -7.182e-16      0.001  -5.45e-13      1.000      -0.003       0.003\n",
      "race[T.BLACK] -2.856e-15      0.004  -7.81e-13      1.000      -0.007       0.007\n",
      "race[T.WHITE] -3.027e-15      0.003  -8.89e-13      1.000      -0.007       0.007\n",
      "age           -1.091e-15      0.004  -2.75e-13      1.000      -0.008       0.008\n",
      "==============================================================================\n",
      "Omnibus:                    20602.341   Durbin-Watson:                   0.945\n",
      "Prob(Omnibus):                  0.000   Jarque-Bera (JB):            27562.733\n",
      "Skew:                           0.943   Prob(JB):                         0.00\n",
      "Kurtosis:                       2.695   Cond. No.                         14.8\n",
      "==============================================================================\n",
      "\n",
      "Notes:\n",
      "[1] Standard Errors assume that the covariance matrix of the errors is correctly specified.\n"
     ]
    }
   ],
   "source": [
    "train_df['preds_adjusted'] = mod.resid\n",
    "\n",
    "# Check: p-vals should all be one\n",
    "formula = 'preds_adjusted ~ 1 + age + sex + race'\n",
    "mod_check = sm.OLS.from_formula(formula, data=train_df).fit()\n",
    "print(mod_check.summary())"
   ],
   "metadata": {
    "collapsed": false,
    "ExecuteTime": {
     "end_time": "2023-07-28T09:06:24.252307153Z",
     "start_time": "2023-07-28T09:06:22.903470511Z"
    }
   }
  },
  {
   "cell_type": "markdown",
   "source": [
    "## Adjust Embedding"
   ],
   "metadata": {
    "collapsed": false
   }
  },
  {
   "cell_type": "code",
   "execution_count": 9,
   "outputs": [
    {
     "name": "stdout",
     "output_type": "stream",
     "text": [
      "(181342, 5)\n"
     ]
    }
   ],
   "source": [
    "# Create the design matrix\n",
    "formula = '1 ~ age + sex + race'\n",
    "_, x_train = dmatrices(formula, data=train_df)\n",
    "_, x_test = dmatrices(formula, data=test_df)\n",
    "\n",
    "print(x_train.shape)"
   ],
   "metadata": {
    "collapsed": false,
    "ExecuteTime": {
     "end_time": "2023-07-28T09:06:25.537797059Z",
     "start_time": "2023-07-28T09:06:24.250792394Z"
    }
   }
  },
  {
   "cell_type": "code",
   "execution_count": 10,
   "outputs": [],
   "source": [
    "from src.ortho import Orthogonalizator\n",
    "\n",
    "ortho = Orthogonalizator()\n",
    "train_emb_proj = ortho.fit_transform(x_train, train_emb)\n",
    "test_emb_proj = ortho.transform(x_test, test_emb)"
   ],
   "metadata": {
    "collapsed": false,
    "ExecuteTime": {
     "end_time": "2023-07-28T09:06:25.794996201Z",
     "start_time": "2023-07-28T09:06:25.533014145Z"
    }
   }
  },
  {
   "cell_type": "markdown",
   "source": [
    "## Check classifier performance on adjusted embedding"
   ],
   "metadata": {
    "collapsed": false
   }
  },
  {
   "cell_type": "code",
   "execution_count": 11,
   "outputs": [
    {
     "name": "stderr",
     "output_type": "stream",
     "text": [
      "[Parallel(n_jobs=-1)]: Using backend ThreadingBackend with 4 concurrent workers.\n"
     ]
    },
    {
     "name": "stdout",
     "output_type": "stream",
     "text": [
      "convergence after 16 epochs took 6 seconds\n",
      "---------------------------------------------------------------------------\n",
      "TRAINING\n",
      "METRICS:\tAUC 0.8886 | ACC 0.8392 | SENS 0.6039 | SPEC 0.9189 | PREC 0.7162 | F1 0.6553\n",
      "---------------------------------------------------------------------------\n",
      "TESTING\n",
      "METRICS:\tAUC 0.7322 | ACC 0.6932 | SENS 0.6109 | SPEC 0.7330 | PREC 0.5256 | F1 0.5650\n"
     ]
    }
   ],
   "source": [
    "eval_classifier(\n",
    "    train_emb_proj, train_df, test_emb_proj, test_df\n",
    ")"
   ],
   "metadata": {
    "collapsed": false,
    "ExecuteTime": {
     "end_time": "2023-07-28T09:06:32.018608201Z",
     "start_time": "2023-07-28T09:06:25.798617727Z"
    }
   }
  },
  {
   "cell_type": "code",
   "execution_count": 12,
   "outputs": [
    {
     "name": "stdout",
     "output_type": "stream",
     "text": [
      "                            OLS Regression Results                            \n",
      "==============================================================================\n",
      "Dep. Variable:         preds_adjusted   R-squared:                       0.000\n",
      "Model:                            OLS   Adj. R-squared:                 -0.000\n",
      "Method:                 Least Squares   F-statistic:                 5.895e-12\n",
      "Date:                Fri, 28 Jul 2023   Prob (F-statistic):               1.00\n",
      "Time:                        11:06:33   Log-Likelihood:                -25002.\n",
      "No. Observations:              181342   AIC:                         5.001e+04\n",
      "Df Residuals:                  181337   BIC:                         5.006e+04\n",
      "Df Model:                           4                                         \n",
      "Covariance Type:            nonrobust                                         \n",
      "=================================================================================\n",
      "                    coef    std err          t      P>|t|      [0.025      0.975]\n",
      "---------------------------------------------------------------------------------\n",
      "Intercept      1.939e-15      0.004    4.6e-13      1.000      -0.008       0.008\n",
      "sex[T.M]      -7.182e-16      0.001  -5.45e-13      1.000      -0.003       0.003\n",
      "race[T.BLACK] -2.856e-15      0.004  -7.81e-13      1.000      -0.007       0.007\n",
      "race[T.WHITE] -3.027e-15      0.003  -8.89e-13      1.000      -0.007       0.007\n",
      "age           -1.091e-15      0.004  -2.75e-13      1.000      -0.008       0.008\n",
      "==============================================================================\n",
      "Omnibus:                    20602.341   Durbin-Watson:                   0.945\n",
      "Prob(Omnibus):                  0.000   Jarque-Bera (JB):            27562.733\n",
      "Skew:                           0.943   Prob(JB):                         0.00\n",
      "Kurtosis:                       2.695   Cond. No.                         14.8\n",
      "==============================================================================\n",
      "\n",
      "Notes:\n",
      "[1] Standard Errors assume that the covariance matrix of the errors is correctly specified.\n",
      "                df        sum_sq       mean_sq             F  PR(>F)\n",
      "sex            1.0  2.279808e-26  2.279808e-26  2.955336e-25     1.0\n",
      "race           2.0  6.453305e-26  3.226652e-26  4.182739e-25     1.0\n",
      "age            1.0  6.877992e-27  6.877992e-27  8.916003e-26     1.0\n",
      "Residual  181337.0  1.398872e+04  7.714210e-02           NaN     NaN\n"
     ]
    }
   ],
   "source": [
    "formula = 'preds_adjusted ~ 1 + age + sex + race'\n",
    "mod_fixed = sm.OLS.from_formula(formula, data=train_df).fit()\n",
    "print(mod_fixed.summary())\n",
    "print(sm.stats.anova_lm(mod_fixed))"
   ],
   "metadata": {
    "collapsed": false,
    "ExecuteTime": {
     "end_time": "2023-07-28T09:06:33.365840323Z",
     "start_time": "2023-07-28T09:06:31.994585949Z"
    }
   }
  },
  {
   "cell_type": "markdown",
   "source": [
    "## Add Protected Features to classifier"
   ],
   "metadata": {
    "collapsed": false
   }
  },
  {
   "cell_type": "code",
   "execution_count": 13,
   "outputs": [
    {
     "name": "stderr",
     "output_type": "stream",
     "text": [
      "[Parallel(n_jobs=-1)]: Using backend ThreadingBackend with 4 concurrent workers.\n"
     ]
    },
    {
     "name": "stdout",
     "output_type": "stream",
     "text": [
      "convergence after 68 epochs took 26 seconds\n",
      "---------------------------------------------------------------------------\n",
      "TRAINING\n",
      "METRICS:\tAUC 0.9026 | ACC 0.8471 | SENS 0.6458 | SPEC 0.9153 | PREC 0.7208 | F1 0.6812\n",
      "---------------------------------------------------------------------------\n",
      "TESTING\n",
      "METRICS:\tAUC 0.6816 | ACC 0.6304 | SENS 0.6129 | SPEC 0.6388 | PREC 0.4510 | F1 0.5197\n"
     ]
    }
   ],
   "source": [
    "train_mat = np.concatenate([train_emb_proj, x_train], axis=1)\n",
    "test_mat = np.concatenate([test_emb_proj, x_test], axis=1)\n",
    "\n",
    "eval_classifier(\n",
    "    train_mat, train_df, test_mat, test_df\n",
    ")"
   ],
   "metadata": {
    "collapsed": false,
    "ExecuteTime": {
     "end_time": "2023-07-28T09:06:59.662840422Z",
     "start_time": "2023-07-28T09:06:33.364775237Z"
    }
   }
  },
  {
   "cell_type": "markdown",
   "source": [
    "## Classify protected features"
   ],
   "metadata": {
    "collapsed": false
   }
  },
  {
   "cell_type": "code",
   "execution_count": 14,
   "outputs": [
    {
     "name": "stderr",
     "output_type": "stream",
     "text": [
      "[Parallel(n_jobs=-1)]: Using backend ThreadingBackend with 4 concurrent workers.\n"
     ]
    },
    {
     "name": "stdout",
     "output_type": "stream",
     "text": [
      "convergence after 13 epochs took 5 seconds\n",
      "---------------------------------------------------------------------------\n",
      "TRAINING\n",
      "METRICS:\tAUC 0.9650 | ACC 0.9006 | SENS 0.9105 | SPEC 0.8891 | PREC 0.9049 | F1 0.9077\n",
      "---------------------------------------------------------------------------\n",
      "TESTING\n",
      "METRICS:\tAUC 0.9422 | ACC 0.8701 | SENS 0.8926 | SPEC 0.8431 | PREC 0.8721 | F1 0.8823\n"
     ]
    }
   ],
   "source": [
    "train_df['response'] = (train_df['sex'] == 'M').astype(int)\n",
    "test_df['response'] = (test_df['sex'] == 'M').astype(int)\n",
    "\n",
    "eval_classifier(\n",
    "    train_emb, train_df, test_emb, test_df\n",
    ")"
   ],
   "metadata": {
    "collapsed": false,
    "ExecuteTime": {
     "end_time": "2023-07-28T09:07:04.545135392Z",
     "start_time": "2023-07-28T09:06:59.658919041Z"
    }
   }
  },
  {
   "cell_type": "code",
   "execution_count": 15,
   "outputs": [
    {
     "name": "stderr",
     "output_type": "stream",
     "text": [
      "[Parallel(n_jobs=-1)]: Using backend ThreadingBackend with 4 concurrent workers.\n"
     ]
    },
    {
     "name": "stdout",
     "output_type": "stream",
     "text": [
      "Epoch 1, change: 1.00000000\n",
      "Epoch 2, change: 0.14980938\n",
      "Epoch 3, change: 0.13148636\n",
      "Epoch 4, change: 0.04471670\n",
      "Epoch 5, change: 0.03168320\n",
      "Epoch 6, change: 0.01859652\n",
      "Epoch 7, change: 0.00963655\n",
      "Epoch 8, change: 0.00912887\n",
      "Epoch 9, change: 0.00370869\n",
      "Epoch 10, change: 0.00124124\n",
      "Epoch 11, change: 0.00073789\n",
      "Epoch 12, change: 0.00065967\n",
      "Epoch 13, change: 0.00025116\n",
      "Epoch 14, change: 0.00012586\n",
      "Epoch 1, change: 1.00000000\n",
      "Epoch 2, change: 0.13441191\n",
      "Epoch 3, change: 0.07905986\n",
      "Epoch 4, change: 0.05699683\n",
      "Epoch 5, change: 0.02951427\n",
      "Epoch 6, change: 0.02556773\n",
      "Epoch 7, change: 0.01472332\n",
      "Epoch 8, change: 0.00824123\n",
      "Epoch 9, change: 0.00560101\n",
      "Epoch 10, change: 0.00351592\n",
      "Epoch 11, change: 0.00215772\n",
      "Epoch 12, change: 0.00136266\n",
      "Epoch 13, change: 0.00028017\n",
      "Epoch 14, change: 0.00026330\n",
      "Epoch 15, change: 0.00020963\n",
      "Epoch 1, change: 1.00000000\n",
      "Epoch 2, change: 0.46749578\n",
      "Epoch 3, change: 0.24439645\n",
      "Epoch 4, change: 0.15432841\n",
      "Epoch 5, change: 0.11217630\n",
      "Epoch 6, change: 0.08694006\n",
      "Epoch 7, change: 0.06836858\n",
      "Epoch 8, change: 0.05593357\n",
      "Epoch 9, change: 0.04616480\n",
      "Epoch 10, change: 0.03880372\n",
      "Epoch 11, change: 0.03301397\n",
      "Epoch 12, change: 0.02823449\n",
      "Epoch 13, change: 0.02443419\n",
      "Epoch 14, change: 0.02117505\n",
      "Epoch 15, change: 0.01853831\n",
      "Epoch 16, change: 0.01628175\n",
      "Epoch 17, change: 0.01431874\n",
      "Epoch 18, change: 0.01267113\n",
      "Epoch 19, change: 0.01125589\n",
      "Epoch 20, change: 0.01001743\n",
      "Epoch 21, change: 0.00892883\n",
      "Epoch 22, change: 0.00801304\n",
      "Epoch 23, change: 0.00714104\n",
      "Epoch 24, change: 0.00642601\n",
      "Epoch 25, change: 0.00576197\n",
      "Epoch 26, change: 0.00518415\n",
      "Epoch 27, change: 0.00468414\n",
      "Epoch 28, change: 0.00422802\n",
      "Epoch 29, change: 0.00381713\n",
      "Epoch 30, change: 0.00343613\n",
      "Epoch 31, change: 0.00311772\n",
      "Epoch 32, change: 0.00281832\n",
      "Epoch 33, change: 0.00255500\n",
      "Epoch 34, change: 0.00231177\n",
      "Epoch 35, change: 0.00209643\n",
      "Epoch 36, change: 0.00190607\n",
      "Epoch 37, change: 0.00172801\n",
      "Epoch 38, change: 0.00156693\n",
      "Epoch 39, change: 0.00142585\n",
      "Epoch 40, change: 0.00129357\n",
      "Epoch 41, change: 0.00117466\n",
      "Epoch 42, change: 0.00106889\n",
      "Epoch 43, change: 0.00097175\n",
      "Epoch 44, change: 0.00088454\n",
      "Epoch 45, change: 0.00080434\n",
      "Epoch 46, change: 0.00073044\n",
      "Epoch 47, change: 0.00066604\n",
      "Epoch 48, change: 0.00060473\n",
      "Epoch 49, change: 0.00055126\n",
      "Epoch 50, change: 0.00050120\n",
      "Epoch 51, change: 0.00045631\n",
      "Epoch 52, change: 0.00041580\n",
      "Epoch 53, change: 0.00037760\n",
      "Epoch 54, change: 0.00034400\n",
      "Epoch 55, change: 0.00031319\n",
      "Epoch 56, change: 0.00028564\n",
      "Epoch 57, change: 0.00025973\n",
      "Epoch 58, change: 0.00023688\n",
      "Epoch 59, change: 0.00021534\n",
      "Epoch 60, change: 0.00019647\n",
      "Epoch 61, change: 0.00017912\n",
      "Epoch 62, change: 0.00016306\n",
      "Epoch 63, change: 0.00014837\n",
      "Epoch 64, change: 0.00013541\n",
      "Epoch 65, change: 0.00012308\n",
      "Epoch 66, change: 0.00011222\n",
      "Epoch 67, change: 0.00010213\n",
      "Epoch 1, change: 1.00000000\n",
      "Epoch 2, change: 0.04350361\n",
      "Epoch 3, change: 0.03261359\n",
      "Epoch 4, change: 0.01139244\n",
      "Epoch 5, change: 0.00975851\n",
      "Epoch 6, change: 0.00462149\n",
      "Epoch 7, change: 0.00389968\n",
      "Epoch 8, change: 0.00367139\n",
      "Epoch 9, change: 0.00284237\n",
      "Epoch 10, change: 0.00036377\n",
      "Epoch 11, change: 0.00027765\n",
      "Epoch 12, change: 0.00021898\n",
      "Epoch 1, change: 1.00000000\n",
      "Epoch 2, change: 1.49600613\n",
      "Epoch 3, change: 2.08008392\n",
      "Epoch 4, change: 2.11948902\n",
      "Epoch 5, change: 1.71969770\n",
      "Epoch 6, change: 2.36635303\n",
      "Epoch 7, change: 2.11395589\n",
      "Epoch 8, change: 0.96731733\n",
      "Epoch 9, change: 2.54767553\n",
      "Epoch 10, change: 2.40099870\n",
      "Epoch 11, change: 1.36999962\n",
      "Epoch 12, change: 2.54669540\n",
      "Epoch 13, change: 2.21866744\n",
      "Epoch 14, change: 2.31083592\n",
      "Epoch 15, change: 1.92682480\n",
      "Epoch 16, change: 1.60450388\n",
      "Epoch 17, change: 1.87216745\n",
      "Epoch 18, change: 1.78310671\n",
      "Epoch 19, change: 4.07035861\n",
      "Epoch 20, change: 1.00168583\n",
      "Epoch 21, change: 14.07719680\n",
      "Epoch 22, change: 1.41155704\n",
      "Epoch 23, change: 3.52178227\n",
      "Epoch 24, change: 2.03925033\n",
      "Epoch 25, change: 2.27684462\n",
      "Epoch 26, change: 1.61408959\n",
      "Epoch 27, change: 1.96696971\n",
      "Epoch 28, change: 1.75118607\n",
      "Epoch 29, change: 1.37365307\n",
      "Epoch 30, change: 4.81217344\n",
      "Epoch 31, change: 2.06597005\n",
      "Epoch 32, change: 1.78056140\n",
      "Epoch 33, change: 1.85274686\n",
      "Epoch 34, change: 2.18314528\n",
      "Epoch 35, change: 2.30max_iter reached after 36 seconds\n",
      "---------------------------------------------------------------------------\n",
      "TRAINING\n",
      "METRICS:\tAUC 0.5139 | ACC 0.5369 | SENS 1.0000 | SPEC 0.0000 | PREC 0.5369 | F1 0.6987\n",
      "---------------------------------------------------------------------------\n",
      "TESTING\n"
     ]
    },
    {
     "name": "stderr",
     "output_type": "stream",
     "text": [
      "/home/tobias/Projects/chexray-ortho/.venv/lib/python3.11/site-packages/sklearn/linear_model/_sag.py:350: ConvergenceWarning: The max_iter was reached which means the coef_ did not converge\n",
      "  warnings.warn(\n"
     ]
    },
    {
     "name": "stdout",
     "output_type": "stream",
     "text": [
      "METRICS:\tAUC 0.3867 | ACC 0.5452 | SENS 1.0000 | SPEC 0.0000 | PREC 0.5452 | F1 0.7057\n"
     ]
    }
   ],
   "source": [
    "eval_classifier(\n",
    "    train_emb_proj, train_df, test_emb_proj, test_df\n",
    ")"
   ],
   "metadata": {
    "collapsed": false,
    "ExecuteTime": {
     "end_time": "2023-07-28T09:07:40.934265702Z",
     "start_time": "2023-07-28T09:07:04.546139855Z"
    }
   }
  },
  {
   "cell_type": "code",
   "execution_count": 16,
   "outputs": [
    {
     "name": "stderr",
     "output_type": "stream",
     "text": [
      "/home/tobias/Projects/chexray-ortho/.venv/lib/python3.11/site-packages/torch/nn/modules/lazy.py:180: UserWarning: Lazy modules are a new feature under heavy development so changes to the API or functionality can happen at any moment.\n",
      "  warnings.warn('Lazy modules are a new feature under heavy development '\n",
      "GPU available: True (cuda), used: True\n",
      "TPU available: False, using: 0 TPU cores\n",
      "IPU available: False, using: 0 IPUs\n",
      "HPU available: False, using: 0 HPUs\n",
      "LOCAL_RANK: 0 - CUDA_VISIBLE_DEVICES: [0]\n"
     ]
    },
    {
     "data": {
      "text/plain": "Training: 0it [00:00, ?it/s]",
      "application/vnd.jupyter.widget-view+json": {
       "version_major": 2,
       "version_minor": 0,
       "model_id": "dd9126168883453289e2a8bfd7c657e3"
      }
     },
     "metadata": {},
     "output_type": "display_data"
    },
    {
     "name": "stdout",
     "output_type": "stream",
     "text": [
      "241015\n",
      "Epoch 36, change: 1.87438446\n",
      "Epoch 37, change: 1.55961051\n",
      "Epoch 38, change: 3.49802575\n",
      "Epoch 39, change: 1.83379888\n",
      "Epoch 40, change: 1.68381943\n",
      "Epoch 41, change: 1.73947155\n",
      "Epoch 42, change: 1.57412141\n",
      "Epoch 43, change: 1.02288832\n",
      "Epoch 44, change: 6.81753734\n",
      "Epoch 45, change: 2.87161605\n",
      "Epoch 46, change: 1.68801175\n",
      "Epoch 47, change: 1.83506868\n",
      "Epoch 48, change: 2.37425467\n",
      "Epoch 49, change: 1.43710467\n",
      "Epoch 50, change: 1.86786911\n",
      "Epoch 51, change: 2.80188482\n",
      "Epoch 52, change: 2.06790894\n",
      "Epoch 53, change: 1.17473754\n",
      "Epoch 54, change: 1.03575915\n",
      "Epoch 55, change: 0.91598523\n",
      "Epoch 56, change: 0.46967634\n",
      "Epoch 57, change: 0.35515399\n",
      "Epoch 58, change: 0.14261441\n",
      "Epoch 59, change: 0.08090452\n",
      "Epoch 60, change: 0.04026404\n",
      "Epoch 61, change: 0.11100092\n",
      "Epoch 62, change: 0.07783642\n",
      "Epoch 63, change: 0.01064036\n",
      "Epoch 64, change: 0.00474440\n",
      "Epoch 65, change: 0.00305893\n",
      "Epoch 66, change: 0.00317668\n",
      "Epoch 67, change: 0.00142810\n",
      "Epoch 68, change: 0.00105598\n",
      "Epoch 69, change: 0.00079734\n",
      "Epoch 70, change: 0.00048405\n",
      "Epoch 71, change: 0.00034740\n",
      "Epoch 72, change: 0.00030289\n",
      "Epoch 73, change: 0.00028549\n",
      "Epoch 74, change: 0.00032198\n",
      "Epoch 75, change: 0.00029144\n",
      "Epoch 76, change: 0.00026217\n",
      "Epoch 77, change: 0.00027839\n",
      "Epoch 78, change: 0.00028250\n",
      "Epoch 79, change: 0.00024552\n",
      "Epoch 80, change: 0.00025467\n",
      "Epoch 81, change: 0.00034611\n",
      "Epoch 82, change: 0.00029205\n",
      "Epoch 83, change: 0.00028280\n",
      "Epoch 84, change: 0.00028207\n",
      "Epoch 85, change: 0.00027121\n",
      "Epoch 86, change: 0.00031993\n",
      "Epoch 87, change: 0.00031185\n",
      "Epoch 88, change: 0.00029647\n",
      "Epoch 89, change: 0.00034155\n",
      "Epoch 90, change: 0.00027160\n",
      "Epoch 91, change: 0.00027255\n",
      "Epoch 92, change: 0.00024559\n",
      "Epoch 93, change: 0.00026065\n",
      "Epoch 94, change: 0.00026365\n",
      "Epoch 95, change: 0.00027075\n",
      "Epoch 96, change: 0.00029877\n",
      "Epoch 97, change: 0.00027965\n",
      "Epoch 98, change: 0.00024878\n",
      "Epoch 99, change: 0.00027226\n",
      "Epoch 100, change: 0.00030527\n"
     ]
    },
    {
     "name": "stderr",
     "output_type": "stream",
     "text": [
      "`Trainer.fit` stopped: `max_epochs=3` reached.\n"
     ]
    },
    {
     "name": "stdout",
     "output_type": "stream",
     "text": [
      "---------------------------------------------------------------------------\n",
      "TRAINING\n",
      "METRICS:\tAUC 0.9945 | ACC 0.9639 | SENS 0.9642 | SPEC 0.9636 | PREC 0.9685 | F1 0.9663\n",
      "---------------------------------------------------------------------------\n",
      "TESTING\n",
      "METRICS:\tAUC 0.0000 | ACC 0.0023 | SENS 0.0042 | SPEC 0.0000 | PREC 0.0050 | F1 0.0046\n"
     ]
    }
   ],
   "source": [
    "model = get_classifier('nn_nl')\n",
    "model.fit(train_emb_proj, train_df['response'].tolist())\n",
    "\n",
    "train_df['preds'] = model.predict_proba(train_emb_proj)[:, 1]\n",
    "test_df['preds'] = model.predict_proba(test_emb_proj)[:, 1]\n",
    "\n",
    "print('-'*75 + '\\nTRAINING')\n",
    "eval_predictions(train_df['response'], train_df['preds'])\n",
    "print('-'*75 + '\\nTESTING')\n",
    "eval_predictions(test_df['response'], test_df['preds'])"
   ],
   "metadata": {
    "collapsed": false,
    "ExecuteTime": {
     "end_time": "2023-07-28T09:08:02.647028470Z",
     "start_time": "2023-07-28T09:07:40.937326118Z"
    }
   }
  },
  {
   "cell_type": "markdown",
   "source": [
    "## Project adjusted embedding back to original data space and classify again"
   ],
   "metadata": {
    "collapsed": false
   }
  },
  {
   "cell_type": "code",
   "execution_count": 17,
   "outputs": [
    {
     "name": "stderr",
     "output_type": "stream",
     "text": [
      "[Parallel(n_jobs=-1)]: Using backend ThreadingBackend with 4 concurrent workers.\n"
     ]
    },
    {
     "name": "stdout",
     "output_type": "stream",
     "text": [
      "Epoch 1, change: 1.00000000\n",
      "Epoch 2, change: 1.91544063\n",
      "Epoch 3, change: 1.46506476\n",
      "Epoch 4, change: 1.43527983\n",
      "Epoch 5, change: 1.34011513\n",
      "Epoch 6, change: 0.75676905\n",
      "Epoch 7, change: 0.49818115\n",
      "Epoch 8, change: 0.29325784\n",
      "Epoch 9, change: 0.13349679\n",
      "Epoch 10, change: 0.11648425\n",
      "Epoch 11, change: 0.07984129\n",
      "Epoch 12, change: 0.04955771\n",
      "Epoch 13, change: 0.03064817\n",
      "Epoch 14, change: 0.01649530\n",
      "Epoch 15, change: 0.01167858\n",
      "Epoch 16, change: 0.01906994\n",
      "Epoch 17, change: 0.01844331\n",
      "Epoch 18, change: 0.00328936\n",
      "Epoch 19, change: 0.00114379\n",
      "Epoch 20, change: 0.00104578\n",
      "Epoch 21, change: 0.00062626\n",
      "Epoch 22, change: 0.00029460\n",
      "Epoch 23, change: 0.00027166\n",
      "Epoch 24, change: 0.00011502\n",
      "convergence after 25 epochs took 93 seconds\n",
      "---------------------------------------------------------------------------\n",
      "TRAINING\n",
      "METRICS:\tAUC 0.5014 | ACC 0.5369 | SENS 1.0000 | SPEC 0.0000 | PREC 0.5369 | F1 0.6987\n",
      "---------------------------------------------------------------------------\n",
      "TESTING\n",
      "METRICS:\tAUC 0.4613 | ACC 0.5452 | SENS 1.0000 | SPEC 0.0000 | PREC 0.5452 | F1 0.7057\n"
     ]
    }
   ],
   "source": [
    "eval_classifier(\n",
    "    pca.inverse_transform(train_emb_proj), \n",
    "    train_df, \n",
    "    pca.inverse_transform(test_emb_proj),\n",
    "    test_df\n",
    ")"
   ],
   "metadata": {
    "collapsed": false,
    "ExecuteTime": {
     "end_time": "2023-07-28T09:09:40.624775895Z",
     "start_time": "2023-07-28T09:08:02.651640143Z"
    }
   }
  }
 ],
 "metadata": {
  "kernelspec": {
   "display_name": "Python 3",
   "language": "python",
   "name": "python3"
  },
  "language_info": {
   "codemirror_mode": {
    "name": "ipython",
    "version": 2
   },
   "file_extension": ".py",
   "mimetype": "text/x-python",
   "name": "python",
   "nbconvert_exporter": "python",
   "pygments_lexer": "ipython2",
   "version": "2.7.6"
  }
 },
 "nbformat": 4,
 "nbformat_minor": 0
}
